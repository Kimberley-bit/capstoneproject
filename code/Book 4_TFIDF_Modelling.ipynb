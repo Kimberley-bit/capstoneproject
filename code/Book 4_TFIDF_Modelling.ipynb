{
 "cells": [
  {
   "cell_type": "markdown",
   "id": "91cf822f",
   "metadata": {},
   "source": [
    "## Book 4_TFDIF_Modelling"
   ]
  },
  {
   "cell_type": "markdown",
   "id": "1f5790c9",
   "metadata": {},
   "source": [
    "*Note: I was unable to upload all of the datasets that I have used in these notebooks onto github because of how big the size of the file was. But if you have any questions feel free to reach out to me thank you :)*"
   ]
  },
  {
   "cell_type": "markdown",
   "id": "35e079ac",
   "metadata": {},
   "source": [
    "This book focuses on the modelling techniques for count vectorizer. \n",
    "The modelling techniques are listed below:\n",
    "    \n",
    "    1.1: Naive Bayes\n",
    "        1.1.1: Bernoulli Naive Bayes\n",
    "        1.1.2: Multinomial Naive Bayes\n",
    "        1.1.3: Gaussian Naive Bayes\n",
    "        1.1.4: Hyperparameter Tuning (Bernoulli NB)\n",
    "        1.1.5: Hyperparameter Tuning (Gaussian NB)\n",
    "    1.2: Logistic Regression\n",
    "    1.3: Adaboost\n",
    "    1.4: KNN (K-Nearest-Neighbor)\n",
    "    1.5: SVM Classifier\n",
    "    1.6: Optimise and Model Evaluation \n"
   ]
  },
  {
   "cell_type": "code",
   "execution_count": 1,
   "id": "03ecdd1e",
   "metadata": {},
   "outputs": [],
   "source": [
    "import pandas as pd\n",
    "import numpy as np\n",
    "\n",
    "# for modelling\n",
    "from sklearn.model_selection import train_test_split, cross_val_score\n",
    "from sklearn.preprocessing import StandardScaler\n",
    "from sklearn.metrics import accuracy_score,recall_score,precision_score,f1_score\n",
    "from sklearn.metrics import confusion_matrix\n",
    "from sklearn.linear_model import LogisticRegression\n",
    "from sklearn.metrics import confusion_matrix, roc_auc_score, plot_roc_curve, plot_confusion_matrix\n",
    "import matplotlib.pyplot as plt\n",
    "\n",
    "# for Model Tuning\n",
    "from sklearn.model_selection import GridSearchCV\n",
    "from sklearn.pipeline import Pipeline\n",
    "import warnings\n",
    "warnings.filterwarnings('ignore')\n",
    "from time import time\n",
    "from sklearn.model_selection import train_test_split, GridSearchCV\n",
    "from sklearn.preprocessing import MinMaxScaler\n",
    "from sklearn.linear_model import LogisticRegression\n",
    "from sklearn.pipeline import Pipeline\n",
    "from sklearn.naive_bayes import MultinomialNB\n",
    "from sklearn.metrics import confusion_matrix, roc_auc_score, plot_roc_curve, plot_confusion_matrix\n",
    "from sklearn.neighbors import KNeighborsClassifier\n",
    "from sklearn.tree import DecisionTreeClassifier\n",
    "from sklearn.svm import SVC\n",
    "from time import time\n",
    "from sklearn.ensemble import BaggingClassifier, AdaBoostClassifier, GradientBoostingClassifier\n",
    "\n",
    "from sklearn import metrics\n",
    "from sklearn.ensemble import RandomForestClassifier\n",
    "\n",
    "from sklearn.metrics import classification_report\n",
    "from sklearn.metrics import accuracy_score\n",
    "from sklearn.naive_bayes import BernoulliNB\n",
    "from sklearn.naive_bayes import GaussianNB\n",
    "from sklearn.naive_bayes import MultinomialNB\n",
    "from sklearn.preprocessing import MinMaxScaler\n",
    "\n",
    "pd.set_option('display.max_columns', None)\n",
    "pd.set_option('display.max_rows', None)"
   ]
  },
  {
   "cell_type": "code",
   "execution_count": 2,
   "id": "54e98c53",
   "metadata": {},
   "outputs": [],
   "source": [
    "# Importing CV\n",
    "X_counts_df = pd.read_csv('../data/X_tfidf_df.csv')"
   ]
  },
  {
   "cell_type": "code",
   "execution_count": 3,
   "id": "287a0f6a",
   "metadata": {},
   "outputs": [],
   "source": [
    "# Importing \n",
    "suicide_merged = pd.read_csv('../data/suicide_merged.csv')"
   ]
  },
  {
   "cell_type": "code",
   "execution_count": 4,
   "id": "60665263",
   "metadata": {},
   "outputs": [],
   "source": [
    "di = {'suicide': 1, 'non-suicide' : 0}\n",
    "suicide_merged['class'] = suicide_merged['class'].map(di)"
   ]
  },
  {
   "cell_type": "code",
   "execution_count": 5,
   "id": "309928f2",
   "metadata": {},
   "outputs": [
    {
     "data": {
      "text/plain": [
       "(4000, 15)"
      ]
     },
     "execution_count": 5,
     "metadata": {},
     "output_type": "execute_result"
    }
   ],
   "source": [
    "suicide_merged.shape"
   ]
  },
  {
   "cell_type": "code",
   "execution_count": 6,
   "id": "a99c5b46",
   "metadata": {},
   "outputs": [
    {
     "data": {
      "text/plain": [
       "0    2000\n",
       "1    2000\n",
       "Name: class, dtype: int64"
      ]
     },
     "execution_count": 6,
     "metadata": {},
     "output_type": "execute_result"
    }
   ],
   "source": [
    "suicide_merged['class'].value_counts()"
   ]
  },
  {
   "cell_type": "code",
   "execution_count": 7,
   "id": "c38c96e4",
   "metadata": {},
   "outputs": [],
   "source": [
    "# assigning X and y \n",
    "X = X_counts_df\n",
    "y = suicide_merged['class']"
   ]
  },
  {
   "cell_type": "code",
   "execution_count": 8,
   "id": "4245421a",
   "metadata": {},
   "outputs": [
    {
     "data": {
      "text/plain": [
       "0    1\n",
       "1    1\n",
       "2    1\n",
       "3    1\n",
       "4    1\n",
       "Name: class, dtype: int64"
      ]
     },
     "execution_count": 8,
     "metadata": {},
     "output_type": "execute_result"
    }
   ],
   "source": [
    "y.head()"
   ]
  },
  {
   "cell_type": "code",
   "execution_count": 9,
   "id": "d771a3f8",
   "metadata": {},
   "outputs": [
    {
     "data": {
      "text/plain": [
       "3995    1\n",
       "3996    1\n",
       "3997    1\n",
       "3998    1\n",
       "3999    1\n",
       "Name: class, dtype: int64"
      ]
     },
     "execution_count": 9,
     "metadata": {},
     "output_type": "execute_result"
    }
   ],
   "source": [
    "y.tail()"
   ]
  },
  {
   "cell_type": "markdown",
   "id": "48886233",
   "metadata": {},
   "source": [
    "#### Train, Test, Split"
   ]
  },
  {
   "cell_type": "code",
   "execution_count": 10,
   "id": "1581f38b",
   "metadata": {},
   "outputs": [],
   "source": [
    "X_train, X_test, y_train, y_test = train_test_split(X,\n",
    "                                                    y,\n",
    "                                                    test_size=0.25,\n",
    "                                                    random_state=42)"
   ]
  },
  {
   "cell_type": "code",
   "execution_count": 11,
   "id": "bf432270",
   "metadata": {},
   "outputs": [],
   "source": [
    "# Baseline score"
   ]
  },
  {
   "cell_type": "code",
   "execution_count": 12,
   "id": "81cefd21",
   "metadata": {},
   "outputs": [],
   "source": [
    "ss= StandardScaler()\n",
    "ss.fit(X_train)\n",
    "X_train = ss.transform(X_train)\n",
    "X_test = ss.transform(X_test)"
   ]
  },
  {
   "cell_type": "markdown",
   "id": "de02aad9",
   "metadata": {},
   "source": [
    "## 1.1: Naive Bayes"
   ]
  },
  {
   "cell_type": "markdown",
   "id": "5c9b9bf5",
   "metadata": {},
   "source": [
    "#### 1.1.1: Bernoulli Naive Bayes"
   ]
  },
  {
   "cell_type": "code",
   "execution_count": 13,
   "id": "e916c000",
   "metadata": {},
   "outputs": [
    {
     "name": "stdout",
     "output_type": "stream",
     "text": [
      "BernoulliNB(binarize=True)\n",
      "0.8193333333333334\n",
      "0.9376666666666666\n",
      "0.82\n",
      "0.82\n"
     ]
    }
   ],
   "source": [
    "BernNB = BernoulliNB(binarize=True)\n",
    "BernNB.fit(X_train, y_train)\n",
    "print(BernNB)\n",
    "\n",
    "y_expect = y_test\n",
    "y_pred = BernNB.predict(X_test)\n",
    "\n",
    "# Cross-Validation\n",
    "print(cross_val_score(BernNB, X_train, y_train, cv = 5).mean())\n",
    "\n",
    "# Accuracy score of train\n",
    "print(BernNB.score(X_train, y_train))\n",
    "\n",
    "# Accuracy score of test\n",
    "print(BernNB.score(X_test, y_test))\n",
    "\n",
    "# Accuracy for y_expect and y_pred\n",
    "print(accuracy_score(y_expect, y_pred))"
   ]
  },
  {
   "cell_type": "markdown",
   "id": "8c4c1f72",
   "metadata": {},
   "source": [
    " #### 1.1.2: Multinomial Naive Bayes"
   ]
  },
  {
   "cell_type": "code",
   "execution_count": 14,
   "id": "36cfe7b7",
   "metadata": {},
   "outputs": [],
   "source": [
    "#MultiNB = MultinomialNB()\n",
    "#MultiNB.fit(X_train, y_train)\n",
    "#print(MultiNB)\n",
    "\n",
    "#y_pred = MultiNB.predict(X_test)\n",
    "\n",
    "# Cross-Validation\n",
    "#print(cross_val_score(MultiNB, X_train, y_train, cv = 5).mean())\n",
    "\n",
    "# Accuracy score of train\n",
    "#print(MultiNB.score(X_train, y_train))\n",
    "\n",
    "# Accuracy score of test\n",
    "#print(MultiNB.score(X_test, y_test))\n",
    "\n",
    "# Accuracy for y_test and y_pred\n",
    "#print(accuracy_score(y_test, y_pred))"
   ]
  },
  {
   "cell_type": "markdown",
   "id": "1432e6c0",
   "metadata": {},
   "source": [
    "#### 1.1.3: Gaussian Naive Bayes"
   ]
  },
  {
   "cell_type": "code",
   "execution_count": 15,
   "id": "4a1b0857",
   "metadata": {},
   "outputs": [
    {
     "name": "stdout",
     "output_type": "stream",
     "text": [
      "GaussianNB()\n",
      "0.5663333333333334\n",
      "0.897\n",
      "0.529\n",
      "0.529\n"
     ]
    }
   ],
   "source": [
    "GausNB = GaussianNB()\n",
    "GausNB.fit(X_train, y_train)\n",
    "print(GausNB)\n",
    "\n",
    "y_pred = GausNB.predict(X_test)\n",
    "\n",
    "# Cross-Validation\n",
    "print(cross_val_score(GausNB, X_train, y_train, cv = 5).mean())\n",
    "\n",
    "# Accuracy score of train\n",
    "print(GausNB.score(X_train, y_train))\n",
    "\n",
    "# Accuracy score of test\n",
    "print(GausNB.score(X_test, y_test))\n",
    "\n",
    "# Accuracy for y_test and y_pred\n",
    "print(accuracy_score(y_test, y_pred))"
   ]
  },
  {
   "cell_type": "markdown",
   "id": "e6b95110",
   "metadata": {},
   "source": [
    "#### 1.1.4: Optimisation of Bernoulli Naive Bayes"
   ]
  },
  {
   "cell_type": "code",
   "execution_count": 16,
   "id": "4bc62ff0",
   "metadata": {},
   "outputs": [
    {
     "name": "stdout",
     "output_type": "stream",
     "text": [
      "BernoulliNB(binarize=0.1)\n",
      "0.7186666666666667\n",
      "0.8956666666666667\n",
      "0.743\n",
      "0.743\n"
     ]
    }
   ],
   "source": [
    "BernNB = BernoulliNB(binarize = 0.1)\n",
    "BernNB.fit(X_train, y_train)\n",
    "print(BernNB)\n",
    "\n",
    "y_expect = y_test\n",
    "\n",
    "# Predicting Y = subreddit \n",
    "y_pred = BernNB.predict(X_test)\n",
    "\n",
    "# Cross-Validation\n",
    "print(cross_val_score(BernNB, X_train, y_train, cv = 5).mean())\n",
    "\n",
    "# Accuracy score of train\n",
    "print(BernNB.score(X_train, y_train))\n",
    "\n",
    "# Accuracy score of test\n",
    "print(BernNB.score(X_test, y_test))\n",
    "\n",
    "# Accuracy for y_expect and y_pred\n",
    "print(accuracy_score(y_expect, y_pred))"
   ]
  },
  {
   "cell_type": "code",
   "execution_count": 17,
   "id": "eb58058c",
   "metadata": {},
   "outputs": [
    {
     "name": "stdout",
     "output_type": "stream",
     "text": [
      "BernoulliNB(binarize=True)\n"
     ]
    }
   ],
   "source": [
    "BernNB = BernoulliNB(binarize=True)\n",
    "BernNB.fit(X_train, y_train)\n",
    "print(BernNB)\n",
    "\n",
    "y_expect = y_test\n",
    "y_pred = BernNB.predict(X_test)"
   ]
  },
  {
   "cell_type": "markdown",
   "id": "a969e1ad",
   "metadata": {},
   "source": [
    "#### Initial Evaluation (BernoulliNB)"
   ]
  },
  {
   "cell_type": "code",
   "execution_count": 18,
   "id": "5e714f0d",
   "metadata": {},
   "outputs": [
    {
     "name": "stdout",
     "output_type": "stream",
     "text": [
      "              precision    recall  f1-score   support\n",
      "\n",
      "           0       0.92      0.70      0.80       498\n",
      "           1       0.76      0.94      0.84       502\n",
      "\n",
      "    accuracy                           0.82      1000\n",
      "   macro avg       0.84      0.82      0.82      1000\n",
      "weighted avg       0.84      0.82      0.82      1000\n",
      "\n"
     ]
    }
   ],
   "source": [
    "# classification report\n",
    "print(classification_report(y_test, y_pred))"
   ]
  },
  {
   "cell_type": "code",
   "execution_count": 19,
   "id": "dfe8a15a",
   "metadata": {},
   "outputs": [
    {
     "name": "stdout",
     "output_type": "stream",
     "text": [
      "accuracy score: 0.82\n",
      "precision score: 0.7605177993527508\n",
      "recall score: 0.9362549800796812\n",
      "specificity score: 0.7028112449799196\n"
     ]
    }
   ],
   "source": [
    "# Current score without tuning\n",
    "cm = confusion_matrix(y_test, y_pred)\n",
    "\n",
    "tn, fp, fn, tp = cm.ravel()\n",
    "\n",
    "# scores\n",
    "accuracy_score = accuracy_score(y_test, y_pred)\n",
    "precision_score = precision_score(y_test, y_pred)\n",
    "recall_score = recall_score = recall_score(y_test, y_pred)\n",
    "specificity_score = tn / (tn + fp)\n",
    "\n",
    "print('accuracy score: ' + str(accuracy_score))\n",
    "print('precision score: ' + str(precision_score))\n",
    "print('recall score: ' + str(recall_score))\n",
    "print('specificity score: ' + str(specificity_score))"
   ]
  },
  {
   "cell_type": "markdown",
   "id": "fcd3b8f0",
   "metadata": {},
   "source": [
    "#### 1.1.4: Hyperparameter Tuning (Bernoulli NB)"
   ]
  },
  {
   "cell_type": "code",
   "execution_count": 20,
   "id": "8edaa700",
   "metadata": {},
   "outputs": [
    {
     "data": {
      "text/plain": [
       "{'alpha': 1.0, 'binarize': 0.0, 'class_prior': None, 'fit_prior': True}"
      ]
     },
     "execution_count": 20,
     "metadata": {},
     "output_type": "execute_result"
    }
   ],
   "source": [
    "# getting the parasms\n",
    "BernoulliNB().get_params(deep=True)"
   ]
  },
  {
   "cell_type": "code",
   "execution_count": 21,
   "id": "27c379b1",
   "metadata": {},
   "outputs": [
    {
     "name": "stdout",
     "output_type": "stream",
     "text": [
      "Best bnb Parameters: Pipeline(steps=[('ss', StandardScaler()), ('bnb', BernoulliNB(alpha=1.5))])\n",
      "Fit time:  19.365s\n"
     ]
    }
   ],
   "source": [
    "# Tuning for BernoulliNB \n",
    "bnb = Pipeline([\n",
    "    ('ss', StandardScaler()),\n",
    "    ('bnb', BernoulliNB())\n",
    "])\n",
    "\n",
    "pipe_params = {\n",
    "    'bnb__alpha': [0.5, 1, 1.5],\n",
    "}\n",
    "\n",
    "gs_bnb = GridSearchCV(bnb, # what object are we optimizing?\n",
    "                  param_grid=pipe_params, # what parameters values are we searching?\n",
    "                  cv=5) # 5-fold cross-validation.\n",
    "t0 = time()\n",
    "gs_bnb.fit(X_train, y_train)\n",
    "bnb_test_time = time() - t0\n",
    "print('Best bnb Parameters:', gs_bnb.best_estimator_)\n",
    "print('Fit time:  %0.3fs' % bnb_test_time);"
   ]
  },
  {
   "cell_type": "markdown",
   "id": "075b36f9",
   "metadata": {},
   "source": [
    "#### 1.1.5: Hyperparameter Tuning (Gaussian NB)"
   ]
  },
  {
   "cell_type": "code",
   "execution_count": 22,
   "id": "b3320188",
   "metadata": {},
   "outputs": [
    {
     "data": {
      "text/plain": [
       "{'priors': None, 'var_smoothing': 1e-09}"
      ]
     },
     "execution_count": 22,
     "metadata": {},
     "output_type": "execute_result"
    }
   ],
   "source": [
    "GaussianNB().get_params(deep=True)"
   ]
  },
  {
   "cell_type": "code",
   "execution_count": 23,
   "id": "dee85e2c",
   "metadata": {},
   "outputs": [
    {
     "name": "stdout",
     "output_type": "stream",
     "text": [
      "Best gnb Parameters: Pipeline(steps=[('ss', StandardScaler()),\n",
      "                ('gnb', GaussianNB(var_smoothing=0.2848035868435802))])\n",
      "Fit time:  734.149s\n"
     ]
    }
   ],
   "source": [
    "# Tuning for GaussianNB \n",
    "gnb = Pipeline([\n",
    "    ('ss', StandardScaler()),\n",
    "    ('gnb', GaussianNB() )\n",
    "])\n",
    "\n",
    "pipe_params = {\n",
    "    'gnb__var_smoothing': np.logspace(0,-9, num=100),\n",
    "}\n",
    "\n",
    "gs_gnb = GridSearchCV(gnb, # what object are we optimizing?\n",
    "                  param_grid=pipe_params, # what parameters values are we searching?\n",
    "                  cv=5) # 5-fold cross-validation.\n",
    "t0 = time()\n",
    "gs_gnb.fit(X_train, y_train)\n",
    "gnb_test_time = time() - t0\n",
    "print('Best gnb Parameters:', gs_gnb.best_estimator_)\n",
    "print('Fit time:  %0.3fs' % gnb_test_time);"
   ]
  },
  {
   "cell_type": "markdown",
   "id": "3f532449",
   "metadata": {},
   "source": [
    "#### Optimise and Evaluate Model"
   ]
  },
  {
   "cell_type": "code",
   "execution_count": 24,
   "id": "57133457",
   "metadata": {},
   "outputs": [
    {
     "name": "stdout",
     "output_type": "stream",
     "text": [
      "============= Optimised bnb ==============\n",
      "Accuracy score for Train data set: 0.88\n",
      "Accuracy score for Test data set: 0.749\n",
      "Specificity: 0.6968\n",
      "Sensitivity: 0.8008\n",
      "Specificity-Sensitivity Balance: 1.104\n",
      "Fit Time: 19.3652\n"
     ]
    }
   ],
   "source": [
    "# (BernoulliNB) Optimise and evaluate Model\n",
    "gs_bnb.fit(X_train, y_train)\n",
    "print(\" Optimised bnb \".center(42, \"=\"))\n",
    "print('Accuracy score for Train data set:', round(gs_bnb.score(X_train, y_train),4))\n",
    "print('Accuracy score for Test data set:', round(gs_bnb.score(X_test, y_test),4))\n",
    "preds = gs_bnb.predict(X_test)\n",
    "tn, fp, fn, tp = confusion_matrix(y_test, preds).ravel()\n",
    "print('Specificity:', round(tn / (tn + fp),4))\n",
    "print('Sensitivity:', round(tp / (tp + fn),4))\n",
    "print('Specificity-Sensitivity Balance:', round((1-(tn / (tn + fp))+(tp / (tp + fn))),4))\n",
    "print(f'Fit Time:', round((bnb_test_time),4))"
   ]
  },
  {
   "cell_type": "code",
   "execution_count": 25,
   "id": "1adaaca1",
   "metadata": {},
   "outputs": [
    {
     "name": "stdout",
     "output_type": "stream",
     "text": [
      "============= Optimised gnb ==============\n",
      "Accuracy score for Train data set: 0.9213\n",
      "Accuracy score for Test data set: 0.524\n",
      "Specificity: 0.3434\n",
      "Sensitivity: 0.7032\n",
      "Specificity-Sensitivity Balance: 1.3598\n",
      "Fit Time: 734.1487\n"
     ]
    }
   ],
   "source": [
    "# (GaussianNB) Optimise and evaluate Model\n",
    "gs_gnb.fit(X_train, y_train)\n",
    "print(\" Optimised gnb \".center(42, \"=\"))\n",
    "print('Accuracy score for Train data set:', round(gs_gnb.score(X_train, y_train),4))\n",
    "print('Accuracy score for Test data set:', round(gs_gnb.score(X_test, y_test),4))\n",
    "preds = gs_gnb.predict(X_test)\n",
    "tn, fp, fn, tp = confusion_matrix(y_test, preds).ravel()\n",
    "print('Specificity:', round(tn / (tn + fp),4))\n",
    "print('Sensitivity:', round(tp / (tp + fn),4))\n",
    "print('Specificity-Sensitivity Balance:', round((1-(tn / (tn + fp))+(tp / (tp + fn))),4))\n",
    "print(f'Fit Time:', round((gnb_test_time),4))"
   ]
  },
  {
   "cell_type": "code",
   "execution_count": 38,
   "id": "7d3ecd9f",
   "metadata": {},
   "outputs": [
    {
     "data": {
      "image/png": "[encoded data removed]",
      "text/plain": [
       "<Figure size 936x576 with 1 Axes>"
      ]
     },
     "metadata": {
      "needs_background": "light"
     },
     "output_type": "display_data"
    }
   ],
   "source": [
    "fig, ax = plt.subplots(figsize=(13, 8))\n",
    "bnb_disp = plot_roc_curve(gs_bnb, X_test, y_test, name = 'bnb', ax = ax)\n",
    "# mnb_disp = plot_roc_curve(gs_mnb, X_test, y_test, name = 'mnb', ax = bnb_disp.ax_)\n",
    "gnb_disp = plot_roc_curve(gs_gnb, X_test, y_test, name = 'gnb', ax = bnb_disp.ax_)\n",
    "plt.legend(prop={\"size\":20});\n",
    "plt.savefig(\"../graph/naivebayes_auc_tfidf.jpg\", bbox_inches = 'tight')"
   ]
  },
  {
   "cell_type": "markdown",
   "id": "8044cbf3",
   "metadata": {},
   "source": [
    "### 1.2: Logistic Regression"
   ]
  },
  {
   "cell_type": "code",
   "execution_count": 27,
   "id": "98120fe0",
   "metadata": {},
   "outputs": [
    {
     "name": "stdout",
     "output_type": "stream",
     "text": [
      "Accuracy score for Train data set: 0.9996666666666667\n",
      "Accuracy score for Test data set: 0.653\n",
      "Specificity: 0.6325\n",
      "Sensitivity: 0.6733\n"
     ]
    }
   ],
   "source": [
    "# Instantiate logistic regression model\n",
    "lr = LogisticRegression(solver = 'lbfgs', max_iter = 5000)\n",
    "\n",
    "# Scale\n",
    "X_train = ss.fit_transform(X_train)\n",
    "X_test = ss.transform(X_test)\n",
    "\n",
    "# Fit model to training data\n",
    "lr.fit(X_train, y_train)\n",
    "\n",
    "# Evaluate model on training data\n",
    "print('Accuracy score for Train data set:',lr.score(X_train, y_train))\n",
    "\n",
    "# Evaluate model on testing data\n",
    "print('Accuracy score for Test data set:', lr.score(X_test, y_test))\n",
    "\n",
    "preds = lr.predict(X_test)\n",
    "tn, fp, fn, tp = confusion_matrix(y_test, preds).ravel()\n",
    "\n",
    "\n",
    "print('Specificity:', round(tn / (tn + fp),4))\n",
    "print('Sensitivity:', round(tp / (tp + fn),4))"
   ]
  },
  {
   "cell_type": "code",
   "execution_count": 28,
   "id": "f90e17f9",
   "metadata": {},
   "outputs": [
    {
     "name": "stdout",
     "output_type": "stream",
     "text": [
      "Best LR Parameters: Pipeline(steps=[('ss', StandardScaler()),\n",
      "                ('lr_hyper', LogisticRegression(C=0.1))])\n",
      "Fit time:  1176.983s\n"
     ]
    }
   ],
   "source": [
    "lr_hyper = Pipeline([\n",
    "    ('ss', StandardScaler()),\n",
    "    ('lr_hyper', LogisticRegression())\n",
    "])\n",
    "\n",
    "pipe_params = {\n",
    "    'lr_hyper__C': [100, 10, 1.0, 0.1, 0.01],\n",
    "    'lr_hyper__intercept_scaling': [1, 1.5, 2],\n",
    "    'lr_hyper__max_iter': [100, 500, 1000]\n",
    "}\n",
    "\n",
    "gs_lr_hyper = GridSearchCV(lr_hyper, # what object are we optimizing?\n",
    "                  param_grid=pipe_params, # what parameters values are we searching?\n",
    "                  cv=5) # 5-fold cross-validation.\n",
    "\n",
    "t0 = time()\n",
    "gs_lr_hyper.fit(X_train, y_train)\n",
    "lr_hyper_test_time = time() - t0\n",
    "print('Best LR Parameters:', gs_lr_hyper.best_estimator_)\n",
    "print('Fit time:  %0.3fs' % lr_hyper_test_time);"
   ]
  },
  {
   "cell_type": "markdown",
   "id": "2298f1fd",
   "metadata": {},
   "source": [
    "### 1.3: Adaboost"
   ]
  },
  {
   "cell_type": "code",
   "execution_count": 29,
   "id": "12279300",
   "metadata": {},
   "outputs": [
    {
     "name": "stdout",
     "output_type": "stream",
     "text": [
      "Best ADABoost Parameters: Pipeline(steps=[('ss', StandardScaler()),\n",
      "                ('ada', AdaBoostClassifier(learning_rate=0.9))])\n",
      "Fit time:  936.355s\n"
     ]
    }
   ],
   "source": [
    "# Setting pipeline for two stages\n",
    "ada = Pipeline([\n",
    "    ('ss', StandardScaler()),\n",
    "    ('ada', AdaBoostClassifier())])\n",
    "\n",
    "pipe_params = {\n",
    "    'ada__n_estimators': [50,100],\n",
    "    'ada__learning_rate': [0.9, 1]\n",
    "}\n",
    "\n",
    "gs_ada = GridSearchCV(ada, # what object are we optimizing?\n",
    "                  param_grid=pipe_params, # what parameters values are we searching?\n",
    "                  cv=5) # 5-fold cross-validation.\n",
    "t0 = time()\n",
    "gs_ada.fit(X_train, y_train)\n",
    "ada_test_time = time() - t0\n",
    "print('Best ADABoost Parameters:', gs_ada.best_estimator_)\n",
    "print('Fit time:  %0.3fs' % ada_test_time);"
   ]
  },
  {
   "cell_type": "markdown",
   "id": "492e4957",
   "metadata": {},
   "source": [
    "### 1.4: KNN (K-Nearest-Neighbor)"
   ]
  },
  {
   "cell_type": "code",
   "execution_count": 30,
   "id": "5951f4f8",
   "metadata": {},
   "outputs": [
    {
     "name": "stdout",
     "output_type": "stream",
     "text": [
      "Best KNN Parameters: Pipeline(steps=[('ss', StandardScaler()),\n",
      "                ('knn', KNeighborsClassifier(n_neighbors=10, p=1))])\n",
      "Fit time:  194.126s\n"
     ]
    }
   ],
   "source": [
    "knn = Pipeline([\n",
    "    ('ss', StandardScaler()),\n",
    "    ('knn', KNeighborsClassifier())\n",
    "])\n",
    "\n",
    "pipe_params = {\n",
    "    'knn__n_neighbors': [10,15],\n",
    "    'knn__p': [1,2]\n",
    "}\n",
    "\n",
    "gs_knn = GridSearchCV(knn, # what object are we optimizing?\n",
    "                  param_grid=pipe_params, # what parameters values are we searching?\n",
    "                  cv=5) # 5-fold cross-validation.\n",
    "\n",
    "t0 = time()\n",
    "gs_knn.fit(X_train, y_train)\n",
    "knn_test_time = time() - t0\n",
    "print('Best KNN Parameters:', gs_knn.best_estimator_)\n",
    "print('Fit time:  %0.3fs' % knn_test_time);"
   ]
  },
  {
   "cell_type": "markdown",
   "id": "eab20938",
   "metadata": {},
   "source": [
    "### 1.5: SVM Classifier"
   ]
  },
  {
   "cell_type": "code",
   "execution_count": 31,
   "id": "8534b24e",
   "metadata": {},
   "outputs": [
    {
     "name": "stdout",
     "output_type": "stream",
     "text": [
      "Best SVC Parameters: Pipeline(steps=[('ss', StandardScaler()), ('svc', SVC(C=10.0, max_iter=1000))])\n",
      "Fit time:  1116.039s\n"
     ]
    }
   ],
   "source": [
    "svc = Pipeline([\n",
    "    ('ss', StandardScaler()),\n",
    "    ('svc', SVC())\n",
    "])\n",
    "\n",
    "pipe_params = {\n",
    "    'svc__kernel': ['rbf'],\n",
    "    'svc__gamma': ['scale'],\n",
    "    'svc__C': [0.1, 1.0, 10.0],\n",
    "    'svc__max_iter': [100, 500, 1000]\n",
    "}\n",
    "\n",
    "gs_svc = GridSearchCV(svc, # what object are we optimizing?\n",
    "                  param_grid=pipe_params, # what parameters values are we searching?\n",
    "                  cv=5) # 5-fold cross-validation.\n",
    "\n",
    "t0 = time()\n",
    "gs_svc.fit(X_train, y_train)\n",
    "svc_test_time = time() - t0\n",
    "print('Best SVC Parameters:', gs_svc.best_estimator_)\n",
    "print('Fit time:  %0.3fs' % svc_test_time);"
   ]
  },
  {
   "cell_type": "markdown",
   "id": "f5a62000",
   "metadata": {},
   "source": [
    "### 1.6: Model Evaluation"
   ]
  },
  {
   "cell_type": "code",
   "execution_count": 32,
   "id": "c5e18c9f",
   "metadata": {},
   "outputs": [
    {
     "name": "stdout",
     "output_type": "stream",
     "text": [
      "============== Optimised LR ==============\n",
      "Accuracy score for Train data set: 0.9997\n",
      "Accuracy score for Test data set: 0.661\n",
      "Specificity: 0.6386\n",
      "Sensitivity: 0.6833\n",
      "Specificity-Sensitivity Balance: 1.0447\n",
      "Fit Time: 1176.9829\n"
     ]
    }
   ],
   "source": [
    "# Optimise LR and evaluate Model\n",
    "gs_lr_hyper.fit(X_train, y_train)\n",
    "print(\" Optimised LR \".center(42, \"=\"))\n",
    "print('Accuracy score for Train data set:', round(gs_lr_hyper.score(X_train, y_train),4))\n",
    "print('Accuracy score for Test data set:', round(gs_lr_hyper.score(X_test, y_test),4))\n",
    "preds = gs_lr_hyper.predict(X_test)\n",
    "tn, fp, fn, tp = confusion_matrix(y_test, preds).ravel()\n",
    "print('Specificity:', round(tn / (tn + fp),4))\n",
    "print('Sensitivity:', round(tp / (tp + fn),4))\n",
    "print('Specificity-Sensitivity Balance:', round((1-(tn / (tn + fp))+(tp / (tp + fn))),4))\n",
    "print(f'Fit Time:', round((lr_hyper_test_time),4))"
   ]
  },
  {
   "cell_type": "code",
   "execution_count": 33,
   "id": "f97dc7db",
   "metadata": {},
   "outputs": [
    {
     "name": "stdout",
     "output_type": "stream",
     "text": [
      "=========== Optimised ADABoost ===========\n",
      "Accuracy score for Train data set: 1.0\n",
      "Accuracy score for Test data set: 0.999\n",
      "Specificity: 1.0\n",
      "Sensitivity: 0.998\n",
      "Specificity-Sensitivity Balance: 0.998\n",
      "Fit Time: 936.3553\n"
     ]
    }
   ],
   "source": [
    "# Optimise ADABoost and evaluate Model\n",
    "gs_ada.fit(X_train, y_train)\n",
    "print(\" Optimised ADABoost \".center(42, \"=\"))\n",
    "print('Accuracy score for Train data set:', round(gs_ada.score(X_train, y_train),4))\n",
    "print('Accuracy score for Test data set:', round(gs_ada.score(X_test, y_test),4))\n",
    "preds = gs_ada.predict(X_test)\n",
    "tn, fp, fn, tp = confusion_matrix(y_test, preds).ravel()\n",
    "print('Specificity:', round(tn / (tn + fp),4))\n",
    "print('Sensitivity:', round(tp / (tp + fn),4))\n",
    "print('Specificity-Sensitivity Balance:', round((1-(tn / (tn + fp))+(tp / (tp + fn))),4))\n",
    "print(f'Fit Time:', round((ada_test_time),4))"
   ]
  },
  {
   "cell_type": "code",
   "execution_count": 34,
   "id": "2364e3f0",
   "metadata": {},
   "outputs": [
    {
     "name": "stdout",
     "output_type": "stream",
     "text": [
      "============= Optimised KNN ==============\n",
      "Accuracy score for Train data set: 0.722\n",
      "Accuracy score for Test data set: 0.696\n",
      "Specificity: 0.4719\n",
      "Sensitivity: 0.9183\n",
      "Specificity-Sensitivity Balance: 1.4464\n",
      "Fit Time: 194.1259\n"
     ]
    }
   ],
   "source": [
    "# Optimise KNN and evaluate Model\n",
    "gs_knn.fit(X_train, y_train)\n",
    "print(\" Optimised KNN \".center(42, \"=\"))\n",
    "print('Accuracy score for Train data set:', round(gs_knn.score(X_train, y_train),4))\n",
    "print('Accuracy score for Test data set:', round(gs_knn.score(X_test, y_test),4))\n",
    "preds = gs_knn.predict(X_test)\n",
    "tn, fp, fn, tp = confusion_matrix(y_test, preds).ravel()\n",
    "print('Specificity:', round(tn / (tn + fp),4))\n",
    "print('Sensitivity:', round(tp / (tp + fn),4))\n",
    "print('Specificity-Sensitivity Balance:', round((1-(tn / (tn + fp))+(tp / (tp + fn))),4))\n",
    "print(f'Fit Time:', round((knn_test_time),4))"
   ]
  },
  {
   "cell_type": "code",
   "execution_count": 35,
   "id": "e8aba9ce",
   "metadata": {},
   "outputs": [
    {
     "name": "stdout",
     "output_type": "stream",
     "text": [
      "============= Optimised SVM ==============\n",
      "Accuracy score for Train data set: 0.999\n",
      "Accuracy score for Test data set: 0.659\n",
      "Specificity: 0.739\n",
      "Sensitivity: 0.5797\n",
      "Specificity-Sensitivity Balance: 1.1593\n",
      "Fit Time: 1116.0393\n"
     ]
    }
   ],
   "source": [
    "# Optimise SVM and evaluate Model\n",
    "gs_svc.fit(X_train, y_train)\n",
    "print(\" Optimised SVM \".center(42, \"=\"))\n",
    "print('Accuracy score for Train data set:', round(gs_svc.score(X_train, y_train),4))\n",
    "print('Accuracy score for Test data set:', round(gs_svc.score(X_test, y_test),4))\n",
    "preds = gs_svc.predict(X_test)\n",
    "tn, fp, fn, tp = confusion_matrix(y_test, preds).ravel()\n",
    "print('Specificity:', round(tn / (tn + fp),4))\n",
    "print('Sensitivity:', round(tp / (tp + fn),4))\n",
    "print('Specificity-Sensitivity Balance:', round((1+(tn / (tn + fp))-(tp / (tp + fn))),4))\n",
    "print(f'Fit Time:', round((svc_test_time),4))"
   ]
  },
  {
   "cell_type": "code",
   "execution_count": 37,
   "id": "01f8cca9",
   "metadata": {
    "scrolled": true
   },
   "outputs": [
    {
     "data": {
      "image/png": "[encoded data removed]",
      "text/plain": [
       "<Figure size 936x576 with 1 Axes>"
      ]
     },
     "metadata": {
      "needs_background": "light"
     },
     "output_type": "display_data"
    }
   ],
   "source": [
    "# Plotting\n",
    "fig, ax = plt.subplots(figsize=(13, 8))\n",
    "lr_hyper_disp = plot_roc_curve(gs_lr_hyper, X_test, y_test, name = 'LR', ax = ax)\n",
    "knn_disp = plot_roc_curve(gs_knn, X_test, y_test, name = 'KNN', ax = lr_hyper_disp.ax_)\n",
    "svm_disp = plot_roc_curve(gs_svc, X_test, y_test, name = 'SVM', ax = lr_hyper_disp.ax_)\n",
    "plt.legend(prop={\"size\":20});\n",
    "plt.savefig(\"../graph/optimised_models_auc_tfidf.jpg\", bbox_inches = 'tight')"
   ]
  },
  {
   "cell_type": "code",
   "execution_count": null,
   "id": "9cd97a5a",
   "metadata": {},
   "outputs": [],
   "source": []
  }
 ],
 "metadata": {
  "kernelspec": {
   "display_name": "Python 3",
   "language": "python",
   "name": "python3"
  },
  "language_info": {
   "codemirror_mode": {
    "name": "ipython",
    "version": 3
   },
   "file_extension": ".py",
   "mimetype": "text/x-python",
   "name": "python",
   "nbconvert_exporter": "python",
   "pygments_lexer": "ipython3",
   "version": "3.8.8"
  }
 },
 "nbformat": 4,
 "nbformat_minor": 5
}
