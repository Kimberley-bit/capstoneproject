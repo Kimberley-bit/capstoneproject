{
 "cells": [
  {
   "cell_type": "markdown",
   "id": "cb783c83",
   "metadata": {},
   "source": [
    "## Book 4_CV_Modelling"
   ]
  },
  {
   "cell_type": "markdown",
   "id": "66da0dd4",
   "metadata": {},
   "source": [
    "*Note: I was unable to upload all of the datasets that I have used in these notebooks onto github because of how big the size of the file was. But if you have any questions feel free to reach out to me thank you :)*"
   ]
  },
  {
   "cell_type": "markdown",
   "id": "e0a11cc8",
   "metadata": {},
   "source": [
    "This book focuses on the modelling techniques for count vectorizer. \n",
    "The modelling techniques are listed below:\n",
    "    \n",
    "    1.1: Naive Bayes\n",
    "        1.1.1: Bernoulli Naive Bayes\n",
    "        1.1.2: Multinomial Naive Bayes\n",
    "        1.1.3: Gaussian Naive Bayes\n",
    "        1.1.4: Hyperparameter Tuning (Bernoulli NB)\n",
    "        1.1.5: Hyperparameter Tuning (Gaussian NB)\n",
    "    1.2: Logistic Regression\n",
    "    1.3: Adaboost\n",
    "    1.4: KNN (K-Nearest-Neighbor)\n",
    "    1.5: SVM Classifier\n",
    "    1.6: Optimise and Model Evaluation \n"
   ]
  },
  {
   "cell_type": "code",
   "execution_count": 1,
   "id": "61b6d094",
   "metadata": {},
   "outputs": [],
   "source": [
    "import pandas as pd\n",
    "import numpy as np\n",
    "\n",
    "# for modelling\n",
    "from sklearn.model_selection import train_test_split, cross_val_score\n",
    "from sklearn.preprocessing import StandardScaler\n",
    "from sklearn.metrics import accuracy_score,recall_score,precision_score,f1_score\n",
    "from sklearn.metrics import confusion_matrix\n",
    "from sklearn.linear_model import LogisticRegression\n",
    "from sklearn.metrics import confusion_matrix, roc_auc_score, plot_roc_curve, plot_confusion_matrix\n",
    "import matplotlib.pyplot as plt\n",
    "\n",
    "# for Model Tuning\n",
    "from sklearn.model_selection import GridSearchCV\n",
    "from sklearn.pipeline import Pipeline\n",
    "import warnings\n",
    "warnings.filterwarnings('ignore')\n",
    "from time import time\n",
    "from sklearn.model_selection import train_test_split, GridSearchCV\n",
    "from sklearn.preprocessing import MinMaxScaler\n",
    "from sklearn.linear_model import LogisticRegression\n",
    "from sklearn.pipeline import Pipeline\n",
    "from sklearn.naive_bayes import MultinomialNB\n",
    "from sklearn.metrics import confusion_matrix, roc_auc_score, plot_roc_curve, plot_confusion_matrix\n",
    "from sklearn.neighbors import KNeighborsClassifier\n",
    "from sklearn.tree import DecisionTreeClassifier\n",
    "from sklearn.svm import SVC\n",
    "from time import time\n",
    "from sklearn.ensemble import BaggingClassifier, AdaBoostClassifier, GradientBoostingClassifier\n",
    "\n",
    "from sklearn import metrics\n",
    "from sklearn.ensemble import RandomForestClassifier\n",
    "\n",
    "from sklearn.metrics import classification_report\n",
    "from sklearn.metrics import accuracy_score\n",
    "from sklearn.naive_bayes import BernoulliNB\n",
    "from sklearn.naive_bayes import GaussianNB\n",
    "from sklearn.naive_bayes import MultinomialNB\n",
    "from sklearn.preprocessing import MinMaxScaler\n",
    "\n",
    "pd.set_option('display.max_columns', None)\n",
    "pd.set_option('display.max_rows', None)"
   ]
  },
  {
   "cell_type": "code",
   "execution_count": 2,
   "id": "5c7c66d2",
   "metadata": {},
   "outputs": [],
   "source": [
    "# Importing CV\n",
    "X_counts_df = pd.read_csv('../data/X_counts_df.csv')"
   ]
  },
  {
   "cell_type": "code",
   "execution_count": 3,
   "id": "64ac7729",
   "metadata": {},
   "outputs": [],
   "source": [
    "# Importing \n",
    "suicide_merged = pd.read_csv('../data/suicide_merged.csv')"
   ]
  },
  {
   "cell_type": "code",
   "execution_count": 4,
   "id": "446cfc09",
   "metadata": {},
   "outputs": [],
   "source": [
    "di = {'suicide': 1, 'non-suicide' : 0}\n",
    "suicide_merged['class'] = suicide_merged['class'].map(di)"
   ]
  },
  {
   "cell_type": "code",
   "execution_count": 5,
   "id": "fae2d7c0",
   "metadata": {},
   "outputs": [
    {
     "data": {
      "text/plain": [
       "(4000, 15)"
      ]
     },
     "execution_count": 5,
     "metadata": {},
     "output_type": "execute_result"
    }
   ],
   "source": [
    "suicide_merged.shape"
   ]
  },
  {
   "cell_type": "code",
   "execution_count": 6,
   "id": "8e122d3a",
   "metadata": {},
   "outputs": [
    {
     "data": {
      "text/plain": [
       "0    2000\n",
       "1    2000\n",
       "Name: class, dtype: int64"
      ]
     },
     "execution_count": 6,
     "metadata": {},
     "output_type": "execute_result"
    }
   ],
   "source": [
    "suicide_merged['class'].value_counts()"
   ]
  },
  {
   "cell_type": "code",
   "execution_count": 7,
   "id": "7395c562",
   "metadata": {},
   "outputs": [],
   "source": [
    "# assigning X and y \n",
    "X = X_counts_df\n",
    "y = suicide_merged['class']"
   ]
  },
  {
   "cell_type": "code",
   "execution_count": 8,
   "id": "ce9c0a99",
   "metadata": {},
   "outputs": [
    {
     "data": {
      "text/plain": [
       "0    1\n",
       "1    1\n",
       "2    1\n",
       "3    1\n",
       "4    1\n",
       "Name: class, dtype: int64"
      ]
     },
     "execution_count": 8,
     "metadata": {},
     "output_type": "execute_result"
    }
   ],
   "source": [
    "y.head()"
   ]
  },
  {
   "cell_type": "code",
   "execution_count": 9,
   "id": "21b693c7",
   "metadata": {},
   "outputs": [
    {
     "data": {
      "text/plain": [
       "3995    1\n",
       "3996    1\n",
       "3997    1\n",
       "3998    1\n",
       "3999    1\n",
       "Name: class, dtype: int64"
      ]
     },
     "execution_count": 9,
     "metadata": {},
     "output_type": "execute_result"
    }
   ],
   "source": [
    "y.tail()"
   ]
  },
  {
   "cell_type": "markdown",
   "id": "755b1865",
   "metadata": {},
   "source": [
    "#### Train, Test, Split"
   ]
  },
  {
   "cell_type": "code",
   "execution_count": 10,
   "id": "e96d81ce",
   "metadata": {},
   "outputs": [],
   "source": [
    "X_train, X_test, y_train, y_test = train_test_split(X,\n",
    "                                                    y,\n",
    "                                                    test_size=0.25,\n",
    "                                                    random_state=42)"
   ]
  },
  {
   "cell_type": "code",
   "execution_count": 11,
   "id": "75bdf556",
   "metadata": {},
   "outputs": [],
   "source": [
    "# Baseline score"
   ]
  },
  {
   "cell_type": "code",
   "execution_count": 12,
   "id": "b63238f9",
   "metadata": {},
   "outputs": [],
   "source": [
    "ss= StandardScaler()\n",
    "ss.fit(X_train)\n",
    "X_train = ss.transform(X_train)\n",
    "X_test = ss.transform(X_test)"
   ]
  },
  {
   "cell_type": "markdown",
   "id": "7a9803db",
   "metadata": {},
   "source": [
    "### 1.1: Naive Bayes"
   ]
  },
  {
   "cell_type": "markdown",
   "id": "5f5ab8ff",
   "metadata": {},
   "source": [
    "#### 1.1.1: Bernoulli Naive Bayes"
   ]
  },
  {
   "cell_type": "code",
   "execution_count": 13,
   "id": "bb06c96d",
   "metadata": {},
   "outputs": [
    {
     "name": "stdout",
     "output_type": "stream",
     "text": [
      "BernoulliNB(binarize=True)\n",
      "0.799\n",
      "0.9403333333333334\n",
      "0.808\n",
      "0.808\n"
     ]
    }
   ],
   "source": [
    "BernNB = BernoulliNB(binarize=True)\n",
    "BernNB.fit(X_train, y_train)\n",
    "print(BernNB)\n",
    "\n",
    "y_expect = y_test\n",
    "y_pred = BernNB.predict(X_test)\n",
    "\n",
    "# Cross-Validation\n",
    "print(cross_val_score(BernNB, X_train, y_train, cv = 5).mean())\n",
    "\n",
    "# Accuracy score of train\n",
    "print(BernNB.score(X_train, y_train))\n",
    "\n",
    "# Accuracy score of test\n",
    "print(BernNB.score(X_test, y_test))\n",
    "\n",
    "# Accuracy for y_expect and y_pred\n",
    "print(accuracy_score(y_expect, y_pred))"
   ]
  },
  {
   "cell_type": "markdown",
   "id": "2948a4af",
   "metadata": {},
   "source": [
    " #### 1.1.2: Multinomial Naive Bayes"
   ]
  },
  {
   "cell_type": "code",
   "execution_count": 14,
   "id": "0ed39860",
   "metadata": {},
   "outputs": [],
   "source": [
    "#MultiNB = MultinomialNB()\n",
    "#MultiNB.fit(X_train, y_train)\n",
    "#print(MultiNB)\n",
    "\n",
    "#y_pred = MultiNB.predict(X_test)\n",
    "\n",
    "# Cross-Validation\n",
    "#print(cross_val_score(MultiNB, X_train, y_train, cv = 5).mean())\n",
    "\n",
    "# Accuracy score of train\n",
    "#print(MultiNB.score(X_train, y_train))\n",
    "\n",
    "# Accuracy score of test\n",
    "#print(MultiNB.score(X_test, y_test))\n",
    "\n",
    "# Accuracy for y_test and y_pred\n",
    "#print(accuracy_score(y_test, y_pred))"
   ]
  },
  {
   "cell_type": "markdown",
   "id": "a742c85c",
   "metadata": {},
   "source": [
    "#### 1.1.3: Gaussian Naive Bayes"
   ]
  },
  {
   "cell_type": "code",
   "execution_count": 15,
   "id": "630eae69",
   "metadata": {},
   "outputs": [
    {
     "name": "stdout",
     "output_type": "stream",
     "text": [
      "GaussianNB()\n",
      "0.5603333333333333\n",
      "0.8776666666666667\n",
      "0.527\n",
      "0.527\n"
     ]
    }
   ],
   "source": [
    "GausNB = GaussianNB()\n",
    "GausNB.fit(X_train, y_train)\n",
    "print(GausNB)\n",
    "\n",
    "y_pred = GausNB.predict(X_test)\n",
    "\n",
    "# Cross-Validation\n",
    "print(cross_val_score(GausNB, X_train, y_train, cv = 5).mean())\n",
    "\n",
    "# Accuracy score of train\n",
    "print(GausNB.score(X_train, y_train))\n",
    "\n",
    "# Accuracy score of test\n",
    "print(GausNB.score(X_test, y_test))\n",
    "\n",
    "# Accuracy for y_test and y_pred\n",
    "print(accuracy_score(y_test, y_pred))"
   ]
  },
  {
   "cell_type": "markdown",
   "id": "85fe76fb",
   "metadata": {},
   "source": [
    "#### 1.1.4: Optimisation of Bernoulli Naive Bayes"
   ]
  },
  {
   "cell_type": "code",
   "execution_count": 16,
   "id": "1b2feddc",
   "metadata": {},
   "outputs": [
    {
     "name": "stdout",
     "output_type": "stream",
     "text": [
      "BernoulliNB(binarize=0.1)\n",
      "0.7203333333333333\n",
      "0.896\n",
      "0.741\n",
      "0.741\n"
     ]
    }
   ],
   "source": [
    "BernNB = BernoulliNB(binarize = 0.1)\n",
    "BernNB.fit(X_train, y_train)\n",
    "print(BernNB)\n",
    "\n",
    "y_expect = y_test\n",
    "\n",
    "# Predicting Y = subreddit \n",
    "y_pred = BernNB.predict(X_test)\n",
    "\n",
    "# Cross-Validation\n",
    "print(cross_val_score(BernNB, X_train, y_train, cv = 5).mean())\n",
    "\n",
    "# Accuracy score of train\n",
    "print(BernNB.score(X_train, y_train))\n",
    "\n",
    "# Accuracy score of test\n",
    "print(BernNB.score(X_test, y_test))\n",
    "\n",
    "# Accuracy for y_expect and y_pred\n",
    "print(accuracy_score(y_expect, y_pred))"
   ]
  },
  {
   "cell_type": "code",
   "execution_count": 17,
   "id": "dbd6a3bd",
   "metadata": {},
   "outputs": [
    {
     "name": "stdout",
     "output_type": "stream",
     "text": [
      "BernoulliNB(binarize=True)\n"
     ]
    }
   ],
   "source": [
    "BernNB = BernoulliNB(binarize=True)\n",
    "BernNB.fit(X_train, y_train)\n",
    "print(BernNB)\n",
    "\n",
    "y_expect = y_test\n",
    "y_pred = BernNB.predict(X_test)"
   ]
  },
  {
   "cell_type": "markdown",
   "id": "9fa1c758",
   "metadata": {},
   "source": [
    "#### Initial Evaluation (BernoulliNB)"
   ]
  },
  {
   "cell_type": "code",
   "execution_count": 18,
   "id": "1cb6ff71",
   "metadata": {},
   "outputs": [
    {
     "name": "stdout",
     "output_type": "stream",
     "text": [
      "              precision    recall  f1-score   support\n",
      "\n",
      "           0       0.88      0.71      0.79       498\n",
      "           1       0.76      0.90      0.83       502\n",
      "\n",
      "    accuracy                           0.81      1000\n",
      "   macro avg       0.82      0.81      0.81      1000\n",
      "weighted avg       0.82      0.81      0.81      1000\n",
      "\n"
     ]
    }
   ],
   "source": [
    "# classification report\n",
    "print(classification_report(y_test, y_pred))"
   ]
  },
  {
   "cell_type": "code",
   "execution_count": 19,
   "id": "21adbf9e",
   "metadata": {},
   "outputs": [
    {
     "name": "stdout",
     "output_type": "stream",
     "text": [
      "accuracy score: 0.808\n",
      "precision score: 0.7591973244147158\n",
      "recall score: 0.9043824701195219\n",
      "specificity score: 0.7108433734939759\n"
     ]
    }
   ],
   "source": [
    "# Current score without tuning\n",
    "cm = confusion_matrix(y_test, y_pred)\n",
    "\n",
    "tn, fp, fn, tp = cm.ravel()\n",
    "\n",
    "# scores\n",
    "accuracy_score = accuracy_score(y_test, y_pred)\n",
    "precision_score = precision_score(y_test, y_pred)\n",
    "recall_score = recall_score = recall_score(y_test, y_pred)\n",
    "specificity_score = tn / (tn + fp)\n",
    "\n",
    "print('accuracy score: ' + str(accuracy_score))\n",
    "print('precision score: ' + str(precision_score))\n",
    "print('recall score: ' + str(recall_score))\n",
    "print('specificity score: ' + str(specificity_score))"
   ]
  },
  {
   "cell_type": "markdown",
   "id": "49246284",
   "metadata": {},
   "source": [
    "#### 1.1.4: Hyperparameter Tuning (Bernoulli NB)"
   ]
  },
  {
   "cell_type": "code",
   "execution_count": 20,
   "id": "b934dc7b",
   "metadata": {},
   "outputs": [
    {
     "data": {
      "text/plain": [
       "{'alpha': 1.0, 'binarize': 0.0, 'class_prior': None, 'fit_prior': True}"
      ]
     },
     "execution_count": 20,
     "metadata": {},
     "output_type": "execute_result"
    }
   ],
   "source": [
    "# getting the parasms\n",
    "BernoulliNB().get_params(deep=True)"
   ]
  },
  {
   "cell_type": "code",
   "execution_count": 21,
   "id": "b4528278",
   "metadata": {},
   "outputs": [
    {
     "name": "stdout",
     "output_type": "stream",
     "text": [
      "Best bnb Parameters: Pipeline(steps=[('ss', StandardScaler()), ('bnb', BernoulliNB(alpha=1.5))])\n",
      "Fit time:  33.475s\n"
     ]
    }
   ],
   "source": [
    "# Tuning for BernoulliNB \n",
    "bnb = Pipeline([\n",
    "    ('ss', StandardScaler()),\n",
    "    ('bnb', BernoulliNB())\n",
    "])\n",
    "\n",
    "pipe_params = {\n",
    "    'bnb__alpha': [0.5, 1, 1.5],\n",
    "}\n",
    "\n",
    "gs_bnb = GridSearchCV(bnb, # what object are we optimizing?\n",
    "                  param_grid=pipe_params, # what parameters values are we searching?\n",
    "                  cv=5) # 5-fold cross-validation.\n",
    "t0 = time()\n",
    "gs_bnb.fit(X_train, y_train)\n",
    "bnb_test_time = time() - t0\n",
    "print('Best bnb Parameters:', gs_bnb.best_estimator_)\n",
    "print('Fit time:  %0.3fs' % bnb_test_time);"
   ]
  },
  {
   "cell_type": "markdown",
   "id": "20ce5d79",
   "metadata": {},
   "source": [
    "#### 1.1.5: Hyperparameter Tuning (Gaussian NB)"
   ]
  },
  {
   "cell_type": "code",
   "execution_count": 22,
   "id": "668a6cdd",
   "metadata": {},
   "outputs": [
    {
     "data": {
      "text/plain": [
       "{'priors': None, 'var_smoothing': 1e-09}"
      ]
     },
     "execution_count": 22,
     "metadata": {},
     "output_type": "execute_result"
    }
   ],
   "source": [
    "GaussianNB().get_params(deep=True)"
   ]
  },
  {
   "cell_type": "code",
   "execution_count": 23,
   "id": "18de8e70",
   "metadata": {},
   "outputs": [
    {
     "name": "stdout",
     "output_type": "stream",
     "text": [
      "Best gnb Parameters: Pipeline(steps=[('ss', StandardScaler()),\n",
      "                ('gnb', GaussianNB(var_smoothing=0.23101297000831597))])\n",
      "Fit time:  1236.467s\n"
     ]
    }
   ],
   "source": [
    "# Tuning for GaussianNB \n",
    "gnb = Pipeline([\n",
    "    ('ss', StandardScaler()),\n",
    "    ('gnb', GaussianNB() )\n",
    "])\n",
    "\n",
    "pipe_params = {\n",
    "    'gnb__var_smoothing': np.logspace(0,-9, num=100),\n",
    "}\n",
    "\n",
    "gs_gnb = GridSearchCV(gnb, # what object are we optimizing?\n",
    "                  param_grid=pipe_params, # what parameters values are we searching?\n",
    "                  cv=5) # 5-fold cross-validation.\n",
    "t0 = time()\n",
    "gs_gnb.fit(X_train, y_train)\n",
    "gnb_test_time = time() - t0\n",
    "print('Best gnb Parameters:', gs_gnb.best_estimator_)\n",
    "print('Fit time:  %0.3fs' % gnb_test_time);"
   ]
  },
  {
   "cell_type": "markdown",
   "id": "d1ee6f2d",
   "metadata": {},
   "source": [
    "#### Optimise and Evaluate Model"
   ]
  },
  {
   "cell_type": "code",
   "execution_count": 24,
   "id": "2643fa55",
   "metadata": {},
   "outputs": [
    {
     "name": "stdout",
     "output_type": "stream",
     "text": [
      "============= Optimised bnb ==============\n",
      "Accuracy score for Train data set: 0.8823\n",
      "Accuracy score for Test data set: 0.746\n",
      "Specificity: 0.6928\n",
      "Sensitivity: 0.7988\n",
      "Specificity-Sensitivity Balance: 1.106\n",
      "Fit Time: 33.4748\n"
     ]
    }
   ],
   "source": [
    "# (BernoulliNB) Optimise and evaluate Model\n",
    "gs_bnb.fit(X_train, y_train)\n",
    "print(\" Optimised bnb \".center(42, \"=\"))\n",
    "print('Accuracy score for Train data set:', round(gs_bnb.score(X_train, y_train),4))\n",
    "print('Accuracy score for Test data set:', round(gs_bnb.score(X_test, y_test),4))\n",
    "preds = gs_bnb.predict(X_test)\n",
    "tn, fp, fn, tp = confusion_matrix(y_test, preds).ravel()\n",
    "print('Specificity:', round(tn / (tn + fp),4))\n",
    "print('Sensitivity:', round(tp / (tp + fn),4))\n",
    "print('Specificity-Sensitivity Balance:', round((1-(tn / (tn + fp))+(tp / (tp + fn))),4))\n",
    "print(f'Fit Time:', round((bnb_test_time),4))"
   ]
  },
  {
   "cell_type": "code",
   "execution_count": 25,
   "id": "f112421f",
   "metadata": {},
   "outputs": [
    {
     "name": "stdout",
     "output_type": "stream",
     "text": [
      "============= Optimised gnb ==============\n",
      "Accuracy score for Train data set: 0.8733\n",
      "Accuracy score for Test data set: 0.522\n",
      "Specificity: 0.2691\n",
      "Sensitivity: 0.7729\n",
      "Specificity-Sensitivity Balance: 1.5038\n",
      "Fit Time: 1236.4673\n"
     ]
    }
   ],
   "source": [
    "# (GaussianNB) Optimise and evaluate Model\n",
    "gs_gnb.fit(X_train, y_train)\n",
    "print(\" Optimised gnb \".center(42, \"=\"))\n",
    "print('Accuracy score for Train data set:', round(gs_gnb.score(X_train, y_train),4))\n",
    "print('Accuracy score for Test data set:', round(gs_gnb.score(X_test, y_test),4))\n",
    "preds = gs_gnb.predict(X_test)\n",
    "tn, fp, fn, tp = confusion_matrix(y_test, preds).ravel()\n",
    "print('Specificity:', round(tn / (tn + fp),4))\n",
    "print('Sensitivity:', round(tp / (tp + fn),4))\n",
    "print('Specificity-Sensitivity Balance:', round((1-(tn / (tn + fp))+(tp / (tp + fn))),4))\n",
    "print(f'Fit Time:', round((gnb_test_time),4))"
   ]
  },
  {
   "cell_type": "code",
   "execution_count": 40,
   "id": "506b46df",
   "metadata": {},
   "outputs": [
    {
     "data": {
      "image/png": "[encoded data removed]",
      "text/plain": [
       "<Figure size 936x576 with 1 Axes>"
      ]
     },
     "metadata": {
      "needs_background": "light"
     },
     "output_type": "display_data"
    }
   ],
   "source": [
    "fig, ax = plt.subplots(figsize=(13, 8))\n",
    "bnb_disp = plot_roc_curve(gs_bnb, X_test, y_test, name = 'bnb', ax = ax)\n",
    "# mnb_disp = plot_roc_curve(gs_mnb, X_test, y_test, name = 'mnb', ax = bnb_disp.ax_)\n",
    "gnb_disp = plot_roc_curve(gs_gnb, X_test, y_test, name = 'gnb', ax = bnb_disp.ax_)\n",
    "plt.legend(prop={\"size\":20});\n",
    "plt.savefig(\"../graph/naivebayes_auc_cv.jpg\", bbox_inches = 'tight')"
   ]
  },
  {
   "cell_type": "markdown",
   "id": "23a3ae86",
   "metadata": {},
   "source": [
    "### 1.2: Logistic Regression"
   ]
  },
  {
   "cell_type": "code",
   "execution_count": 27,
   "id": "43a53a97",
   "metadata": {},
   "outputs": [
    {
     "name": "stdout",
     "output_type": "stream",
     "text": [
      "Accuracy score for Train data set: 0.9996666666666667\n",
      "Accuracy score for Test data set: 0.719\n",
      "Specificity: 0.7229\n",
      "Sensitivity: 0.7151\n"
     ]
    }
   ],
   "source": [
    "# Instantiate logistic regression model\n",
    "lr = LogisticRegression(solver = 'lbfgs', max_iter = 5000)\n",
    "\n",
    "# Scale\n",
    "X_train = ss.fit_transform(X_train)\n",
    "X_test = ss.transform(X_test)\n",
    "\n",
    "# Fit model to training data\n",
    "lr.fit(X_train, y_train)\n",
    "\n",
    "# Evaluate model on training data\n",
    "print('Accuracy score for Train data set:',lr.score(X_train, y_train))\n",
    "\n",
    "# Evaluate model on testing data\n",
    "print('Accuracy score for Test data set:', lr.score(X_test, y_test))\n",
    "\n",
    "preds = lr.predict(X_test)\n",
    "tn, fp, fn, tp = confusion_matrix(y_test, preds).ravel()\n",
    "\n",
    "\n",
    "print('Specificity:', round(tn / (tn + fp),4))\n",
    "print('Sensitivity:', round(tp / (tp + fn),4))"
   ]
  },
  {
   "cell_type": "code",
   "execution_count": 28,
   "id": "db64f6ad",
   "metadata": {},
   "outputs": [
    {
     "name": "stdout",
     "output_type": "stream",
     "text": [
      "Best LR Parameters: Pipeline(steps=[('ss', StandardScaler()), ('lr_hyper', LogisticRegression())])\n",
      "Fit time:  3181.439s\n"
     ]
    }
   ],
   "source": [
    "lr_hyper = Pipeline([\n",
    "    ('ss', StandardScaler()),\n",
    "    ('lr_hyper', LogisticRegression())\n",
    "])\n",
    "\n",
    "pipe_params = {\n",
    "    'lr_hyper__C': [100, 10, 1.0, 0.1, 0.01],\n",
    "    'lr_hyper__intercept_scaling': [1, 1.5, 2],\n",
    "    'lr_hyper__max_iter': [100, 500, 1000]\n",
    "}\n",
    "\n",
    "gs_lr_hyper = GridSearchCV(lr_hyper, # what object are we optimizing?\n",
    "                  param_grid=pipe_params, # what parameters values are we searching?\n",
    "                  cv=5) # 5-fold cross-validation.\n",
    "\n",
    "t0 = time()\n",
    "gs_lr_hyper.fit(X_train, y_train)\n",
    "lr_hyper_test_time = time() - t0\n",
    "print('Best LR Parameters:', gs_lr_hyper.best_estimator_)\n",
    "print('Fit time:  %0.3fs' % lr_hyper_test_time);"
   ]
  },
  {
   "cell_type": "markdown",
   "id": "e7c1803d",
   "metadata": {},
   "source": [
    "### 1.3: Adaboost"
   ]
  },
  {
   "cell_type": "code",
   "execution_count": 29,
   "id": "be73321e",
   "metadata": {},
   "outputs": [
    {
     "name": "stdout",
     "output_type": "stream",
     "text": [
      "Best ADABoost Parameters: Pipeline(steps=[('ss', StandardScaler()),\n",
      "                ('ada', AdaBoostClassifier(learning_rate=0.9))])\n",
      "Fit time:  1219.532s\n"
     ]
    }
   ],
   "source": [
    "# Setting pipeline for two stages\n",
    "ada = Pipeline([\n",
    "    ('ss', StandardScaler()),\n",
    "    ('ada', AdaBoostClassifier())])\n",
    "\n",
    "pipe_params = {\n",
    "    'ada__n_estimators': [50,100],\n",
    "    'ada__learning_rate': [0.9, 1]\n",
    "}\n",
    "\n",
    "gs_ada = GridSearchCV(ada, # what object are we optimizing?\n",
    "                  param_grid=pipe_params, # what parameters values are we searching?\n",
    "                  cv=5) # 5-fold cross-validation.\n",
    "t0 = time()\n",
    "gs_ada.fit(X_train, y_train)\n",
    "ada_test_time = time() - t0\n",
    "print('Best ADABoost Parameters:', gs_ada.best_estimator_)\n",
    "print('Fit time:  %0.3fs' % ada_test_time);"
   ]
  },
  {
   "cell_type": "markdown",
   "id": "023868df",
   "metadata": {},
   "source": [
    "### 1.4: KNN (K-Nearest-Neighbor)"
   ]
  },
  {
   "cell_type": "code",
   "execution_count": 30,
   "id": "b5b54ee0",
   "metadata": {},
   "outputs": [
    {
     "name": "stdout",
     "output_type": "stream",
     "text": [
      "Best KNN Parameters: Pipeline(steps=[('ss', StandardScaler()),\n",
      "                ('knn', KNeighborsClassifier(n_neighbors=10, p=1))])\n",
      "Fit time:  673.912s\n"
     ]
    }
   ],
   "source": [
    "knn = Pipeline([\n",
    "    ('ss', StandardScaler()),\n",
    "    ('knn', KNeighborsClassifier())\n",
    "])\n",
    "\n",
    "pipe_params = {\n",
    "    'knn__n_neighbors': [10,15],\n",
    "    'knn__p': [1,2]\n",
    "}\n",
    "\n",
    "gs_knn = GridSearchCV(knn, # what object are we optimizing?\n",
    "                  param_grid=pipe_params, # what parameters values are we searching?\n",
    "                  cv=5) # 5-fold cross-validation.\n",
    "\n",
    "t0 = time()\n",
    "gs_knn.fit(X_train, y_train)\n",
    "knn_test_time = time() - t0\n",
    "print('Best KNN Parameters:', gs_knn.best_estimator_)\n",
    "print('Fit time:  %0.3fs' % knn_test_time);"
   ]
  },
  {
   "cell_type": "markdown",
   "id": "65315859",
   "metadata": {},
   "source": [
    "### 1.5: SVM Classifier"
   ]
  },
  {
   "cell_type": "code",
   "execution_count": 31,
   "id": "4c5bf34f",
   "metadata": {},
   "outputs": [
    {
     "name": "stdout",
     "output_type": "stream",
     "text": [
      "Best SVC Parameters: Pipeline(steps=[('ss', StandardScaler()), ('svc', SVC(C=10.0, max_iter=500))])\n",
      "Fit time:  2917.770s\n"
     ]
    }
   ],
   "source": [
    "svc = Pipeline([\n",
    "    ('ss', StandardScaler()),\n",
    "    ('svc', SVC())\n",
    "])\n",
    "\n",
    "pipe_params = {\n",
    "    'svc__kernel': ['rbf'],\n",
    "    'svc__gamma': ['scale'],\n",
    "    'svc__C': [0.1, 1.0, 10.0],\n",
    "    'svc__max_iter': [100, 500, 1000]\n",
    "}\n",
    "\n",
    "gs_svc = GridSearchCV(svc, # what object are we optimizing?\n",
    "                  param_grid=pipe_params, # what parameters values are we searching?\n",
    "                  cv=5) # 5-fold cross-validation.\n",
    "\n",
    "t0 = time()\n",
    "gs_svc.fit(X_train, y_train)\n",
    "svc_test_time = time() - t0\n",
    "print('Best SVC Parameters:', gs_svc.best_estimator_)\n",
    "print('Fit time:  %0.3fs' % svc_test_time);"
   ]
  },
  {
   "cell_type": "markdown",
   "id": "4d4cdbcf",
   "metadata": {},
   "source": [
    "### 1.6 Optimise and Model Evaluation"
   ]
  },
  {
   "cell_type": "code",
   "execution_count": 32,
   "id": "f0834b1f",
   "metadata": {},
   "outputs": [
    {
     "name": "stdout",
     "output_type": "stream",
     "text": [
      "============== Optimised LR ==============\n",
      "Accuracy score for Train data set: 0.9997\n",
      "Accuracy score for Test data set: 0.719\n",
      "Specificity: 0.7229\n",
      "Sensitivity: 0.7151\n",
      "Specificity-Sensitivity Balance: 0.9922\n",
      "Fit Time: 3181.4386\n"
     ]
    }
   ],
   "source": [
    "# Optimise LR and evaluate Model\n",
    "gs_lr_hyper.fit(X_train, y_train)\n",
    "print(\" Optimised LR \".center(42, \"=\"))\n",
    "print('Accuracy score for Train data set:', round(gs_lr_hyper.score(X_train, y_train),4))\n",
    "print('Accuracy score for Test data set:', round(gs_lr_hyper.score(X_test, y_test),4))\n",
    "preds = gs_lr_hyper.predict(X_test)\n",
    "tn, fp, fn, tp = confusion_matrix(y_test, preds).ravel()\n",
    "print('Specificity:', round(tn / (tn + fp),4))\n",
    "print('Sensitivity:', round(tp / (tp + fn),4))\n",
    "print('Specificity-Sensitivity Balance:', round((1-(tn / (tn + fp))+(tp / (tp + fn))),4))\n",
    "print(f'Fit Time:', round((lr_hyper_test_time),4))"
   ]
  },
  {
   "cell_type": "code",
   "execution_count": 33,
   "id": "98c81d67",
   "metadata": {},
   "outputs": [
    {
     "name": "stdout",
     "output_type": "stream",
     "text": [
      "=========== Optimised ADABoost ===========\n",
      "Accuracy score for Train data set: 1.0\n",
      "Accuracy score for Test data set: 0.999\n",
      "Specificity: 1.0\n",
      "Sensitivity: 0.998\n",
      "Specificity-Sensitivity Balance: 0.998\n",
      "Fit Time: 1219.5323\n"
     ]
    }
   ],
   "source": [
    "# Optimise ADABoost and evaluate Model\n",
    "gs_ada.fit(X_train, y_train)\n",
    "print(\" Optimised ADABoost \".center(42, \"=\"))\n",
    "print('Accuracy score for Train data set:', round(gs_ada.score(X_train, y_train),4))\n",
    "print('Accuracy score for Test data set:', round(gs_ada.score(X_test, y_test),4))\n",
    "preds = gs_ada.predict(X_test)\n",
    "tn, fp, fn, tp = confusion_matrix(y_test, preds).ravel()\n",
    "print('Specificity:', round(tn / (tn + fp),4))\n",
    "print('Sensitivity:', round(tp / (tp + fn),4))\n",
    "print('Specificity-Sensitivity Balance:', round((1-(tn / (tn + fp))+(tp / (tp + fn))),4))\n",
    "print(f'Fit Time:', round((ada_test_time),4))"
   ]
  },
  {
   "cell_type": "code",
   "execution_count": 34,
   "id": "88479528",
   "metadata": {},
   "outputs": [
    {
     "name": "stdout",
     "output_type": "stream",
     "text": [
      "============= Optimised KNN ==============\n",
      "Accuracy score for Train data set: 0.7407\n",
      "Accuracy score for Test data set: 0.7\n",
      "Specificity: 0.8092\n",
      "Sensitivity: 0.5916\n",
      "Specificity-Sensitivity Balance: 0.7824\n",
      "Fit Time: 673.912\n"
     ]
    }
   ],
   "source": [
    "# Optimise KNN and evaluate Model\n",
    "gs_knn.fit(X_train, y_train)\n",
    "print(\" Optimised KNN \".center(42, \"=\"))\n",
    "print('Accuracy score for Train data set:', round(gs_knn.score(X_train, y_train),4))\n",
    "print('Accuracy score for Test data set:', round(gs_knn.score(X_test, y_test),4))\n",
    "preds = gs_knn.predict(X_test)\n",
    "tn, fp, fn, tp = confusion_matrix(y_test, preds).ravel()\n",
    "print('Specificity:', round(tn / (tn + fp),4))\n",
    "print('Sensitivity:', round(tp / (tp + fn),4))\n",
    "print('Specificity-Sensitivity Balance:', round((1-(tn / (tn + fp))+(tp / (tp + fn))),4))\n",
    "print(f'Fit Time:', round((knn_test_time),4))"
   ]
  },
  {
   "cell_type": "code",
   "execution_count": 35,
   "id": "1d7367b1",
   "metadata": {},
   "outputs": [
    {
     "name": "stdout",
     "output_type": "stream",
     "text": [
      "============= Optimised SVM ==============\n",
      "Accuracy score for Train data set: 0.881\n",
      "Accuracy score for Test data set: 0.683\n",
      "Specificity: 0.7129\n",
      "Sensitivity: 0.6534\n",
      "Specificity-Sensitivity Balance: 1.0595\n",
      "Fit Time: 2917.7699\n"
     ]
    }
   ],
   "source": [
    "# Optimise SVM and evaluate Model\n",
    "gs_svc.fit(X_train, y_train)\n",
    "print(\" Optimised SVM \".center(42, \"=\"))\n",
    "print('Accuracy score for Train data set:', round(gs_svc.score(X_train, y_train),4))\n",
    "print('Accuracy score for Test data set:', round(gs_svc.score(X_test, y_test),4))\n",
    "preds = gs_svc.predict(X_test)\n",
    "tn, fp, fn, tp = confusion_matrix(y_test, preds).ravel()\n",
    "print('Specificity:', round(tn / (tn + fp),4))\n",
    "print('Sensitivity:', round(tp / (tp + fn),4))\n",
    "print('Specificity-Sensitivity Balance:', round((1+(tn / (tn + fp))-(tp / (tp + fn))),4))\n",
    "print(f'Fit Time:', round((svc_test_time),4))"
   ]
  },
  {
   "cell_type": "code",
   "execution_count": 39,
   "id": "c7bf41fb",
   "metadata": {},
   "outputs": [
    {
     "data": {
      "image/png": "[encoded data removed]",
      "text/plain": [
       "<Figure size 936x576 with 1 Axes>"
      ]
     },
     "metadata": {
      "needs_background": "light"
     },
     "output_type": "display_data"
    }
   ],
   "source": [
    "# Plotting\n",
    "fig, ax = plt.subplots(figsize=(13, 8))\n",
    "lr_hyper_disp = plot_roc_curve(gs_lr_hyper, X_test, y_test, name = 'LR', ax = ax)\n",
    "knn_disp = plot_roc_curve(gs_knn, X_test, y_test, name = 'KNN', ax = lr_hyper_disp.ax_)\n",
    "svm_disp = plot_roc_curve(gs_svc, X_test, y_test, name = 'SVM', ax = lr_hyper_disp.ax_)\n",
    "plt.legend(prop={\"size\":20});\n",
    "plt.savefig(\"../graph/optimised_models_auc_cv.jpg\", bbox_inches = 'tight')"
   ]
  },
  {
   "cell_type": "code",
   "execution_count": null,
   "id": "af4a35d3",
   "metadata": {},
   "outputs": [],
   "source": []
  }
 ],
 "metadata": {
  "kernelspec": {
   "display_name": "Python 3",
   "language": "python",
   "name": "python3"
  },
  "language_info": {
   "codemirror_mode": {
    "name": "ipython",
    "version": 3
   },
   "file_extension": ".py",
   "mimetype": "text/x-python",
   "name": "python",
   "nbconvert_exporter": "python",
   "pygments_lexer": "ipython3",
   "version": "3.8.8"
  }
 },
 "nbformat": 4,
 "nbformat_minor": 5
}
