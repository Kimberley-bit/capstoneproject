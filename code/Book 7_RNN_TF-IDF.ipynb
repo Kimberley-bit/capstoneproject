{
 "cells": [
  {
   "cell_type": "markdown",
   "id": "be063af2",
   "metadata": {},
   "source": [
    "## Book 7_Recurrent Neural Network_TF-IDF"
   ]
  },
  {
   "cell_type": "code",
   "execution_count": 1,
   "id": "bb9a4ef7",
   "metadata": {},
   "outputs": [],
   "source": [
    "import pandas as pd\n",
    "import numpy as np\n",
    "\n",
    "# for modelling\n",
    "from sklearn.model_selection import train_test_split, cross_val_score\n",
    "from sklearn.preprocessing import StandardScaler\n",
    "from sklearn.metrics import accuracy_score,recall_score,precision_score,f1_score\n",
    "from sklearn.metrics import confusion_matrix\n",
    "from sklearn.linear_model import LogisticRegression\n",
    "from sklearn.metrics import confusion_matrix, roc_auc_score, plot_roc_curve, plot_confusion_matrix\n",
    "import matplotlib.pyplot as plt\n",
    "\n",
    "# for Model Tuning\n",
    "from sklearn.model_selection import GridSearchCV\n",
    "from sklearn.pipeline import Pipeline\n",
    "import warnings\n",
    "warnings.filterwarnings('ignore')\n",
    "from time import time\n",
    "from sklearn.model_selection import train_test_split, GridSearchCV\n",
    "from sklearn.linear_model import LogisticRegression\n",
    "from sklearn.pipeline import Pipeline\n",
    "from sklearn.naive_bayes import MultinomialNB\n",
    "from sklearn.metrics import confusion_matrix, roc_auc_score, plot_roc_curve, plot_confusion_matrix\n",
    "from sklearn.neighbors import KNeighborsClassifier\n",
    "from sklearn.tree import DecisionTreeClassifier\n",
    "from time import time\n",
    "from sklearn.ensemble import BaggingClassifier, AdaBoostClassifier, GradientBoostingClassifier\n",
    "\n",
    "from sklearn import metrics\n",
    "from sklearn.ensemble import RandomForestClassifier\n",
    "\n",
    "from sklearn.linear_model import Perceptron\n",
    "from keras.models import Sequential\n",
    "from keras.layers import *\n",
    "\n",
    "from keras.models import Sequential\n",
    "from keras.layers import Dense, Dropout\n",
    "from keras.wrappers.scikit_learn import KerasClassifier\n",
    "from sklearn.model_selection import cross_val_score\n",
    "from sklearn.preprocessing import LabelEncoder\n",
    "from sklearn.model_selection import StratifiedKFold\n",
    "from sklearn.preprocessing import StandardScaler\n",
    "from sklearn.pipeline import Pipeline\n",
    "from keras.utils import np_utils\n",
    "from sklearn.model_selection import KFold\n",
    "from sklearn.metrics import confusion_matrix\n",
    "import itertools\n",
    "\n",
    "from __future__ import print_function\n",
    "import keras\n",
    "from keras.datasets import mnist\n",
    "from keras.models import Sequential\n",
    "from keras.layers import Dense, Dropout, Flatten\n",
    "import numpy\n",
    "from sklearn.model_selection import GridSearchCV\n",
    "from keras.wrappers.scikit_learn import KerasClassifier\n",
    "from keras.optimizers import SGD\n",
    "from keras.constraints import maxnorm\n",
    "\n",
    "from tensorflow.keras.models import Sequential\n",
    "from tensorflow.keras.layers import Dense, Input, Dropout\n",
    "from tensorflow.keras import utils as np_utils\n",
    "from keras.preprocessing.text import Tokenizer\n",
    "from keras.preprocessing.sequence import pad_sequences\n",
    "\n",
    "pd.set_option('display.max_columns', None)\n",
    "pd.set_option('display.max_rows', None)"
   ]
  },
  {
   "cell_type": "code",
   "execution_count": 2,
   "id": "3c9afa40",
   "metadata": {},
   "outputs": [],
   "source": [
    "# Importing \n",
    "suicide_merged = pd.read_csv('./data/suicide_merged.csv')"
   ]
  },
  {
   "cell_type": "code",
   "execution_count": 3,
   "id": "86b042f1",
   "metadata": {},
   "outputs": [],
   "source": [
    "di = {'suicide': 1, 'non-suicide' : 0}\n",
    "suicide_merged['class'] = suicide_merged['class'].map(di)"
   ]
  },
  {
   "cell_type": "code",
   "execution_count": 4,
   "id": "057c0a00",
   "metadata": {},
   "outputs": [
    {
     "data": {
      "text/plain": [
       "(4000, 11)"
      ]
     },
     "execution_count": 4,
     "metadata": {},
     "output_type": "execute_result"
    }
   ],
   "source": [
    "suicide_merged.shape"
   ]
  },
  {
   "cell_type": "code",
   "execution_count": 5,
   "id": "66a37224",
   "metadata": {},
   "outputs": [
    {
     "data": {
      "text/plain": [
       "0    2000\n",
       "1    2000\n",
       "Name: class, dtype: int64"
      ]
     },
     "execution_count": 5,
     "metadata": {},
     "output_type": "execute_result"
    }
   ],
   "source": [
    "suicide_merged['class'].value_counts()"
   ]
  },
  {
   "cell_type": "code",
   "execution_count": 6,
   "id": "6ebf065a",
   "metadata": {},
   "outputs": [],
   "source": [
    "suicide_merged['text_clean'] = suicide_merged['text_clean'].astype(str)"
   ]
  },
  {
   "cell_type": "code",
   "execution_count": 7,
   "id": "10b4e4a2",
   "metadata": {},
   "outputs": [],
   "source": [
    "#suicide_merged['class'] = suicide_merged['class'].astype(str)"
   ]
  },
  {
   "cell_type": "code",
   "execution_count": 8,
   "id": "4d86acba",
   "metadata": {},
   "outputs": [],
   "source": [
    "# assigning X and y \n",
    "X = suicide_merged['text_clean']\n",
    "y = suicide_merged['class']"
   ]
  },
  {
   "cell_type": "code",
   "execution_count": 9,
   "id": "be183b37",
   "metadata": {},
   "outputs": [],
   "source": [
    "X_train, X_test, y_train, y_test = train_test_split(X, y, \n",
    "                                                    test_size=0.25,\n",
    "                                                    random_state=42)"
   ]
  },
  {
   "cell_type": "code",
   "execution_count": 10,
   "id": "a71cb135",
   "metadata": {},
   "outputs": [],
   "source": [
    "# Initialize and fit the tokenizer\n",
    "tokenizer = Tokenizer()\n",
    "\n",
    "# Train the tokenizer and use the tokenizer to convert sentences to sequences of numbers\n",
    "# where each number represents the index of the word stored in the tokenizer\n",
    "tokenizer.fit_on_texts(X_train)"
   ]
  },
  {
   "cell_type": "code",
   "execution_count": 11,
   "id": "b862228f",
   "metadata": {},
   "outputs": [],
   "source": [
    "# Use that tokenizer to transform (convert) the text message strings in training and test data\n",
    "# into a list of integers where each integer represents the index of that word\n",
    "X_train_seq = tokenizer.texts_to_sequences(X_train)\n",
    "X_test_seq = tokenizer.texts_to_sequences(X_test)"
   ]
  },
  {
   "cell_type": "code",
   "execution_count": 12,
   "id": "e22854cb",
   "metadata": {},
   "outputs": [
    {
     "data": {
      "text/plain": [
       "[46,\n",
       " 350,\n",
       " 46,\n",
       " 1,\n",
       " 44,\n",
       " 7,\n",
       " 706,\n",
       " 29,\n",
       " 6,\n",
       " 758,\n",
       " 179,\n",
       " 1294,\n",
       " 6321,\n",
       " 87,\n",
       " 2,\n",
       " 134,\n",
       " 7,\n",
       " 40,\n",
       " 247,\n",
       " 529,\n",
       " 1,\n",
       " 17,\n",
       " 89,\n",
       " 6,\n",
       " 338,\n",
       " 11,\n",
       " 1,\n",
       " 120,\n",
       " 1,\n",
       " 74,\n",
       " 2,\n",
       " 296,\n",
       " 3,\n",
       " 889,\n",
       " 2865,\n",
       " 779,\n",
       " 63,\n",
       " 6,\n",
       " 167,\n",
       " 162,\n",
       " 1,\n",
       " 116,\n",
       " 14,\n",
       " 15,\n",
       " 85,\n",
       " 212,\n",
       " 1,\n",
       " 130,\n",
       " 88,\n",
       " 300,\n",
       " 88,\n",
       " 300,\n",
       " 690,\n",
       " 587,\n",
       " 121,\n",
       " 86,\n",
       " 82,\n",
       " 3417,\n",
       " 3,\n",
       " 862,\n",
       " 988,\n",
       " 9,\n",
       " 74,\n",
       " 169,\n",
       " 7,\n",
       " 86,\n",
       " 1,\n",
       " 130,\n",
       " 186,\n",
       " 191,\n",
       " 1,\n",
       " 130,\n",
       " 142,\n",
       " 677,\n",
       " 1,\n",
       " 130,\n",
       " 186,\n",
       " 2,\n",
       " 1295,\n",
       " 2,\n",
       " 530,\n",
       " 1,\n",
       " 130,\n",
       " 186,\n",
       " 1021,\n",
       " 600,\n",
       " 3,\n",
       " 181,\n",
       " 8,\n",
       " 33,\n",
       " 1,\n",
       " 130,\n",
       " 32,\n",
       " 1,\n",
       " 30,\n",
       " 145,\n",
       " 34,\n",
       " 7,\n",
       " 400,\n",
       " 36,\n",
       " 7,\n",
       " 338,\n",
       " 3418,\n",
       " 125,\n",
       " 199,\n",
       " 11,\n",
       " 19,\n",
       " 345,\n",
       " 8,\n",
       " 3419,\n",
       " 32,\n",
       " 2,\n",
       " 707,\n",
       " 121,\n",
       " 86,\n",
       " 34,\n",
       " 48,\n",
       " 549,\n",
       " 120,\n",
       " 9,\n",
       " 1182,\n",
       " 44,\n",
       " 94,\n",
       " 1,\n",
       " 746,\n",
       " 32,\n",
       " 3,\n",
       " 1064,\n",
       " 9,\n",
       " 5,\n",
       " 82,\n",
       " 167,\n",
       " 11,\n",
       " 628,\n",
       " 9,\n",
       " 300,\n",
       " 13,\n",
       " 5,\n",
       " 416,\n",
       " 11,\n",
       " 1,\n",
       " 30,\n",
       " 17,\n",
       " 6,\n",
       " 917,\n",
       " 3,\n",
       " 1875,\n",
       " 113,\n",
       " 2,\n",
       " 76,\n",
       " 32,\n",
       " 22,\n",
       " 34,\n",
       " 1,\n",
       " 144,\n",
       " 3420,\n",
       " 1361,\n",
       " 6,\n",
       " 758,\n",
       " 179,\n",
       " 1294,\n",
       " 32,\n",
       " 46,\n",
       " 917,\n",
       " 46,\n",
       " 1,\n",
       " 68,\n",
       " 153,\n",
       " 12,\n",
       " 7,\n",
       " 90,\n",
       " 2246,\n",
       " 10,\n",
       " 1516,\n",
       " 18,\n",
       " 81,\n",
       " 451,\n",
       " 36,\n",
       " 6,\n",
       " 172,\n",
       " 62,\n",
       " 6,\n",
       " 2032,\n",
       " 199,\n",
       " 20,\n",
       " 268,\n",
       " 199,\n",
       " 146,\n",
       " 3,\n",
       " 181,\n",
       " 8,\n",
       " 33,\n",
       " 199,\n",
       " 9]"
      ]
     },
     "execution_count": 12,
     "metadata": {},
     "output_type": "execute_result"
    }
   ],
   "source": [
    "# Q: What do these sequences look like?\n",
    "# Ans: sequence of numbers representing the words in each text msg\n",
    "# Ans: specifically this is the integer representation of the first text msg in data set\n",
    "# Ans: in other words, each integer is representing a word in the first text msg\n",
    "X_train_seq[0]"
   ]
  },
  {
   "cell_type": "code",
   "execution_count": 13,
   "id": "a6a64690",
   "metadata": {},
   "outputs": [],
   "source": [
    "X_train_seq_padded = pad_sequences(X_train_seq, 50)\n",
    "X_test_seq_padded = pad_sequences(X_test_seq, 50)"
   ]
  },
  {
   "cell_type": "code",
   "execution_count": 14,
   "id": "5720b4cc",
   "metadata": {},
   "outputs": [
    {
     "data": {
      "text/plain": [
       "array([ 917,    3, 1875,  113,    2,   76,   32,   22,   34,    1,  144,\n",
       "       3420, 1361,    6,  758,  179, 1294,   32,   46,  917,   46,    1,\n",
       "         68,  153,   12,    7,   90, 2246,   10, 1516,   18,   81,  451,\n",
       "         36,    6,  172,   62,    6, 2032,  199,   20,  268,  199,  146,\n",
       "          3,  181,    8,   33,  199,    9])"
      ]
     },
     "execution_count": 14,
     "metadata": {},
     "output_type": "execute_result"
    }
   ],
   "source": [
    "X_train_seq_padded[0]"
   ]
  },
  {
   "cell_type": "code",
   "execution_count": null,
   "id": "4ced06f4",
   "metadata": {},
   "outputs": [],
   "source": []
  },
  {
   "cell_type": "code",
   "execution_count": 15,
   "id": "1d90ded2",
   "metadata": {},
   "outputs": [],
   "source": [
    "# Import the tools needed from keras\n",
    "\n",
    "# facilitate the computation of performance metrics\n",
    "import keras.backend as K\n",
    "\n",
    "# type of layers required\n",
    "\n",
    "# RNNs have a short-memory that allow them to store the information processed by the previous layers.\n",
    "# LSTMs are an extension of RNNs whose goal is to “prolong” or “extend” this internal memory\n",
    "# hence allowing them to remember previous words, previous sentences or any other value from the\n",
    "# beginning of a long sequence.\n",
    "from keras.layers import Dense, Embedding, LSTM\n",
    "\n",
    "# type of model required\n",
    "from keras.models import Sequential\n",
    "\n",
    "# define custom functions to calculate recall and precision\n",
    "def recall_m(y_true, y_pred):\n",
    "        # K.round: Element-wise rounding to the closest integer\n",
    "        # K.clip: Element-wise value clipping to min and max values specified\n",
    "        # K.epsilon: When there's a division operation taking place, it's often added to denominator to prevent\n",
    "            # a divide by zero error. Epsilon is small value that makes very little difference to the value of \n",
    "            # the denominator, but ensures that it isn't equal to exactly zero.\n",
    "        true_positives = K.sum(K.round(K.clip(y_true * y_pred, 0, 1)))\n",
    "        possible_positives = K.sum(K.round(K.clip(y_true, 0, 1)))\n",
    "        recall = true_positives / (possible_positives + K.epsilon())\n",
    "        return recall\n",
    "\n",
    "def precision_m(y_true, y_pred):\n",
    "        true_positives = K.sum(K.round(K.clip(y_true * y_pred, 0, 1)))\n",
    "        predicted_positives = K.sum(K.round(K.clip(y_pred, 0, 1)))\n",
    "        precision = true_positives / (predicted_positives + K.epsilon())\n",
    "        return precision"
   ]
  },
  {
   "cell_type": "code",
   "execution_count": 16,
   "id": "c140a82a",
   "metadata": {},
   "outputs": [
    {
     "name": "stdout",
     "output_type": "stream",
     "text": [
      "Model: \"sequential\"\n",
      "_________________________________________________________________\n",
      "Layer (type)                 Output Shape              Param #   \n",
      "=================================================================\n",
      "embedding (Embedding)        (None, None, 32)          447840    \n",
      "_________________________________________________________________\n",
      "lstm (LSTM)                  (None, 32)                8320      \n",
      "_________________________________________________________________\n",
      "dense (Dense)                (None, 32)                1056      \n",
      "_________________________________________________________________\n",
      "dense_1 (Dense)              (None, 1)                 33        \n",
      "=================================================================\n",
      "Total params: 457,249\n",
      "Trainable params: 457,249\n",
      "Non-trainable params: 0\n",
      "_________________________________________________________________\n"
     ]
    }
   ],
   "source": [
    "# Create a RNN model\n",
    "model = Sequential()\n",
    "\n",
    "# Add Embedding layer which will take the text msg that is being passed in and create an embedding\n",
    "# or vector representation of that text msg\n",
    "\n",
    "# 'len(tokenizer.index_word)+1' refers to input dimensionality i.e. how many words are there in total\n",
    "# Need to add 1 to get full dimensionality since count starts from zero\n",
    "# Instructs embedding layer how many words to expect as input\n",
    "\n",
    "# '32' refers to the output dimensionality or in other words create embeddings of length=32\n",
    "# This is a parameter that you may consider tuning as part of model optimization\n",
    "model.add(Embedding(len(tokenizer.index_word)+1, 32))\n",
    "\n",
    "# LSTM (Long Short Term Memory) layer is a type of RNN layer used when the chain of input-chunks becomes longer \n",
    "# '32' refers to the outout dimensionality which equals to input dimensionality of current layer\n",
    "# Since it is a sequential model the output of previous layer will be passed as input to this LSTM layer\n",
    "model.add(LSTM(32))\n",
    "\n",
    "# fully connected layer i.e. every node is layer is connected to every node in the layer before\n",
    "model.add(Dense(32, activation='relu'))\n",
    "\n",
    "# Take 32 dimensions from the layer before and output one dimension\n",
    "# Condense everything down to make a prediction of either spam or ham \n",
    "model.add(Dense(1, activation='sigmoid'))\n",
    "model.summary()"
   ]
  },
  {
   "cell_type": "code",
   "execution_count": 17,
   "id": "5049e16a",
   "metadata": {},
   "outputs": [],
   "source": [
    "# Compile the model\n",
    "model.compile(optimizer='adam',\n",
    "              loss='binary_crossentropy', # standard option for binary target variables\n",
    "              metrics=['accuracy', precision_m, recall_m]) # metrics to display"
   ]
  },
  {
   "cell_type": "code",
   "execution_count": 18,
   "id": "a574995a",
   "metadata": {},
   "outputs": [
    {
     "name": "stdout",
     "output_type": "stream",
     "text": [
      "Epoch 1/10\n",
      "94/94 [==============================] - 2s 16ms/step - loss: 0.6475 - accuracy: 0.6303 - precision_m: 0.6042 - recall_m: 0.8349 - val_loss: 0.5492 - val_accuracy: 0.7090 - val_precision_m: 0.6922 - val_recall_m: 0.7835\n",
      "Epoch 2/10\n",
      "94/94 [==============================] - 1s 11ms/step - loss: 0.4355 - accuracy: 0.7900 - precision_m: 0.7809 - recall_m: 0.8100 - val_loss: 0.5175 - val_accuracy: 0.7210 - val_precision_m: 0.7126 - val_recall_m: 0.7620\n",
      "Epoch 3/10\n",
      "94/94 [==============================] - 1s 11ms/step - loss: 0.2495 - accuracy: 0.9013 - precision_m: 0.8940 - recall_m: 0.9152 - val_loss: 0.6079 - val_accuracy: 0.7040 - val_precision_m: 0.6874 - val_recall_m: 0.7747\n",
      "Epoch 4/10\n",
      "94/94 [==============================] - 1s 12ms/step - loss: 0.1371 - accuracy: 0.9497 - precision_m: 0.9445 - recall_m: 0.9587 - val_loss: 0.8270 - val_accuracy: 0.6910 - val_precision_m: 0.6839 - val_recall_m: 0.7333\n",
      "Epoch 5/10\n",
      "94/94 [==============================] - 1s 11ms/step - loss: 0.0677 - accuracy: 0.9753 - precision_m: 0.9748 - recall_m: 0.9763 - val_loss: 0.9386 - val_accuracy: 0.6910 - val_precision_m: 0.6858 - val_recall_m: 0.7342\n",
      "Epoch 6/10\n",
      "94/94 [==============================] - 1s 11ms/step - loss: 0.0359 - accuracy: 0.9887 - precision_m: 0.9904 - recall_m: 0.9879 - val_loss: 1.3023 - val_accuracy: 0.6980 - val_precision_m: 0.6725 - val_recall_m: 0.8099\n",
      "Epoch 7/10\n",
      "94/94 [==============================] - 1s 11ms/step - loss: 0.0243 - accuracy: 0.9907 - precision_m: 0.9885 - recall_m: 0.9918 - val_loss: 1.2820 - val_accuracy: 0.7150 - val_precision_m: 0.7382 - val_recall_m: 0.6840\n",
      "Epoch 8/10\n",
      "94/94 [==============================] - 1s 11ms/step - loss: 0.0215 - accuracy: 0.9940 - precision_m: 0.9951 - recall_m: 0.9937 - val_loss: 1.3760 - val_accuracy: 0.7140 - val_precision_m: 0.7367 - val_recall_m: 0.6871\n",
      "Epoch 9/10\n",
      "94/94 [==============================] - 1s 11ms/step - loss: 0.0068 - accuracy: 0.9980 - precision_m: 0.9975 - recall_m: 0.9986 - val_loss: 1.6127 - val_accuracy: 0.7060 - val_precision_m: 0.7647 - val_recall_m: 0.6057\n",
      "Epoch 10/10\n",
      "94/94 [==============================] - 1s 11ms/step - loss: 0.0075 - accuracy: 0.9983 - precision_m: 0.9987 - recall_m: 0.9984 - val_loss: 1.6337 - val_accuracy: 0.7070 - val_precision_m: 0.7113 - val_recall_m: 0.7181\n"
     ]
    }
   ],
   "source": [
    "# Fit the RNN model\n",
    "history = model.fit(X_train_seq_padded, y_train, \n",
    "                    batch_size=32, epochs=10, # batch_size = number of samples per epoch while epoch = number of loops\n",
    "                    validation_data=(X_test_seq_padded, y_test)) # apply model to unseen data i.e. test data"
   ]
  },
  {
   "cell_type": "code",
   "execution_count": 19,
   "id": "6a946e40",
   "metadata": {},
   "outputs": [
    {
     "data": {
      "image/png": "[encoded data removed]",
      "text/plain": [
       "<Figure size 432x288 with 1 Axes>"
      ]
     },
     "metadata": {
      "needs_background": "light"
     },
     "output_type": "display_data"
    },
    {
     "data": {
      "image/png": "[encoded data removed]",
      "text/plain": [
       "<Figure size 432x288 with 1 Axes>"
      ]
     },
     "metadata": {
      "needs_background": "light"
     },
     "output_type": "display_data"
    },
    {
     "data": {
      "image/png": "[encoded data removed]",
      "text/plain": [
       "<Figure size 432x288 with 1 Axes>"
      ]
     },
     "metadata": {
      "needs_background": "light"
     },
     "output_type": "display_data"
    }
   ],
   "source": [
    "# Plot the evaluation metrics by each epoch for the model to see if we are over or underfitting\n",
    "import matplotlib.pyplot as plt\n",
    "\n",
    "for i in ['accuracy', 'precision_m', 'recall_m']:\n",
    "    acc = history.history[i]\n",
    "    val_acc = history.history['val_{}'.format(i)]\n",
    "    epochs = range(1, len(acc) + 1)\n",
    "\n",
    "    plt.figure()\n",
    "    plt.plot(epochs, acc, label='Training Accuracy')\n",
    "    plt.plot(epochs, val_acc, label='Validation Accuracy')\n",
    "    plt.title('Results for {}'.format(i))\n",
    "    plt.legend()\n",
    "    plt.show()\n",
    "    \n",
    "    # validation accuracy, precision and recal appears to be relatively consistent over time"
   ]
  },
  {
   "cell_type": "code",
   "execution_count": null,
   "id": "0d1e01fd",
   "metadata": {},
   "outputs": [],
   "source": []
  },
  {
   "cell_type": "code",
   "execution_count": null,
   "id": "8c192795",
   "metadata": {},
   "outputs": [],
   "source": []
  }
 ],
 "metadata": {
  "kernelspec": {
   "display_name": "Python 3",
   "language": "python",
   "name": "python3"
  },
  "language_info": {
   "codemirror_mode": {
    "name": "ipython",
    "version": 3
   },
   "file_extension": ".py",
   "mimetype": "text/x-python",
   "name": "python",
   "nbconvert_exporter": "python",
   "pygments_lexer": "ipython3",
   "version": "3.8.8"
  }
 },
 "nbformat": 4,
 "nbformat_minor": 5
}
