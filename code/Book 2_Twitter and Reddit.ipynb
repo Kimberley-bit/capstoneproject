{
 "cells": [
  {
   "cell_type": "markdown",
   "id": "50cce0b2",
   "metadata": {},
   "source": [
    "## Book 2_Twitter & Reddit_ Data Cleaning"
   ]
  },
  {
   "cell_type": "markdown",
   "id": "382df981",
   "metadata": {},
   "source": [
    "*Note: I was unable to upload all of the datasets that I have used in these notebooks onto github because of how big the size of the file was. But if you have any questions feel free to reach out to me thank you :)*"
   ]
  },
  {
   "cell_type": "markdown",
   "id": "bc9ae1dc",
   "metadata": {},
   "source": [
    "Book 2 focuses on the data cleaning of both Twitter and Reddit.\n",
    "\n",
    "For the cleaning of the **Twitter’s** data:\n",
    "> 1. Removing of any emojis that may exist in the posts\n",
    "2. Removing of any URLs\n",
    "3. Removing any mentions (eg. @xxx)\n",
    "4. Removing any hashtags (eg. #world)\n",
    "5. Dropping any null values\n",
    "6. Dropping any duplicates\n",
    "7. Dropping any unnecessary rows and columns\n",
    "\n",
    "For the cleaning of the **Reddit’s** data:\n",
    "> 1. Removing of any URLs\n",
    "2. Removing any mentions (eg. @xxx)\n",
    "3. Removing any hashtags (eg. #world)\n",
    "4. Dropping any null values\n",
    "5. Dropping any unnecessary rows and columns\n",
    "\n",
    "Twitter’s data was then be exported as: ‘T_suicide.csv’\n",
    "\n",
    "Reddit’s data was then be exported as: ‘R_suicide.csv’\n"
   ]
  },
  {
   "cell_type": "code",
   "execution_count": 1,
   "id": "abcf7138",
   "metadata": {},
   "outputs": [],
   "source": [
    "import pandas as pd\n",
    "import numpy as np\n",
    "import seaborn as sns\n",
    "import matplotlib.pyplot as plt\n",
    "\n",
    "import string\n",
    "import regex as re\n",
    "import re\n",
    "import nltk\n",
    "\n",
    "from sklearn.decomposition import NMF, LatentDirichletAllocation\n",
    "stopwords = nltk.corpus.stopwords.words('english')\n",
    "ps = nltk.PorterStemmer()\n",
    "from sklearn.feature_extraction.text import CountVectorizer, TfidfVectorizer\n",
    "from wordcloud import WordCloud, ImageColorGenerator\n",
    "from nltk.probability import FreqDist\n",
    "from textblob import TextBlob\n",
    "import preprocessor as p\n",
    "from tqdm import tqdm\n"
   ]
  },
  {
   "cell_type": "markdown",
   "id": "c9955973",
   "metadata": {},
   "source": [
    "## Twitter's Data"
   ]
  },
  {
   "cell_type": "code",
   "execution_count": 2,
   "id": "051eddab",
   "metadata": {},
   "outputs": [],
   "source": [
    "# Importing\n",
    "T_suicide = pd.read_csv('../data/tweets_merged_Final_Edited_02.csv')"
   ]
  },
  {
   "cell_type": "code",
   "execution_count": 3,
   "id": "6b9a452b",
   "metadata": {},
   "outputs": [],
   "source": [
    "# Removing emojis\n",
    "def demoji(text):\n",
    "    emoji_pattern = re.compile(\"[\"\n",
    "                               u\"\\U0001F600-\\U0001F64F\"  # emoticons\n",
    "                               u\"\\U0001F300-\\U0001F5FF\"  # symbols & pictographs\n",
    "                               u\"\\U0001F680-\\U0001F6FF\"  # transport & map symbols\n",
    "                               u\"\\U0001F1E0-\\U0001F1FF\"  # flags (iOS)\n",
    "                               u\"\\U00002702-\\U000027B0\"\n",
    "                               u\"\\U000024C2-\\U0001F251\"\n",
    "                               u\"\\U00010000-\\U0010ffff\"\n",
    "                               \"]+\", flags=re.UNICODE)\n",
    "    return(emoji_pattern.sub(r'', text))"
   ]
  },
  {
   "cell_type": "code",
   "execution_count": 4,
   "id": "d484f747",
   "metadata": {},
   "outputs": [],
   "source": [
    "T_suicide[u'Text'] = T_suicide[u'Text'].astype(str)"
   ]
  },
  {
   "cell_type": "code",
   "execution_count": 5,
   "id": "1600153d",
   "metadata": {},
   "outputs": [],
   "source": [
    "T_suicide[u'Text'] = T_suicide[u'Text'].apply(lambda x:demoji(x))"
   ]
  },
  {
   "cell_type": "code",
   "execution_count": 6,
   "id": "7ad18e67",
   "metadata": {},
   "outputs": [
    {
     "data": {
      "text/html": [
       "<div>\n",
       "<style scoped>\n",
       "    .dataframe tbody tr th:only-of-type {\n",
       "        vertical-align: middle;\n",
       "    }\n",
       "\n",
       "    .dataframe tbody tr th {\n",
       "        vertical-align: top;\n",
       "    }\n",
       "\n",
       "    .dataframe thead th {\n",
       "        text-align: right;\n",
       "    }\n",
       "</style>\n",
       "<table border=\"1\" class=\"dataframe\">\n",
       "  <thead>\n",
       "    <tr style=\"text-align: right;\">\n",
       "      <th></th>\n",
       "      <th>Datetime</th>\n",
       "      <th>Tweet Id</th>\n",
       "      <th>Text</th>\n",
       "      <th>Username</th>\n",
       "      <th>Class</th>\n",
       "    </tr>\n",
       "  </thead>\n",
       "  <tbody>\n",
       "    <tr>\n",
       "      <th>0</th>\n",
       "      <td>2020-01-17 23:59:10+00:00</td>\n",
       "      <td>1.220000e+18</td>\n",
       "      <td>job and i wouldn’t have to save money toward a...</td>\n",
       "      <td>KaiiiKay</td>\n",
       "      <td>suicide</td>\n",
       "    </tr>\n",
       "    <tr>\n",
       "      <th>1</th>\n",
       "      <td>2020-01-17 23:32:32+00:00</td>\n",
       "      <td>1.220000e+18</td>\n",
       "      <td>I HATE ME SO MUCH I WANT TO KILL MYSELF NO ONE...</td>\n",
       "      <td>MGlmcm</td>\n",
       "      <td>suicide</td>\n",
       "    </tr>\n",
       "    <tr>\n",
       "      <th>2</th>\n",
       "      <td>2020-01-17 23:30:16+00:00</td>\n",
       "      <td>1.220000e+18</td>\n",
       "      <td>Back on here the cry for help but I don’t want...</td>\n",
       "      <td>Coughin_Up_Love</td>\n",
       "      <td>suicide</td>\n",
       "    </tr>\n",
       "    <tr>\n",
       "      <th>3</th>\n",
       "      <td>2020-01-17 22:57:16+00:00</td>\n",
       "      <td>1.220000e+18</td>\n",
       "      <td>Ya ever had that feeling of \"I don't want to k...</td>\n",
       "      <td>real_red_rabbit</td>\n",
       "      <td>suicide</td>\n",
       "    </tr>\n",
       "    <tr>\n",
       "      <th>4</th>\n",
       "      <td>2020-01-17 22:11:03+00:00</td>\n",
       "      <td>1.220000e+18</td>\n",
       "      <td>I really want to kill myself just to stop thin...</td>\n",
       "      <td>TALA6955</td>\n",
       "      <td>suicide</td>\n",
       "    </tr>\n",
       "  </tbody>\n",
       "</table>\n",
       "</div>"
      ],
      "text/plain": [
       "                    Datetime      Tweet Id  \\\n",
       "0  2020-01-17 23:59:10+00:00  1.220000e+18   \n",
       "1  2020-01-17 23:32:32+00:00  1.220000e+18   \n",
       "2  2020-01-17 23:30:16+00:00  1.220000e+18   \n",
       "3  2020-01-17 22:57:16+00:00  1.220000e+18   \n",
       "4  2020-01-17 22:11:03+00:00  1.220000e+18   \n",
       "\n",
       "                                                Text         Username    Class  \n",
       "0  job and i wouldn’t have to save money toward a...         KaiiiKay  suicide  \n",
       "1  I HATE ME SO MUCH I WANT TO KILL MYSELF NO ONE...           MGlmcm  suicide  \n",
       "2  Back on here the cry for help but I don’t want...  Coughin_Up_Love  suicide  \n",
       "3  Ya ever had that feeling of \"I don't want to k...  real_red_rabbit  suicide  \n",
       "4  I really want to kill myself just to stop thin...         TALA6955  suicide  "
      ]
     },
     "execution_count": 6,
     "metadata": {},
     "output_type": "execute_result"
    }
   ],
   "source": [
    "T_suicide.head()"
   ]
  },
  {
   "cell_type": "code",
   "execution_count": 7,
   "id": "b775148e",
   "metadata": {},
   "outputs": [],
   "source": [
    "# Exporting\n",
    "T_suicide.to_csv('../data/tweets_merged_Final_Edited_03.csv',index=False, encoding='utf-8')"
   ]
  },
  {
   "cell_type": "code",
   "execution_count": 8,
   "id": "65d8ccab",
   "metadata": {},
   "outputs": [],
   "source": [
    "# Reimport data\n",
    "T_suicide = pd.read_csv('../data/tweets_merged_Final_Edited_03.csv')"
   ]
  },
  {
   "cell_type": "code",
   "execution_count": 9,
   "id": "f3cfe7e1",
   "metadata": {},
   "outputs": [
    {
     "data": {
      "text/plain": [
       "pandas.core.frame.DataFrame"
      ]
     },
     "execution_count": 9,
     "metadata": {},
     "output_type": "execute_result"
    }
   ],
   "source": [
    "type(T_suicide)"
   ]
  },
  {
   "cell_type": "code",
   "execution_count": 10,
   "id": "d065c784",
   "metadata": {},
   "outputs": [
    {
     "data": {
      "text/plain": [
       "(2182, 5)"
      ]
     },
     "execution_count": 10,
     "metadata": {},
     "output_type": "execute_result"
    }
   ],
   "source": [
    "T_suicide.shape"
   ]
  },
  {
   "cell_type": "code",
   "execution_count": 11,
   "id": "d409dd6b",
   "metadata": {},
   "outputs": [
    {
     "name": "stdout",
     "output_type": "stream",
     "text": [
      "<class 'pandas.core.frame.DataFrame'>\n",
      "RangeIndex: 2182 entries, 0 to 2181\n",
      "Data columns (total 5 columns):\n",
      " #   Column    Non-Null Count  Dtype  \n",
      "---  ------    --------------  -----  \n",
      " 0   Datetime  2182 non-null   object \n",
      " 1   Tweet Id  2182 non-null   float64\n",
      " 2   Text      2180 non-null   object \n",
      " 3   Username  2182 non-null   object \n",
      " 4   Class     2182 non-null   object \n",
      "dtypes: float64(1), object(4)\n",
      "memory usage: 85.4+ KB\n"
     ]
    }
   ],
   "source": [
    "T_suicide.info()"
   ]
  },
  {
   "cell_type": "code",
   "execution_count": 12,
   "id": "c11acd56",
   "metadata": {},
   "outputs": [
    {
     "data": {
      "text/html": [
       "<div>\n",
       "<style scoped>\n",
       "    .dataframe tbody tr th:only-of-type {\n",
       "        vertical-align: middle;\n",
       "    }\n",
       "\n",
       "    .dataframe tbody tr th {\n",
       "        vertical-align: top;\n",
       "    }\n",
       "\n",
       "    .dataframe thead th {\n",
       "        text-align: right;\n",
       "    }\n",
       "</style>\n",
       "<table border=\"1\" class=\"dataframe\">\n",
       "  <thead>\n",
       "    <tr style=\"text-align: right;\">\n",
       "      <th></th>\n",
       "      <th>Datetime</th>\n",
       "      <th>Tweet Id</th>\n",
       "      <th>Text</th>\n",
       "      <th>Username</th>\n",
       "      <th>Class</th>\n",
       "    </tr>\n",
       "  </thead>\n",
       "  <tbody>\n",
       "    <tr>\n",
       "      <th>0</th>\n",
       "      <td>2020-01-17 23:59:10+00:00</td>\n",
       "      <td>1.220000e+18</td>\n",
       "      <td>job and i wouldn’t have to save money toward a...</td>\n",
       "      <td>KaiiiKay</td>\n",
       "      <td>suicide</td>\n",
       "    </tr>\n",
       "    <tr>\n",
       "      <th>1</th>\n",
       "      <td>2020-01-17 23:32:32+00:00</td>\n",
       "      <td>1.220000e+18</td>\n",
       "      <td>I HATE ME SO MUCH I WANT TO KILL MYSELF NO ONE...</td>\n",
       "      <td>MGlmcm</td>\n",
       "      <td>suicide</td>\n",
       "    </tr>\n",
       "    <tr>\n",
       "      <th>2</th>\n",
       "      <td>2020-01-17 23:30:16+00:00</td>\n",
       "      <td>1.220000e+18</td>\n",
       "      <td>Back on here the cry for help but I don’t want...</td>\n",
       "      <td>Coughin_Up_Love</td>\n",
       "      <td>suicide</td>\n",
       "    </tr>\n",
       "    <tr>\n",
       "      <th>3</th>\n",
       "      <td>2020-01-17 22:57:16+00:00</td>\n",
       "      <td>1.220000e+18</td>\n",
       "      <td>Ya ever had that feeling of \"I don't want to k...</td>\n",
       "      <td>real_red_rabbit</td>\n",
       "      <td>suicide</td>\n",
       "    </tr>\n",
       "    <tr>\n",
       "      <th>4</th>\n",
       "      <td>2020-01-17 22:11:03+00:00</td>\n",
       "      <td>1.220000e+18</td>\n",
       "      <td>I really want to kill myself just to stop thin...</td>\n",
       "      <td>TALA6955</td>\n",
       "      <td>suicide</td>\n",
       "    </tr>\n",
       "  </tbody>\n",
       "</table>\n",
       "</div>"
      ],
      "text/plain": [
       "                    Datetime      Tweet Id  \\\n",
       "0  2020-01-17 23:59:10+00:00  1.220000e+18   \n",
       "1  2020-01-17 23:32:32+00:00  1.220000e+18   \n",
       "2  2020-01-17 23:30:16+00:00  1.220000e+18   \n",
       "3  2020-01-17 22:57:16+00:00  1.220000e+18   \n",
       "4  2020-01-17 22:11:03+00:00  1.220000e+18   \n",
       "\n",
       "                                                Text         Username    Class  \n",
       "0  job and i wouldn’t have to save money toward a...         KaiiiKay  suicide  \n",
       "1  I HATE ME SO MUCH I WANT TO KILL MYSELF NO ONE...           MGlmcm  suicide  \n",
       "2  Back on here the cry for help but I don’t want...  Coughin_Up_Love  suicide  \n",
       "3  Ya ever had that feeling of \"I don't want to k...  real_red_rabbit  suicide  \n",
       "4  I really want to kill myself just to stop thin...         TALA6955  suicide  "
      ]
     },
     "execution_count": 12,
     "metadata": {},
     "output_type": "execute_result"
    }
   ],
   "source": [
    "T_suicide.head()"
   ]
  },
  {
   "cell_type": "code",
   "execution_count": 13,
   "id": "502cb80a",
   "metadata": {},
   "outputs": [
    {
     "data": {
      "text/html": [
       "<div>\n",
       "<style scoped>\n",
       "    .dataframe tbody tr th:only-of-type {\n",
       "        vertical-align: middle;\n",
       "    }\n",
       "\n",
       "    .dataframe tbody tr th {\n",
       "        vertical-align: top;\n",
       "    }\n",
       "\n",
       "    .dataframe thead th {\n",
       "        text-align: right;\n",
       "    }\n",
       "</style>\n",
       "<table border=\"1\" class=\"dataframe\">\n",
       "  <thead>\n",
       "    <tr style=\"text-align: right;\">\n",
       "      <th></th>\n",
       "      <th>datetime</th>\n",
       "      <th>tweet_id</th>\n",
       "      <th>text</th>\n",
       "      <th>username</th>\n",
       "      <th>class</th>\n",
       "    </tr>\n",
       "  </thead>\n",
       "  <tbody>\n",
       "    <tr>\n",
       "      <th>0</th>\n",
       "      <td>2020-01-17 23:59:10+00:00</td>\n",
       "      <td>1.220000e+18</td>\n",
       "      <td>job and i wouldn’t have to save money toward a...</td>\n",
       "      <td>KaiiiKay</td>\n",
       "      <td>suicide</td>\n",
       "    </tr>\n",
       "    <tr>\n",
       "      <th>1</th>\n",
       "      <td>2020-01-17 23:32:32+00:00</td>\n",
       "      <td>1.220000e+18</td>\n",
       "      <td>I HATE ME SO MUCH I WANT TO KILL MYSELF NO ONE...</td>\n",
       "      <td>MGlmcm</td>\n",
       "      <td>suicide</td>\n",
       "    </tr>\n",
       "    <tr>\n",
       "      <th>2</th>\n",
       "      <td>2020-01-17 23:30:16+00:00</td>\n",
       "      <td>1.220000e+18</td>\n",
       "      <td>Back on here the cry for help but I don’t want...</td>\n",
       "      <td>Coughin_Up_Love</td>\n",
       "      <td>suicide</td>\n",
       "    </tr>\n",
       "    <tr>\n",
       "      <th>3</th>\n",
       "      <td>2020-01-17 22:57:16+00:00</td>\n",
       "      <td>1.220000e+18</td>\n",
       "      <td>Ya ever had that feeling of \"I don't want to k...</td>\n",
       "      <td>real_red_rabbit</td>\n",
       "      <td>suicide</td>\n",
       "    </tr>\n",
       "    <tr>\n",
       "      <th>4</th>\n",
       "      <td>2020-01-17 22:11:03+00:00</td>\n",
       "      <td>1.220000e+18</td>\n",
       "      <td>I really want to kill myself just to stop thin...</td>\n",
       "      <td>TALA6955</td>\n",
       "      <td>suicide</td>\n",
       "    </tr>\n",
       "  </tbody>\n",
       "</table>\n",
       "</div>"
      ],
      "text/plain": [
       "                    datetime      tweet_id  \\\n",
       "0  2020-01-17 23:59:10+00:00  1.220000e+18   \n",
       "1  2020-01-17 23:32:32+00:00  1.220000e+18   \n",
       "2  2020-01-17 23:30:16+00:00  1.220000e+18   \n",
       "3  2020-01-17 22:57:16+00:00  1.220000e+18   \n",
       "4  2020-01-17 22:11:03+00:00  1.220000e+18   \n",
       "\n",
       "                                                text         username    class  \n",
       "0  job and i wouldn’t have to save money toward a...         KaiiiKay  suicide  \n",
       "1  I HATE ME SO MUCH I WANT TO KILL MYSELF NO ONE...           MGlmcm  suicide  \n",
       "2  Back on here the cry for help but I don’t want...  Coughin_Up_Love  suicide  \n",
       "3  Ya ever had that feeling of \"I don't want to k...  real_red_rabbit  suicide  \n",
       "4  I really want to kill myself just to stop thin...         TALA6955  suicide  "
      ]
     },
     "execution_count": 13,
     "metadata": {},
     "output_type": "execute_result"
    }
   ],
   "source": [
    "# Renaming columns\n",
    "T_suicide.rename({'Unnamed: 0': 'unnamed: 0', 'Datetime': 'datetime', \n",
    "                  'Tweet Id': 'tweet_id', 'Text': 'text',\n",
    "                  'Username': 'username', 'Class': 'class'}, axis=1, inplace=True)\n",
    "T_suicide.head()"
   ]
  },
  {
   "cell_type": "code",
   "execution_count": 14,
   "id": "cf856e72",
   "metadata": {},
   "outputs": [
    {
     "data": {
      "text/plain": [
       "suicide        1115\n",
       "non-suicide    1067\n",
       "Name: class, dtype: int64"
      ]
     },
     "execution_count": 14,
     "metadata": {},
     "output_type": "execute_result"
    }
   ],
   "source": [
    "T_suicide['class'].value_counts()"
   ]
  },
  {
   "cell_type": "code",
   "execution_count": 15,
   "id": "e825c7fd",
   "metadata": {},
   "outputs": [
    {
     "data": {
      "text/plain": [
       "datetime    0\n",
       "tweet_id    0\n",
       "text        2\n",
       "username    0\n",
       "class       0\n",
       "dtype: int64"
      ]
     },
     "execution_count": 15,
     "metadata": {},
     "output_type": "execute_result"
    }
   ],
   "source": [
    "T_suicide.isnull().sum()"
   ]
  },
  {
   "cell_type": "markdown",
   "id": "88dcddbc",
   "metadata": {},
   "source": [
    "#### Removing "
   ]
  },
  {
   "cell_type": "code",
   "execution_count": 16,
   "id": "d7885252",
   "metadata": {},
   "outputs": [],
   "source": [
    "T_suicide['text'] = T_suicide['text'].astype(str)"
   ]
  },
  {
   "cell_type": "code",
   "execution_count": 17,
   "id": "63c6c222",
   "metadata": {},
   "outputs": [],
   "source": [
    "# Removing any url links \n",
    "def remove_URL(sample):\n",
    "    \"\"\"Remove URLs from a sample string\"\"\"\n",
    "    return re.sub(r\"http\\S+\", \"\", sample)"
   ]
  },
  {
   "cell_type": "code",
   "execution_count": 18,
   "id": "ed58c921",
   "metadata": {},
   "outputs": [],
   "source": [
    "T_suicide['text'] = T_suicide['text'].apply(lambda x:remove_URL(x))"
   ]
  },
  {
   "cell_type": "code",
   "execution_count": 19,
   "id": "ac4f2ec5",
   "metadata": {},
   "outputs": [],
   "source": [
    "# Removing @ that exist in the tweet\n",
    "def remove_mentions(sample):\n",
    "    return re.sub(\"@[A-Za-z0-9_]+\",\"\", sample)"
   ]
  },
  {
   "cell_type": "code",
   "execution_count": 20,
   "id": "bd2ac1ab",
   "metadata": {},
   "outputs": [],
   "source": [
    "T_suicide['text'] = T_suicide['text'].apply(lambda x:remove_mentions(x))"
   ]
  },
  {
   "cell_type": "code",
   "execution_count": 21,
   "id": "63965a82",
   "metadata": {},
   "outputs": [],
   "source": [
    "# Removing # that exist in the tweet\n",
    "def remove_hashtags(sample):\n",
    "    return re.sub(\"#[A-Za-z0-9_]+\",\"\", sample)"
   ]
  },
  {
   "cell_type": "code",
   "execution_count": 22,
   "id": "6c472139",
   "metadata": {},
   "outputs": [],
   "source": [
    "T_suicide['text'] = T_suicide['text'].apply(lambda x:remove_hashtags(x))"
   ]
  },
  {
   "cell_type": "code",
   "execution_count": 23,
   "id": "d8adaebf",
   "metadata": {},
   "outputs": [],
   "source": [
    "T_suicide['text'] = T_suicide['text'].replace('u200d', ' ')"
   ]
  },
  {
   "cell_type": "code",
   "execution_count": 24,
   "id": "501bfe2a",
   "metadata": {},
   "outputs": [
    {
     "data": {
      "text/html": [
       "<div>\n",
       "<style scoped>\n",
       "    .dataframe tbody tr th:only-of-type {\n",
       "        vertical-align: middle;\n",
       "    }\n",
       "\n",
       "    .dataframe tbody tr th {\n",
       "        vertical-align: top;\n",
       "    }\n",
       "\n",
       "    .dataframe thead th {\n",
       "        text-align: right;\n",
       "    }\n",
       "</style>\n",
       "<table border=\"1\" class=\"dataframe\">\n",
       "  <thead>\n",
       "    <tr style=\"text-align: right;\">\n",
       "      <th></th>\n",
       "      <th>datetime</th>\n",
       "      <th>tweet_id</th>\n",
       "      <th>text</th>\n",
       "      <th>username</th>\n",
       "      <th>class</th>\n",
       "    </tr>\n",
       "  </thead>\n",
       "  <tbody>\n",
       "    <tr>\n",
       "      <th>0</th>\n",
       "      <td>2020-01-17 23:59:10+00:00</td>\n",
       "      <td>1.220000e+18</td>\n",
       "      <td>job and i wouldn’t have to save money toward a...</td>\n",
       "      <td>KaiiiKay</td>\n",
       "      <td>suicide</td>\n",
       "    </tr>\n",
       "    <tr>\n",
       "      <th>1</th>\n",
       "      <td>2020-01-17 23:32:32+00:00</td>\n",
       "      <td>1.220000e+18</td>\n",
       "      <td>I HATE ME SO MUCH I WANT TO KILL MYSELF NO ONE...</td>\n",
       "      <td>MGlmcm</td>\n",
       "      <td>suicide</td>\n",
       "    </tr>\n",
       "    <tr>\n",
       "      <th>2</th>\n",
       "      <td>2020-01-17 23:30:16+00:00</td>\n",
       "      <td>1.220000e+18</td>\n",
       "      <td>Back on here the cry for help but I don’t want...</td>\n",
       "      <td>Coughin_Up_Love</td>\n",
       "      <td>suicide</td>\n",
       "    </tr>\n",
       "    <tr>\n",
       "      <th>3</th>\n",
       "      <td>2020-01-17 22:57:16+00:00</td>\n",
       "      <td>1.220000e+18</td>\n",
       "      <td>Ya ever had that feeling of \"I don't want to k...</td>\n",
       "      <td>real_red_rabbit</td>\n",
       "      <td>suicide</td>\n",
       "    </tr>\n",
       "    <tr>\n",
       "      <th>4</th>\n",
       "      <td>2020-01-17 22:11:03+00:00</td>\n",
       "      <td>1.220000e+18</td>\n",
       "      <td>I really want to kill myself just to stop thin...</td>\n",
       "      <td>TALA6955</td>\n",
       "      <td>suicide</td>\n",
       "    </tr>\n",
       "  </tbody>\n",
       "</table>\n",
       "</div>"
      ],
      "text/plain": [
       "                    datetime      tweet_id  \\\n",
       "0  2020-01-17 23:59:10+00:00  1.220000e+18   \n",
       "1  2020-01-17 23:32:32+00:00  1.220000e+18   \n",
       "2  2020-01-17 23:30:16+00:00  1.220000e+18   \n",
       "3  2020-01-17 22:57:16+00:00  1.220000e+18   \n",
       "4  2020-01-17 22:11:03+00:00  1.220000e+18   \n",
       "\n",
       "                                                text         username    class  \n",
       "0  job and i wouldn’t have to save money toward a...         KaiiiKay  suicide  \n",
       "1  I HATE ME SO MUCH I WANT TO KILL MYSELF NO ONE...           MGlmcm  suicide  \n",
       "2  Back on here the cry for help but I don’t want...  Coughin_Up_Love  suicide  \n",
       "3  Ya ever had that feeling of \"I don't want to k...  real_red_rabbit  suicide  \n",
       "4  I really want to kill myself just to stop thin...         TALA6955  suicide  "
      ]
     },
     "execution_count": 24,
     "metadata": {},
     "output_type": "execute_result"
    }
   ],
   "source": [
    "T_suicide.head()"
   ]
  },
  {
   "cell_type": "markdown",
   "id": "3b89b5f5",
   "metadata": {},
   "source": [
    "#### Dropping"
   ]
  },
  {
   "cell_type": "code",
   "execution_count": 25,
   "id": "622c0181",
   "metadata": {},
   "outputs": [],
   "source": [
    "# Dropping any na rows\n",
    "T_suicide.dropna(inplace = True)"
   ]
  },
  {
   "cell_type": "code",
   "execution_count": 26,
   "id": "c9d87093",
   "metadata": {},
   "outputs": [
    {
     "data": {
      "text/plain": [
       "(2182, 5)"
      ]
     },
     "execution_count": 26,
     "metadata": {},
     "output_type": "execute_result"
    }
   ],
   "source": [
    "T_suicide.shape"
   ]
  },
  {
   "cell_type": "code",
   "execution_count": 27,
   "id": "ad59028f",
   "metadata": {},
   "outputs": [
    {
     "data": {
      "text/plain": [
       "(2065, 5)"
      ]
     },
     "execution_count": 27,
     "metadata": {},
     "output_type": "execute_result"
    }
   ],
   "source": [
    "# Dropping any duplicates\n",
    "T_suicide.drop_duplicates(subset = ['text'], keep = 'first', inplace = True)\n",
    "\n",
    "# No duplicates were found (To check)\n",
    "T_suicide.shape"
   ]
  },
  {
   "cell_type": "code",
   "execution_count": 28,
   "id": "d6ce9e1f",
   "metadata": {},
   "outputs": [
    {
     "data": {
      "text/plain": [
       "non-suicide    1064\n",
       "suicide        1001\n",
       "Name: class, dtype: int64"
      ]
     },
     "execution_count": 28,
     "metadata": {},
     "output_type": "execute_result"
    }
   ],
   "source": [
    "# To check\n",
    "T_suicide['class'].value_counts()"
   ]
  },
  {
   "cell_type": "code",
   "execution_count": 29,
   "id": "9ff0c5b2",
   "metadata": {},
   "outputs": [],
   "source": [
    "# Dropping column\n",
    "T_suicide.drop(['tweet_id'], axis = 1, inplace = True)"
   ]
  },
  {
   "cell_type": "code",
   "execution_count": 30,
   "id": "8f58f519",
   "metadata": {},
   "outputs": [],
   "source": [
    "# Dropping rows (suicide)\n",
    "T_suicide.drop(T_suicide.index[1000:1001], inplace = True)"
   ]
  },
  {
   "cell_type": "code",
   "execution_count": 31,
   "id": "50f43ce7",
   "metadata": {},
   "outputs": [
    {
     "data": {
      "text/plain": [
       "non-suicide    1064\n",
       "suicide        1000\n",
       "Name: class, dtype: int64"
      ]
     },
     "execution_count": 31,
     "metadata": {},
     "output_type": "execute_result"
    }
   ],
   "source": [
    "T_suicide['class'].value_counts()"
   ]
  },
  {
   "cell_type": "code",
   "execution_count": 32,
   "id": "921c1f01",
   "metadata": {},
   "outputs": [],
   "source": [
    "# Dropping rows (non-suicide)\n",
    "T_suicide.drop(T_suicide.index[2000:2064], inplace = True)"
   ]
  },
  {
   "cell_type": "code",
   "execution_count": 33,
   "id": "3e2e7aa8",
   "metadata": {},
   "outputs": [
    {
     "data": {
      "text/plain": [
       "suicide        1000\n",
       "non-suicide    1000\n",
       "Name: class, dtype: int64"
      ]
     },
     "execution_count": 33,
     "metadata": {},
     "output_type": "execute_result"
    }
   ],
   "source": [
    "T_suicide['class'].value_counts()"
   ]
  },
  {
   "cell_type": "code",
   "execution_count": 34,
   "id": "00c6ea62",
   "metadata": {},
   "outputs": [
    {
     "data": {
      "text/html": [
       "<div>\n",
       "<style scoped>\n",
       "    .dataframe tbody tr th:only-of-type {\n",
       "        vertical-align: middle;\n",
       "    }\n",
       "\n",
       "    .dataframe tbody tr th {\n",
       "        vertical-align: top;\n",
       "    }\n",
       "\n",
       "    .dataframe thead th {\n",
       "        text-align: right;\n",
       "    }\n",
       "</style>\n",
       "<table border=\"1\" class=\"dataframe\">\n",
       "  <thead>\n",
       "    <tr style=\"text-align: right;\">\n",
       "      <th></th>\n",
       "      <th>datetime</th>\n",
       "      <th>text</th>\n",
       "      <th>username</th>\n",
       "      <th>class</th>\n",
       "    </tr>\n",
       "  </thead>\n",
       "  <tbody>\n",
       "    <tr>\n",
       "      <th>0</th>\n",
       "      <td>2020-01-17 23:59:10+00:00</td>\n",
       "      <td>job and i wouldn’t have to save money toward a...</td>\n",
       "      <td>KaiiiKay</td>\n",
       "      <td>suicide</td>\n",
       "    </tr>\n",
       "    <tr>\n",
       "      <th>1</th>\n",
       "      <td>2020-01-17 23:32:32+00:00</td>\n",
       "      <td>I HATE ME SO MUCH I WANT TO KILL MYSELF NO ONE...</td>\n",
       "      <td>MGlmcm</td>\n",
       "      <td>suicide</td>\n",
       "    </tr>\n",
       "    <tr>\n",
       "      <th>2</th>\n",
       "      <td>2020-01-17 23:30:16+00:00</td>\n",
       "      <td>Back on here the cry for help but I don’t want...</td>\n",
       "      <td>Coughin_Up_Love</td>\n",
       "      <td>suicide</td>\n",
       "    </tr>\n",
       "    <tr>\n",
       "      <th>3</th>\n",
       "      <td>2020-01-17 22:57:16+00:00</td>\n",
       "      <td>Ya ever had that feeling of \"I don't want to k...</td>\n",
       "      <td>real_red_rabbit</td>\n",
       "      <td>suicide</td>\n",
       "    </tr>\n",
       "    <tr>\n",
       "      <th>4</th>\n",
       "      <td>2020-01-17 22:11:03+00:00</td>\n",
       "      <td>I really want to kill myself just to stop thin...</td>\n",
       "      <td>TALA6955</td>\n",
       "      <td>suicide</td>\n",
       "    </tr>\n",
       "  </tbody>\n",
       "</table>\n",
       "</div>"
      ],
      "text/plain": [
       "                    datetime  \\\n",
       "0  2020-01-17 23:59:10+00:00   \n",
       "1  2020-01-17 23:32:32+00:00   \n",
       "2  2020-01-17 23:30:16+00:00   \n",
       "3  2020-01-17 22:57:16+00:00   \n",
       "4  2020-01-17 22:11:03+00:00   \n",
       "\n",
       "                                                text         username    class  \n",
       "0  job and i wouldn’t have to save money toward a...         KaiiiKay  suicide  \n",
       "1  I HATE ME SO MUCH I WANT TO KILL MYSELF NO ONE...           MGlmcm  suicide  \n",
       "2  Back on here the cry for help but I don’t want...  Coughin_Up_Love  suicide  \n",
       "3  Ya ever had that feeling of \"I don't want to k...  real_red_rabbit  suicide  \n",
       "4  I really want to kill myself just to stop thin...         TALA6955  suicide  "
      ]
     },
     "execution_count": 34,
     "metadata": {},
     "output_type": "execute_result"
    }
   ],
   "source": [
    "# TO check\n",
    "T_suicide.head()"
   ]
  },
  {
   "cell_type": "code",
   "execution_count": 35,
   "id": "c7c877c7",
   "metadata": {},
   "outputs": [
    {
     "data": {
      "text/plain": [
       "datetime    0\n",
       "text        0\n",
       "username    0\n",
       "class       0\n",
       "dtype: int64"
      ]
     },
     "execution_count": 35,
     "metadata": {},
     "output_type": "execute_result"
    }
   ],
   "source": [
    "# To check\n",
    "T_suicide.isnull().sum()"
   ]
  },
  {
   "cell_type": "code",
   "execution_count": 36,
   "id": "212cacee",
   "metadata": {},
   "outputs": [],
   "source": [
    "# Exporting\n",
    "T_suicide.to_csv('../data/T_suicide.csv', index = False)"
   ]
  },
  {
   "cell_type": "markdown",
   "id": "dbbb5fa2",
   "metadata": {},
   "source": [
    "## Reddit's Data"
   ]
  },
  {
   "cell_type": "code",
   "execution_count": 37,
   "id": "679fb6fa",
   "metadata": {},
   "outputs": [],
   "source": [
    "# Using Reddit's data from Kaggle\n",
    "R_suicide = pd.read_csv('../data/suicide_detection_reddit_raw.csv')"
   ]
  },
  {
   "cell_type": "code",
   "execution_count": 38,
   "id": "b0fc5b29",
   "metadata": {},
   "outputs": [
    {
     "data": {
      "text/plain": [
       "pandas.core.frame.DataFrame"
      ]
     },
     "execution_count": 38,
     "metadata": {},
     "output_type": "execute_result"
    }
   ],
   "source": [
    "type(R_suicide)"
   ]
  },
  {
   "cell_type": "code",
   "execution_count": 39,
   "id": "e4da66ca",
   "metadata": {},
   "outputs": [
    {
     "data": {
      "text/plain": [
       "(232074, 3)"
      ]
     },
     "execution_count": 39,
     "metadata": {},
     "output_type": "execute_result"
    }
   ],
   "source": [
    "R_suicide.shape"
   ]
  },
  {
   "cell_type": "code",
   "execution_count": 40,
   "id": "20072ff1",
   "metadata": {},
   "outputs": [
    {
     "name": "stdout",
     "output_type": "stream",
     "text": [
      "<class 'pandas.core.frame.DataFrame'>\n",
      "RangeIndex: 232074 entries, 0 to 232073\n",
      "Data columns (total 3 columns):\n",
      " #   Column      Non-Null Count   Dtype \n",
      "---  ------      --------------   ----- \n",
      " 0   Unnamed: 0  232074 non-null  int64 \n",
      " 1   text        232074 non-null  object\n",
      " 2   class       232074 non-null  object\n",
      "dtypes: int64(1), object(2)\n",
      "memory usage: 5.3+ MB\n"
     ]
    }
   ],
   "source": [
    "R_suicide.info()"
   ]
  },
  {
   "cell_type": "code",
   "execution_count": 41,
   "id": "14a6c7f9",
   "metadata": {},
   "outputs": [
    {
     "data": {
      "text/html": [
       "<div>\n",
       "<style scoped>\n",
       "    .dataframe tbody tr th:only-of-type {\n",
       "        vertical-align: middle;\n",
       "    }\n",
       "\n",
       "    .dataframe tbody tr th {\n",
       "        vertical-align: top;\n",
       "    }\n",
       "\n",
       "    .dataframe thead th {\n",
       "        text-align: right;\n",
       "    }\n",
       "</style>\n",
       "<table border=\"1\" class=\"dataframe\">\n",
       "  <thead>\n",
       "    <tr style=\"text-align: right;\">\n",
       "      <th></th>\n",
       "      <th>Unnamed: 0</th>\n",
       "      <th>text</th>\n",
       "      <th>class</th>\n",
       "    </tr>\n",
       "  </thead>\n",
       "  <tbody>\n",
       "    <tr>\n",
       "      <th>0</th>\n",
       "      <td>2</td>\n",
       "      <td>Ex Wife Threatening SuicideRecently I left my ...</td>\n",
       "      <td>suicide</td>\n",
       "    </tr>\n",
       "    <tr>\n",
       "      <th>1</th>\n",
       "      <td>3</td>\n",
       "      <td>Am I weird I don't get affected by compliments...</td>\n",
       "      <td>non-suicide</td>\n",
       "    </tr>\n",
       "    <tr>\n",
       "      <th>2</th>\n",
       "      <td>4</td>\n",
       "      <td>Finally 2020 is almost over... So I can never ...</td>\n",
       "      <td>non-suicide</td>\n",
       "    </tr>\n",
       "    <tr>\n",
       "      <th>3</th>\n",
       "      <td>8</td>\n",
       "      <td>i need helpjust help me im crying so hard</td>\n",
       "      <td>suicide</td>\n",
       "    </tr>\n",
       "    <tr>\n",
       "      <th>4</th>\n",
       "      <td>9</td>\n",
       "      <td>I’m so lostHello, my name is Adam (16) and I’v...</td>\n",
       "      <td>suicide</td>\n",
       "    </tr>\n",
       "  </tbody>\n",
       "</table>\n",
       "</div>"
      ],
      "text/plain": [
       "   Unnamed: 0                                               text        class\n",
       "0           2  Ex Wife Threatening SuicideRecently I left my ...      suicide\n",
       "1           3  Am I weird I don't get affected by compliments...  non-suicide\n",
       "2           4  Finally 2020 is almost over... So I can never ...  non-suicide\n",
       "3           8          i need helpjust help me im crying so hard      suicide\n",
       "4           9  I’m so lostHello, my name is Adam (16) and I’v...      suicide"
      ]
     },
     "execution_count": 41,
     "metadata": {},
     "output_type": "execute_result"
    }
   ],
   "source": [
    "R_suicide.head()"
   ]
  },
  {
   "cell_type": "code",
   "execution_count": 42,
   "id": "fd4d903b",
   "metadata": {},
   "outputs": [
    {
     "data": {
      "text/plain": [
       "non-suicide    116037\n",
       "suicide        116037\n",
       "Name: class, dtype: int64"
      ]
     },
     "execution_count": 42,
     "metadata": {},
     "output_type": "execute_result"
    }
   ],
   "source": [
    "R_suicide['class'].value_counts()"
   ]
  },
  {
   "cell_type": "code",
   "execution_count": 43,
   "id": "10090767",
   "metadata": {},
   "outputs": [
    {
     "data": {
      "text/plain": [
       "Unnamed: 0    0\n",
       "text          0\n",
       "class         0\n",
       "dtype: int64"
      ]
     },
     "execution_count": 43,
     "metadata": {},
     "output_type": "execute_result"
    }
   ],
   "source": [
    "R_suicide.isnull().sum()"
   ]
  },
  {
   "cell_type": "code",
   "execution_count": 44,
   "id": "51418276",
   "metadata": {},
   "outputs": [
    {
     "data": {
      "text/plain": [
       "0         non-suicide\n",
       "1         non-suicide\n",
       "2         non-suicide\n",
       "3         non-suicide\n",
       "4         non-suicide\n",
       "             ...     \n",
       "232069        suicide\n",
       "232070        suicide\n",
       "232071        suicide\n",
       "232072        suicide\n",
       "232073        suicide\n",
       "Name: class, Length: 232074, dtype: object"
      ]
     },
     "execution_count": 44,
     "metadata": {},
     "output_type": "execute_result"
    }
   ],
   "source": [
    "R_suicide['class'] = sorted(R_suicide['class'])\n",
    "\n",
    "# To check\n",
    "R_suicide['class']"
   ]
  },
  {
   "cell_type": "code",
   "execution_count": 45,
   "id": "f5a9ce00",
   "metadata": {},
   "outputs": [
    {
     "data": {
      "text/plain": [
       "(232074, 3)"
      ]
     },
     "execution_count": 45,
     "metadata": {},
     "output_type": "execute_result"
    }
   ],
   "source": [
    "# Dropping any duplicates\n",
    "R_suicide.drop_duplicates(subset=[\"text\"], keep='last', inplace = True)\n",
    "\n",
    "# No duplicates were found (To check)\n",
    "R_suicide.shape"
   ]
  },
  {
   "cell_type": "markdown",
   "id": "2b42b747",
   "metadata": {},
   "source": [
    "#### Removing "
   ]
  },
  {
   "cell_type": "code",
   "execution_count": 46,
   "id": "0ff856e6",
   "metadata": {},
   "outputs": [],
   "source": [
    "R_suicide['text'] = R_suicide['text'].astype(str)"
   ]
  },
  {
   "cell_type": "code",
   "execution_count": 47,
   "id": "8e343d11",
   "metadata": {},
   "outputs": [],
   "source": [
    "# Removing any url links \n",
    "def remove_URL(sample):\n",
    "    \"\"\"Remove URLs from a sample string\"\"\"\n",
    "    return re.sub(r\"http\\S+\", \"\", sample)"
   ]
  },
  {
   "cell_type": "code",
   "execution_count": 48,
   "id": "b0263b5c",
   "metadata": {},
   "outputs": [],
   "source": [
    "R_suicide['text'] = R_suicide['text'].apply(lambda x:remove_URL(x))"
   ]
  },
  {
   "cell_type": "code",
   "execution_count": 49,
   "id": "9c4ee628",
   "metadata": {},
   "outputs": [],
   "source": [
    "# Removing @ that exist in the tweet\n",
    "def remove_mentions(sample):\n",
    "    return re.sub(\"@[A-Za-z0-9_]+\",\"\", sample)"
   ]
  },
  {
   "cell_type": "code",
   "execution_count": 50,
   "id": "447f55df",
   "metadata": {},
   "outputs": [],
   "source": [
    "R_suicide['text'] = R_suicide['text'].apply(lambda x:remove_mentions(x))"
   ]
  },
  {
   "cell_type": "code",
   "execution_count": 51,
   "id": "e264ba40",
   "metadata": {},
   "outputs": [],
   "source": [
    "# Removing # that exist in the tweet\n",
    "def remove_hashtags(sample):\n",
    "    return re.sub(\"#[A-Za-z0-9_]+\",\"\", sample)"
   ]
  },
  {
   "cell_type": "code",
   "execution_count": 52,
   "id": "bb20a207",
   "metadata": {},
   "outputs": [],
   "source": [
    "R_suicide['text'] = R_suicide['text'].apply(lambda x:remove_hashtags(x))"
   ]
  },
  {
   "cell_type": "code",
   "execution_count": 53,
   "id": "83fe71c4",
   "metadata": {},
   "outputs": [],
   "source": [
    "R_suicide['text'] = R_suicide['text'].replace('u200d', ' ')"
   ]
  },
  {
   "cell_type": "code",
   "execution_count": 54,
   "id": "ab887b08",
   "metadata": {},
   "outputs": [
    {
     "data": {
      "text/html": [
       "<div>\n",
       "<style scoped>\n",
       "    .dataframe tbody tr th:only-of-type {\n",
       "        vertical-align: middle;\n",
       "    }\n",
       "\n",
       "    .dataframe tbody tr th {\n",
       "        vertical-align: top;\n",
       "    }\n",
       "\n",
       "    .dataframe thead th {\n",
       "        text-align: right;\n",
       "    }\n",
       "</style>\n",
       "<table border=\"1\" class=\"dataframe\">\n",
       "  <thead>\n",
       "    <tr style=\"text-align: right;\">\n",
       "      <th></th>\n",
       "      <th>Unnamed: 0</th>\n",
       "      <th>text</th>\n",
       "      <th>class</th>\n",
       "    </tr>\n",
       "  </thead>\n",
       "  <tbody>\n",
       "    <tr>\n",
       "      <th>0</th>\n",
       "      <td>2</td>\n",
       "      <td>Ex Wife Threatening SuicideRecently I left my ...</td>\n",
       "      <td>non-suicide</td>\n",
       "    </tr>\n",
       "    <tr>\n",
       "      <th>1</th>\n",
       "      <td>3</td>\n",
       "      <td>Am I weird I don't get affected by compliments...</td>\n",
       "      <td>non-suicide</td>\n",
       "    </tr>\n",
       "    <tr>\n",
       "      <th>2</th>\n",
       "      <td>4</td>\n",
       "      <td>Finally 2020 is almost over... So I can never ...</td>\n",
       "      <td>non-suicide</td>\n",
       "    </tr>\n",
       "    <tr>\n",
       "      <th>3</th>\n",
       "      <td>8</td>\n",
       "      <td>i need helpjust help me im crying so hard</td>\n",
       "      <td>non-suicide</td>\n",
       "    </tr>\n",
       "    <tr>\n",
       "      <th>4</th>\n",
       "      <td>9</td>\n",
       "      <td>I’m so lostHello, my name is Adam (16) and I’v...</td>\n",
       "      <td>non-suicide</td>\n",
       "    </tr>\n",
       "  </tbody>\n",
       "</table>\n",
       "</div>"
      ],
      "text/plain": [
       "   Unnamed: 0                                               text        class\n",
       "0           2  Ex Wife Threatening SuicideRecently I left my ...  non-suicide\n",
       "1           3  Am I weird I don't get affected by compliments...  non-suicide\n",
       "2           4  Finally 2020 is almost over... So I can never ...  non-suicide\n",
       "3           8          i need helpjust help me im crying so hard  non-suicide\n",
       "4           9  I’m so lostHello, my name is Adam (16) and I’v...  non-suicide"
      ]
     },
     "execution_count": 54,
     "metadata": {},
     "output_type": "execute_result"
    }
   ],
   "source": [
    "R_suicide.head()"
   ]
  },
  {
   "cell_type": "markdown",
   "id": "113de5f3",
   "metadata": {},
   "source": [
    "#### Dropping"
   ]
  },
  {
   "cell_type": "code",
   "execution_count": 55,
   "id": "3ff22ee2",
   "metadata": {},
   "outputs": [],
   "source": [
    "# Dropping column\n",
    "R_suicide.drop(['Unnamed: 0'], axis = 1, inplace = True)"
   ]
  },
  {
   "cell_type": "code",
   "execution_count": 56,
   "id": "ac9533b3",
   "metadata": {},
   "outputs": [
    {
     "data": {
      "text/plain": [
       "'non-suicide'"
      ]
     },
     "execution_count": 56,
     "metadata": {},
     "output_type": "execute_result"
    }
   ],
   "source": [
    "# Checking for mid-point\n",
    "R_suicide['class'].iloc[116036]"
   ]
  },
  {
   "cell_type": "code",
   "execution_count": 57,
   "id": "45ee0dbb",
   "metadata": {},
   "outputs": [
    {
     "data": {
      "text/plain": [
       "'suicide'"
      ]
     },
     "execution_count": 57,
     "metadata": {},
     "output_type": "execute_result"
    }
   ],
   "source": [
    "# Checking for mid-point\n",
    "R_suicide['class'].iloc[116037]"
   ]
  },
  {
   "cell_type": "code",
   "execution_count": 58,
   "id": "efe91399",
   "metadata": {},
   "outputs": [],
   "source": [
    "# Dropping rows (non-suicide)\n",
    "R_suicide.drop(R_suicide.head(115037).index,inplace=True) # drop first n rows"
   ]
  },
  {
   "cell_type": "code",
   "execution_count": 59,
   "id": "27f11241",
   "metadata": {},
   "outputs": [],
   "source": [
    "# Dropping rows (suicide)\n",
    "# Drop last 46 rows of dataframe\n",
    "R_suicide.drop(R_suicide.tail(115037).index, inplace=True) # drop last n rows"
   ]
  },
  {
   "cell_type": "code",
   "execution_count": 60,
   "id": "810e6d82",
   "metadata": {},
   "outputs": [
    {
     "data": {
      "text/plain": [
       "suicide        1000\n",
       "non-suicide    1000\n",
       "Name: class, dtype: int64"
      ]
     },
     "execution_count": 60,
     "metadata": {},
     "output_type": "execute_result"
    }
   ],
   "source": [
    "# To check that the values are the same \n",
    "R_suicide['class'].value_counts()"
   ]
  },
  {
   "cell_type": "code",
   "execution_count": 61,
   "id": "39c5e252",
   "metadata": {},
   "outputs": [
    {
     "data": {
      "text/plain": [
       "text     0\n",
       "class    0\n",
       "dtype: int64"
      ]
     },
     "execution_count": 61,
     "metadata": {},
     "output_type": "execute_result"
    }
   ],
   "source": [
    "# Final check\n",
    "R_suicide.isnull().sum()"
   ]
  },
  {
   "cell_type": "code",
   "execution_count": 62,
   "id": "1baa4a8f",
   "metadata": {},
   "outputs": [],
   "source": [
    "# Exporting\n",
    "R_suicide.to_csv('../data/R_suicide.csv', index = False)"
   ]
  }
 ],
 "metadata": {
  "kernelspec": {
   "display_name": "Python 3",
   "language": "python",
   "name": "python3"
  },
  "language_info": {
   "codemirror_mode": {
    "name": "ipython",
    "version": 3
   },
   "file_extension": ".py",
   "mimetype": "text/x-python",
   "name": "python",
   "nbconvert_exporter": "python",
   "pygments_lexer": "ipython3",
   "version": "3.8.8"
  }
 },
 "nbformat": 4,
 "nbformat_minor": 5
}
