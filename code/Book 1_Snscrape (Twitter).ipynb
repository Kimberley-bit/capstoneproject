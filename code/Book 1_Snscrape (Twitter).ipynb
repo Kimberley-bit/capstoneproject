{
 "cells": [
  {
   "cell_type": "markdown",
   "id": "e67af189",
   "metadata": {},
   "source": [
    "## Book 1_Snscrape (Twitter)"
   ]
  },
  {
   "cell_type": "markdown",
   "id": "e4cb5621",
   "metadata": {},
   "source": [
    "*Note: I was unable to upload all of the datasets that I have used in these notebooks onto github because of how big the size of the file was. But if you have any questions feel free to reach out to me thank you :)*"
   ]
  },
  {
   "cell_type": "markdown",
   "id": "331c8731",
   "metadata": {},
   "source": [
    "This book will focus on the extraction of twitter posts, which will form up the first part of my data set. In order to accomplish this, I will be using Snscrape which is a scraper for social networking services (SNS). By using this scraper we will be able to scrape items such as, Datetime, Tweet ID, Text and Username. \n",
    "\n",
    "Key words such as “i want to kill myself”, “depressed and suicidal”, “sadness and hopelessness”, “i am worthless”, “no one cares” were utilised in identifying twitter posts to scrape. All data scrapped were within the range of January to August 2020. In addition to that, some non-suicidal posts were also scrapped during the timeline mentioned above in order to act as the “control” for our dataset. Towards the end of book 1, all the different datasets were combined to form 1 dataset and it was exported as: ‘tweets_merged.csv’\n"
   ]
  },
  {
   "cell_type": "code",
   "execution_count": 1,
   "id": "511f9bb6",
   "metadata": {},
   "outputs": [],
   "source": [
    "import snscrape.modules.twitter as sntwitter\n",
    "import pandas as pd"
   ]
  },
  {
   "cell_type": "markdown",
   "id": "02975d1e",
   "metadata": {},
   "source": [
    "## Suicidal Posts"
   ]
  },
  {
   "cell_type": "markdown",
   "id": "1606bb59",
   "metadata": {},
   "source": [
    "#### January 2020"
   ]
  },
  {
   "cell_type": "code",
   "execution_count": 2,
   "id": "7a6f6469",
   "metadata": {},
   "outputs": [],
   "source": [
    "# Setting variables to be used below\n",
    "maxTweets = 500\n",
    "\n",
    "# Creating list to append tweet data to\n",
    "tweets_list1 = []\n",
    "\n",
    "# Using TwitterSearchScraper to scrape data and append tweets to list\n",
    "for i,tweet in enumerate(sntwitter.TwitterSearchScraper('i want to kill myself since:2020-01-12 until:2020-01-18').get_items()):\n",
    "    if i>maxTweets:\n",
    "        break\n",
    "    tweets_list1.append([tweet.date, tweet.id, tweet.content, tweet.user.username])"
   ]
  },
  {
   "cell_type": "code",
   "execution_count": 3,
   "id": "f3d75964",
   "metadata": {
    "scrolled": false
   },
   "outputs": [
    {
     "data": {
      "text/html": [
       "<div>\n",
       "<style scoped>\n",
       "    .dataframe tbody tr th:only-of-type {\n",
       "        vertical-align: middle;\n",
       "    }\n",
       "\n",
       "    .dataframe tbody tr th {\n",
       "        vertical-align: top;\n",
       "    }\n",
       "\n",
       "    .dataframe thead th {\n",
       "        text-align: right;\n",
       "    }\n",
       "</style>\n",
       "<table border=\"1\" class=\"dataframe\">\n",
       "  <thead>\n",
       "    <tr style=\"text-align: right;\">\n",
       "      <th></th>\n",
       "      <th>Datetime</th>\n",
       "      <th>Tweet Id</th>\n",
       "      <th>Text</th>\n",
       "      <th>Username</th>\n",
       "    </tr>\n",
       "  </thead>\n",
       "  <tbody>\n",
       "    <tr>\n",
       "      <th>0</th>\n",
       "      <td>2020-01-17 23:59:10+00:00</td>\n",
       "      <td>1218321899769552897</td>\n",
       "      <td>job and i wouldn’t have to save money toward a...</td>\n",
       "      <td>KaiiiKay</td>\n",
       "    </tr>\n",
       "    <tr>\n",
       "      <th>1</th>\n",
       "      <td>2020-01-17 23:32:32+00:00</td>\n",
       "      <td>1218315193580773380</td>\n",
       "      <td>I HATE ME SO MUCH I WANT TO KILL MYSELF NO ONE...</td>\n",
       "      <td>MGlmcm</td>\n",
       "    </tr>\n",
       "    <tr>\n",
       "      <th>2</th>\n",
       "      <td>2020-01-17 22:56:36+00:00</td>\n",
       "      <td>1218306151319629824</td>\n",
       "      <td>I want to go to the club by myself because I’m...</td>\n",
       "      <td>acidinterlude</td>\n",
       "    </tr>\n",
       "    <tr>\n",
       "      <th>3</th>\n",
       "      <td>2020-01-17 22:24:17+00:00</td>\n",
       "      <td>1218298018161680384</td>\n",
       "      <td>I want to kill myself</td>\n",
       "      <td>BeeInBitch</td>\n",
       "    </tr>\n",
       "    <tr>\n",
       "      <th>4</th>\n",
       "      <td>2020-01-17 22:16:16+00:00</td>\n",
       "      <td>1218296000785387520</td>\n",
       "      <td>@Doremiisz @Metro2033Leader @Thafnine That's t...</td>\n",
       "      <td>PinceMouette</td>\n",
       "    </tr>\n",
       "  </tbody>\n",
       "</table>\n",
       "</div>"
      ],
      "text/plain": [
       "                   Datetime             Tweet Id  \\\n",
       "0 2020-01-17 23:59:10+00:00  1218321899769552897   \n",
       "1 2020-01-17 23:32:32+00:00  1218315193580773380   \n",
       "2 2020-01-17 22:56:36+00:00  1218306151319629824   \n",
       "3 2020-01-17 22:24:17+00:00  1218298018161680384   \n",
       "4 2020-01-17 22:16:16+00:00  1218296000785387520   \n",
       "\n",
       "                                                Text       Username  \n",
       "0  job and i wouldn’t have to save money toward a...       KaiiiKay  \n",
       "1  I HATE ME SO MUCH I WANT TO KILL MYSELF NO ONE...         MGlmcm  \n",
       "2  I want to go to the club by myself because I’m...  acidinterlude  \n",
       "3                              I want to kill myself     BeeInBitch  \n",
       "4  @Doremiisz @Metro2033Leader @Thafnine That's t...   PinceMouette  "
      ]
     },
     "execution_count": 3,
     "metadata": {},
     "output_type": "execute_result"
    }
   ],
   "source": [
    "# Creating a dataframe from the tweets list above\n",
    "tweets_df1 = pd.DataFrame(tweets_list1, columns=['Datetime', 'Tweet Id', 'Text', 'Username'])\n",
    "\n",
    "# Display first 5 entries from dataframe\n",
    "tweets_df1.head()"
   ]
  },
  {
   "cell_type": "code",
   "execution_count": 4,
   "id": "f6c7356b",
   "metadata": {},
   "outputs": [
    {
     "data": {
      "text/plain": [
       "(501, 4)"
      ]
     },
     "execution_count": 4,
     "metadata": {},
     "output_type": "execute_result"
    }
   ],
   "source": [
    "tweets_df1.shape"
   ]
  },
  {
   "cell_type": "markdown",
   "id": "443e357a",
   "metadata": {},
   "source": [
    "#### Feburary 2020"
   ]
  },
  {
   "cell_type": "code",
   "execution_count": 5,
   "id": "7be52409",
   "metadata": {},
   "outputs": [],
   "source": [
    "# Setting variables to be used below\n",
    "maxTweets = 500\n",
    "\n",
    "# Creating list to append tweet data to\n",
    "tweets_list2 = []\n",
    "\n",
    "# Using TwitterSearchScraper to scrape data and append tweets to list\n",
    "for i,tweet in enumerate(sntwitter.TwitterSearchScraper('depressed and suicidal since:2020-02-12 until:2020-02-18').get_items()):\n",
    "    if i>maxTweets:\n",
    "        break\n",
    "    tweets_list2.append([tweet.date, tweet.id, tweet.content, tweet.user.username])"
   ]
  },
  {
   "cell_type": "code",
   "execution_count": 6,
   "id": "89e5b73a",
   "metadata": {},
   "outputs": [
    {
     "data": {
      "text/html": [
       "<div>\n",
       "<style scoped>\n",
       "    .dataframe tbody tr th:only-of-type {\n",
       "        vertical-align: middle;\n",
       "    }\n",
       "\n",
       "    .dataframe tbody tr th {\n",
       "        vertical-align: top;\n",
       "    }\n",
       "\n",
       "    .dataframe thead th {\n",
       "        text-align: right;\n",
       "    }\n",
       "</style>\n",
       "<table border=\"1\" class=\"dataframe\">\n",
       "  <thead>\n",
       "    <tr style=\"text-align: right;\">\n",
       "      <th></th>\n",
       "      <th>Datetime</th>\n",
       "      <th>Tweet Id</th>\n",
       "      <th>Text</th>\n",
       "      <th>Username</th>\n",
       "    </tr>\n",
       "  </thead>\n",
       "  <tbody>\n",
       "    <tr>\n",
       "      <th>0</th>\n",
       "      <td>2020-02-17 23:52:39+00:00</td>\n",
       "      <td>1229554281235337216</td>\n",
       "      <td>If anyone on my socials is feeling depressed o...</td>\n",
       "      <td>chloedraper_</td>\n",
       "    </tr>\n",
       "    <tr>\n",
       "      <th>1</th>\n",
       "      <td>2020-02-17 23:49:24+00:00</td>\n",
       "      <td>1229553464197468160</td>\n",
       "      <td>who watch their children taken and sold!!! Lik...</td>\n",
       "      <td>JohnWyche</td>\n",
       "    </tr>\n",
       "    <tr>\n",
       "      <th>2</th>\n",
       "      <td>2020-02-17 23:42:44+00:00</td>\n",
       "      <td>1229551786748305408</td>\n",
       "      <td>PLEASE SHARE\\nAre you depressed? Angry with th...</td>\n",
       "      <td>ryancansdale1</td>\n",
       "    </tr>\n",
       "    <tr>\n",
       "      <th>3</th>\n",
       "      <td>2020-02-17 23:35:21+00:00</td>\n",
       "      <td>1229549927140921349</td>\n",
       "      <td>@magikidsMTG @weirdcards I was never suicidal ...</td>\n",
       "      <td>Equilorian</td>\n",
       "    </tr>\n",
       "    <tr>\n",
       "      <th>4</th>\n",
       "      <td>2020-02-17 23:04:29+00:00</td>\n",
       "      <td>1229542160866906112</td>\n",
       "      <td>Dont wanna do this anymore. I get home and imm...</td>\n",
       "      <td>Afightvsmyself</td>\n",
       "    </tr>\n",
       "  </tbody>\n",
       "</table>\n",
       "</div>"
      ],
      "text/plain": [
       "                   Datetime             Tweet Id  \\\n",
       "0 2020-02-17 23:52:39+00:00  1229554281235337216   \n",
       "1 2020-02-17 23:49:24+00:00  1229553464197468160   \n",
       "2 2020-02-17 23:42:44+00:00  1229551786748305408   \n",
       "3 2020-02-17 23:35:21+00:00  1229549927140921349   \n",
       "4 2020-02-17 23:04:29+00:00  1229542160866906112   \n",
       "\n",
       "                                                Text        Username  \n",
       "0  If anyone on my socials is feeling depressed o...    chloedraper_  \n",
       "1  who watch their children taken and sold!!! Lik...       JohnWyche  \n",
       "2  PLEASE SHARE\\nAre you depressed? Angry with th...   ryancansdale1  \n",
       "3  @magikidsMTG @weirdcards I was never suicidal ...      Equilorian  \n",
       "4  Dont wanna do this anymore. I get home and imm...  Afightvsmyself  "
      ]
     },
     "execution_count": 6,
     "metadata": {},
     "output_type": "execute_result"
    }
   ],
   "source": [
    "# Creating a dataframe from the tweets list above\n",
    "tweets_df2 = pd.DataFrame(tweets_list2, columns=['Datetime', 'Tweet Id', 'Text', 'Username'])\n",
    "\n",
    "# Display first 5 entries from dataframe\n",
    "tweets_df2.head()"
   ]
  },
  {
   "cell_type": "code",
   "execution_count": 7,
   "id": "9b9eb0dd",
   "metadata": {},
   "outputs": [
    {
     "data": {
      "text/plain": [
       "(314, 4)"
      ]
     },
     "execution_count": 7,
     "metadata": {},
     "output_type": "execute_result"
    }
   ],
   "source": [
    "tweets_df2.shape"
   ]
  },
  {
   "cell_type": "markdown",
   "id": "6b2e32bf",
   "metadata": {},
   "source": [
    "#### March 2020"
   ]
  },
  {
   "cell_type": "code",
   "execution_count": 8,
   "id": "30e2cfb8",
   "metadata": {},
   "outputs": [],
   "source": [
    "# Setting variables to be used below\n",
    "maxTweets = 500\n",
    "\n",
    "# Creating list to append tweet data to\n",
    "tweets_list3 = []\n",
    "\n",
    "# Using TwitterSearchScraper to scrape data and append tweets to list\n",
    "for i,tweet in enumerate(sntwitter.TwitterSearchScraper('sadness, hopelessness since:2020-03-01 until:2020-03-31').get_items()):\n",
    "    if i>maxTweets:\n",
    "        break\n",
    "    tweets_list3.append([tweet.date, tweet.id, tweet.content, tweet.user.username])"
   ]
  },
  {
   "cell_type": "code",
   "execution_count": 9,
   "id": "80d6c558",
   "metadata": {
    "scrolled": true
   },
   "outputs": [
    {
     "data": {
      "text/html": [
       "<div>\n",
       "<style scoped>\n",
       "    .dataframe tbody tr th:only-of-type {\n",
       "        vertical-align: middle;\n",
       "    }\n",
       "\n",
       "    .dataframe tbody tr th {\n",
       "        vertical-align: top;\n",
       "    }\n",
       "\n",
       "    .dataframe thead th {\n",
       "        text-align: right;\n",
       "    }\n",
       "</style>\n",
       "<table border=\"1\" class=\"dataframe\">\n",
       "  <thead>\n",
       "    <tr style=\"text-align: right;\">\n",
       "      <th></th>\n",
       "      <th>Datetime</th>\n",
       "      <th>Tweet Id</th>\n",
       "      <th>Text</th>\n",
       "      <th>Username</th>\n",
       "    </tr>\n",
       "  </thead>\n",
       "  <tbody>\n",
       "    <tr>\n",
       "      <th>0</th>\n",
       "      <td>2020-03-30 23:07:47+00:00</td>\n",
       "      <td>1244763283103637504</td>\n",
       "      <td>@HalsallDoug Aren’t they listening? Don’t they...</td>\n",
       "      <td>allandouglas41</td>\n",
       "    </tr>\n",
       "    <tr>\n",
       "      <th>1</th>\n",
       "      <td>2020-03-30 21:10:21+00:00</td>\n",
       "      <td>1244733727990853635</td>\n",
       "      <td>Allow yourself to feel. \\nDon’t get stuck in s...</td>\n",
       "      <td>chelseanicd</td>\n",
       "    </tr>\n",
       "    <tr>\n",
       "      <th>2</th>\n",
       "      <td>2020-03-30 20:44:04+00:00</td>\n",
       "      <td>1244727111845322752</td>\n",
       "      <td>Problem: sadness, angry,\\nemptiness, hopelessn...</td>\n",
       "      <td>iamhamoodii</td>\n",
       "    </tr>\n",
       "    <tr>\n",
       "      <th>3</th>\n",
       "      <td>2020-03-30 20:27:36+00:00</td>\n",
       "      <td>1244722968246263811</td>\n",
       "      <td>Problems: sadness,angry, emptiness,hopelessnes...</td>\n",
       "      <td>Abdulla69662874</td>\n",
       "    </tr>\n",
       "    <tr>\n",
       "      <th>4</th>\n",
       "      <td>2020-03-30 10:21:09+00:00</td>\n",
       "      <td>1244570352019218433</td>\n",
       "      <td>Problems: sadness, angry, emptiness, anxiety, ...</td>\n",
       "      <td>rj_ibrar</td>\n",
       "    </tr>\n",
       "  </tbody>\n",
       "</table>\n",
       "</div>"
      ],
      "text/plain": [
       "                   Datetime             Tweet Id  \\\n",
       "0 2020-03-30 23:07:47+00:00  1244763283103637504   \n",
       "1 2020-03-30 21:10:21+00:00  1244733727990853635   \n",
       "2 2020-03-30 20:44:04+00:00  1244727111845322752   \n",
       "3 2020-03-30 20:27:36+00:00  1244722968246263811   \n",
       "4 2020-03-30 10:21:09+00:00  1244570352019218433   \n",
       "\n",
       "                                                Text         Username  \n",
       "0  @HalsallDoug Aren’t they listening? Don’t they...   allandouglas41  \n",
       "1  Allow yourself to feel. \\nDon’t get stuck in s...      chelseanicd  \n",
       "2  Problem: sadness, angry,\\nemptiness, hopelessn...      iamhamoodii  \n",
       "3  Problems: sadness,angry, emptiness,hopelessnes...  Abdulla69662874  \n",
       "4  Problems: sadness, angry, emptiness, anxiety, ...         rj_ibrar  "
      ]
     },
     "execution_count": 9,
     "metadata": {},
     "output_type": "execute_result"
    }
   ],
   "source": [
    "# Creating a dataframe from the tweets list above\n",
    "tweets_df3 = pd.DataFrame(tweets_list3, columns=['Datetime', 'Tweet Id', 'Text', 'Username'])\n",
    "\n",
    "# Display first 5 entries from dataframe\n",
    "tweets_df3.head()"
   ]
  },
  {
   "cell_type": "code",
   "execution_count": 10,
   "id": "a4c0619f",
   "metadata": {},
   "outputs": [
    {
     "data": {
      "text/plain": [
       "(302, 4)"
      ]
     },
     "execution_count": 10,
     "metadata": {},
     "output_type": "execute_result"
    }
   ],
   "source": [
    "tweets_df3.shape"
   ]
  },
  {
   "cell_type": "markdown",
   "id": "ad1ae21b",
   "metadata": {},
   "source": [
    "#### April 2020"
   ]
  },
  {
   "cell_type": "code",
   "execution_count": 11,
   "id": "9b3e50f8",
   "metadata": {},
   "outputs": [],
   "source": [
    "# Setting variables to be used below\n",
    "maxTweets = 500\n",
    "\n",
    "# Creating list to append tweet data to\n",
    "tweets_list4 = []\n",
    "\n",
    "# Using TwitterSearchScraper to scrape data and append tweets to list\n",
    "for i,tweet in enumerate(sntwitter.TwitterSearchScraper('sadness, hopelessness since:2020-04-01 until:2020-04-30').get_items()):\n",
    "    if i>maxTweets:\n",
    "        break\n",
    "    tweets_list4.append([tweet.date, tweet.id, tweet.content, tweet.user.username])"
   ]
  },
  {
   "cell_type": "code",
   "execution_count": 12,
   "id": "4ebde16b",
   "metadata": {},
   "outputs": [
    {
     "data": {
      "text/html": [
       "<div>\n",
       "<style scoped>\n",
       "    .dataframe tbody tr th:only-of-type {\n",
       "        vertical-align: middle;\n",
       "    }\n",
       "\n",
       "    .dataframe tbody tr th {\n",
       "        vertical-align: top;\n",
       "    }\n",
       "\n",
       "    .dataframe thead th {\n",
       "        text-align: right;\n",
       "    }\n",
       "</style>\n",
       "<table border=\"1\" class=\"dataframe\">\n",
       "  <thead>\n",
       "    <tr style=\"text-align: right;\">\n",
       "      <th></th>\n",
       "      <th>Datetime</th>\n",
       "      <th>Tweet Id</th>\n",
       "      <th>Text</th>\n",
       "      <th>Username</th>\n",
       "    </tr>\n",
       "  </thead>\n",
       "  <tbody>\n",
       "    <tr>\n",
       "      <th>0</th>\n",
       "      <td>2020-04-29 23:44:30+00:00</td>\n",
       "      <td>1255644157500145664</td>\n",
       "      <td>Basically the solution to ending the destructi...</td>\n",
       "      <td>lmazzeiphotos</td>\n",
       "    </tr>\n",
       "    <tr>\n",
       "      <th>1</th>\n",
       "      <td>2020-04-29 22:47:12+00:00</td>\n",
       "      <td>1255629735717031936</td>\n",
       "      <td>@bombaytimes 2020 is the worst year of 21st ce...</td>\n",
       "      <td>prabh_kaur07</td>\n",
       "    </tr>\n",
       "    <tr>\n",
       "      <th>2</th>\n",
       "      <td>2020-04-29 22:28:38+00:00</td>\n",
       "      <td>1255625064390602752</td>\n",
       "      <td>@NYTHealth These are some things the technique...</td>\n",
       "      <td>boomer12k</td>\n",
       "    </tr>\n",
       "    <tr>\n",
       "      <th>3</th>\n",
       "      <td>2020-04-29 22:00:54+00:00</td>\n",
       "      <td>1255618084817248260</td>\n",
       "      <td>The threat of #Covid19 to ourselves, our loved...</td>\n",
       "      <td>ImagineCenterMi</td>\n",
       "    </tr>\n",
       "    <tr>\n",
       "      <th>4</th>\n",
       "      <td>2020-04-29 21:35:09+00:00</td>\n",
       "      <td>1255611603237535744</td>\n",
       "      <td>The article explores how young children with p...</td>\n",
       "      <td>hcwhosted</td>\n",
       "    </tr>\n",
       "  </tbody>\n",
       "</table>\n",
       "</div>"
      ],
      "text/plain": [
       "                   Datetime             Tweet Id  \\\n",
       "0 2020-04-29 23:44:30+00:00  1255644157500145664   \n",
       "1 2020-04-29 22:47:12+00:00  1255629735717031936   \n",
       "2 2020-04-29 22:28:38+00:00  1255625064390602752   \n",
       "3 2020-04-29 22:00:54+00:00  1255618084817248260   \n",
       "4 2020-04-29 21:35:09+00:00  1255611603237535744   \n",
       "\n",
       "                                                Text         Username  \n",
       "0  Basically the solution to ending the destructi...    lmazzeiphotos  \n",
       "1  @bombaytimes 2020 is the worst year of 21st ce...     prabh_kaur07  \n",
       "2  @NYTHealth These are some things the technique...        boomer12k  \n",
       "3  The threat of #Covid19 to ourselves, our loved...  ImagineCenterMi  \n",
       "4  The article explores how young children with p...        hcwhosted  "
      ]
     },
     "execution_count": 12,
     "metadata": {},
     "output_type": "execute_result"
    }
   ],
   "source": [
    "# Creating a dataframe from the tweets list above\n",
    "tweets_df4 = pd.DataFrame(tweets_list4, columns=['Datetime', 'Tweet Id', 'Text', 'Username'])\n",
    "\n",
    "# Display first 5 entries from dataframe\n",
    "tweets_df4.head()"
   ]
  },
  {
   "cell_type": "code",
   "execution_count": 13,
   "id": "942c437a",
   "metadata": {},
   "outputs": [
    {
     "data": {
      "text/plain": [
       "(402, 4)"
      ]
     },
     "execution_count": 13,
     "metadata": {},
     "output_type": "execute_result"
    }
   ],
   "source": [
    "tweets_df4.shape"
   ]
  },
  {
   "cell_type": "markdown",
   "id": "4598585b",
   "metadata": {},
   "source": [
    "#### May 2020"
   ]
  },
  {
   "cell_type": "code",
   "execution_count": 14,
   "id": "9e411d72",
   "metadata": {},
   "outputs": [],
   "source": [
    "# Setting variables to be used below\n",
    "maxTweets = 500\n",
    "\n",
    "# Creating list to append tweet data to\n",
    "tweets_list5 = []\n",
    "\n",
    "# Using TwitterSearchScraper to scrape data and append tweets to list\n",
    "for i,tweet in enumerate(sntwitter.TwitterSearchScraper('i am worthless since:2020-05-01 until:2020-05-31').get_items()):\n",
    "    if i>maxTweets:\n",
    "        break\n",
    "    tweets_list5.append([tweet.date, tweet.id, tweet.content, tweet.user.username])"
   ]
  },
  {
   "cell_type": "code",
   "execution_count": 15,
   "id": "704ae38d",
   "metadata": {},
   "outputs": [
    {
     "data": {
      "text/html": [
       "<div>\n",
       "<style scoped>\n",
       "    .dataframe tbody tr th:only-of-type {\n",
       "        vertical-align: middle;\n",
       "    }\n",
       "\n",
       "    .dataframe tbody tr th {\n",
       "        vertical-align: top;\n",
       "    }\n",
       "\n",
       "    .dataframe thead th {\n",
       "        text-align: right;\n",
       "    }\n",
       "</style>\n",
       "<table border=\"1\" class=\"dataframe\">\n",
       "  <thead>\n",
       "    <tr style=\"text-align: right;\">\n",
       "      <th></th>\n",
       "      <th>Datetime</th>\n",
       "      <th>Tweet Id</th>\n",
       "      <th>Text</th>\n",
       "      <th>Username</th>\n",
       "    </tr>\n",
       "  </thead>\n",
       "  <tbody>\n",
       "    <tr>\n",
       "      <th>0</th>\n",
       "      <td>2020-05-30 22:34:22+00:00</td>\n",
       "      <td>1266860529538252801</td>\n",
       "      <td>ha ha wow I am so worthless lmfao</td>\n",
       "      <td>T3TR3l</td>\n",
       "    </tr>\n",
       "    <tr>\n",
       "      <th>1</th>\n",
       "      <td>2020-05-30 22:13:22+00:00</td>\n",
       "      <td>1266855247508635650</td>\n",
       "      <td>People just make me so mad. I am so sorry I am...</td>\n",
       "      <td>95zchingu</td>\n",
       "    </tr>\n",
       "    <tr>\n",
       "      <th>2</th>\n",
       "      <td>2020-05-30 22:09:58+00:00</td>\n",
       "      <td>1266854392474603523</td>\n",
       "      <td>I am in no way , shape or form perfect. But do...</td>\n",
       "      <td>Realidrisfrench</td>\n",
       "    </tr>\n",
       "    <tr>\n",
       "      <th>3</th>\n",
       "      <td>2020-05-30 21:56:11+00:00</td>\n",
       "      <td>1266850922111655936</td>\n",
       "      <td>@depressionarmy That I’ll never be enough for ...</td>\n",
       "      <td>Grrrl1der</td>\n",
       "    </tr>\n",
       "    <tr>\n",
       "      <th>4</th>\n",
       "      <td>2020-05-30 21:49:00+00:00</td>\n",
       "      <td>1266849115687747584</td>\n",
       "      <td>I am a worthless piece of shit</td>\n",
       "      <td>jjivxv</td>\n",
       "    </tr>\n",
       "  </tbody>\n",
       "</table>\n",
       "</div>"
      ],
      "text/plain": [
       "                   Datetime             Tweet Id  \\\n",
       "0 2020-05-30 22:34:22+00:00  1266860529538252801   \n",
       "1 2020-05-30 22:13:22+00:00  1266855247508635650   \n",
       "2 2020-05-30 22:09:58+00:00  1266854392474603523   \n",
       "3 2020-05-30 21:56:11+00:00  1266850922111655936   \n",
       "4 2020-05-30 21:49:00+00:00  1266849115687747584   \n",
       "\n",
       "                                                Text         Username  \n",
       "0                  ha ha wow I am so worthless lmfao           T3TR3l  \n",
       "1  People just make me so mad. I am so sorry I am...        95zchingu  \n",
       "2  I am in no way , shape or form perfect. But do...  Realidrisfrench  \n",
       "3  @depressionarmy That I’ll never be enough for ...        Grrrl1der  \n",
       "4                     I am a worthless piece of shit           jjivxv  "
      ]
     },
     "execution_count": 15,
     "metadata": {},
     "output_type": "execute_result"
    }
   ],
   "source": [
    "# Creating a dataframe from the tweets list above\n",
    "tweets_df5 = pd.DataFrame(tweets_list5, columns=['Datetime', 'Tweet Id', 'Text', 'Username'])\n",
    "\n",
    "# Display first 5 entries from dataframe\n",
    "tweets_df5.head()"
   ]
  },
  {
   "cell_type": "code",
   "execution_count": 16,
   "id": "1b5accfd",
   "metadata": {},
   "outputs": [
    {
     "data": {
      "text/plain": [
       "(501, 4)"
      ]
     },
     "execution_count": 16,
     "metadata": {},
     "output_type": "execute_result"
    }
   ],
   "source": [
    "tweets_df5.shape"
   ]
  },
  {
   "cell_type": "markdown",
   "id": "9947ac50",
   "metadata": {},
   "source": [
    "#### June 2020"
   ]
  },
  {
   "cell_type": "code",
   "execution_count": 17,
   "id": "47d5119c",
   "metadata": {},
   "outputs": [],
   "source": [
    "# Setting variables to be used below\n",
    "maxTweets = 500\n",
    "\n",
    "# Creating list to append tweet data to\n",
    "tweets_list6 = []\n",
    "\n",
    "# Using TwitterSearchScraper to scrape data and append tweets to list\n",
    "for i,tweet in enumerate(sntwitter.TwitterSearchScraper('i want to kill myself since:2020-06-12 until:2020-06-18').get_items()):\n",
    "    if i>maxTweets:\n",
    "        break\n",
    "    tweets_list6.append([tweet.date, tweet.id, tweet.content, tweet.user.username])"
   ]
  },
  {
   "cell_type": "code",
   "execution_count": 18,
   "id": "1a4ce306",
   "metadata": {},
   "outputs": [
    {
     "data": {
      "text/html": [
       "<div>\n",
       "<style scoped>\n",
       "    .dataframe tbody tr th:only-of-type {\n",
       "        vertical-align: middle;\n",
       "    }\n",
       "\n",
       "    .dataframe tbody tr th {\n",
       "        vertical-align: top;\n",
       "    }\n",
       "\n",
       "    .dataframe thead th {\n",
       "        text-align: right;\n",
       "    }\n",
       "</style>\n",
       "<table border=\"1\" class=\"dataframe\">\n",
       "  <thead>\n",
       "    <tr style=\"text-align: right;\">\n",
       "      <th></th>\n",
       "      <th>Datetime</th>\n",
       "      <th>Tweet Id</th>\n",
       "      <th>Text</th>\n",
       "      <th>Username</th>\n",
       "    </tr>\n",
       "  </thead>\n",
       "  <tbody>\n",
       "    <tr>\n",
       "      <th>0</th>\n",
       "      <td>2020-06-17 23:47:41+00:00</td>\n",
       "      <td>1273401962277548033</td>\n",
       "      <td>Me quiero matar con dibujo analítico dios mio ...</td>\n",
       "      <td>Sahily_Ale</td>\n",
       "    </tr>\n",
       "    <tr>\n",
       "      <th>1</th>\n",
       "      <td>2020-06-17 23:40:57+00:00</td>\n",
       "      <td>1273400267912785921</td>\n",
       "      <td>i’m done, i’m so tired i want to kill myself</td>\n",
       "      <td>everydaysharpay</td>\n",
       "    </tr>\n",
       "    <tr>\n",
       "      <th>2</th>\n",
       "      <td>2020-06-17 23:39:18+00:00</td>\n",
       "      <td>1273399852320382976</td>\n",
       "      <td>OH MY GOD SOMEONE FUCKING SHOOT ME I WANT TO F...</td>\n",
       "      <td>ChillyIce</td>\n",
       "    </tr>\n",
       "    <tr>\n",
       "      <th>3</th>\n",
       "      <td>2020-06-17 23:09:36+00:00</td>\n",
       "      <td>1273392379664293888</td>\n",
       "      <td>i love black men but i want to be LOVED by a b...</td>\n",
       "      <td>prettykimmie_</td>\n",
       "    </tr>\n",
       "    <tr>\n",
       "      <th>4</th>\n",
       "      <td>2020-06-17 22:57:46+00:00</td>\n",
       "      <td>1273389402539073537</td>\n",
       "      <td>I want to KILL MYSELF</td>\n",
       "      <td>SierraDaOkayest</td>\n",
       "    </tr>\n",
       "  </tbody>\n",
       "</table>\n",
       "</div>"
      ],
      "text/plain": [
       "                   Datetime             Tweet Id  \\\n",
       "0 2020-06-17 23:47:41+00:00  1273401962277548033   \n",
       "1 2020-06-17 23:40:57+00:00  1273400267912785921   \n",
       "2 2020-06-17 23:39:18+00:00  1273399852320382976   \n",
       "3 2020-06-17 23:09:36+00:00  1273392379664293888   \n",
       "4 2020-06-17 22:57:46+00:00  1273389402539073537   \n",
       "\n",
       "                                                Text         Username  \n",
       "0  Me quiero matar con dibujo analítico dios mio ...       Sahily_Ale  \n",
       "1       i’m done, i’m so tired i want to kill myself  everydaysharpay  \n",
       "2  OH MY GOD SOMEONE FUCKING SHOOT ME I WANT TO F...        ChillyIce  \n",
       "3  i love black men but i want to be LOVED by a b...    prettykimmie_  \n",
       "4                              I want to KILL MYSELF  SierraDaOkayest  "
      ]
     },
     "execution_count": 18,
     "metadata": {},
     "output_type": "execute_result"
    }
   ],
   "source": [
    "# Creating a dataframe from the tweets list above\n",
    "tweets_df6 = pd.DataFrame(tweets_list6, columns=['Datetime', 'Tweet Id', 'Text', 'Username'])\n",
    "\n",
    "# Display first 5 entries from dataframe\n",
    "tweets_df6.head()"
   ]
  },
  {
   "cell_type": "code",
   "execution_count": 19,
   "id": "11f9346a",
   "metadata": {},
   "outputs": [
    {
     "data": {
      "text/plain": [
       "(501, 4)"
      ]
     },
     "execution_count": 19,
     "metadata": {},
     "output_type": "execute_result"
    }
   ],
   "source": [
    "tweets_df6.shape"
   ]
  },
  {
   "cell_type": "markdown",
   "id": "aa16b966",
   "metadata": {},
   "source": [
    "#### July 2020"
   ]
  },
  {
   "cell_type": "code",
   "execution_count": 20,
   "id": "e3fb70cf",
   "metadata": {},
   "outputs": [],
   "source": [
    "# Setting variables to be used below\n",
    "maxTweets = 500\n",
    "\n",
    "# Creating list to append tweet data to\n",
    "tweets_list7 = []\n",
    "\n",
    "# Using TwitterSearchScraper to scrape data and append tweets to list\n",
    "for i,tweet in enumerate(sntwitter.TwitterSearchScraper('depressed, suicidal since:2020-07-01 until:2020-07-31').get_items()):\n",
    "    if i>maxTweets:\n",
    "        break\n",
    "    tweets_list7.append([tweet.date, tweet.id, tweet.content, tweet.user.username])"
   ]
  },
  {
   "cell_type": "code",
   "execution_count": 21,
   "id": "1be7ea47",
   "metadata": {},
   "outputs": [
    {
     "data": {
      "text/html": [
       "<div>\n",
       "<style scoped>\n",
       "    .dataframe tbody tr th:only-of-type {\n",
       "        vertical-align: middle;\n",
       "    }\n",
       "\n",
       "    .dataframe tbody tr th {\n",
       "        vertical-align: top;\n",
       "    }\n",
       "\n",
       "    .dataframe thead th {\n",
       "        text-align: right;\n",
       "    }\n",
       "</style>\n",
       "<table border=\"1\" class=\"dataframe\">\n",
       "  <thead>\n",
       "    <tr style=\"text-align: right;\">\n",
       "      <th></th>\n",
       "      <th>Datetime</th>\n",
       "      <th>Tweet Id</th>\n",
       "      <th>Text</th>\n",
       "      <th>Username</th>\n",
       "    </tr>\n",
       "  </thead>\n",
       "  <tbody>\n",
       "    <tr>\n",
       "      <th>0</th>\n",
       "      <td>2020-07-30 23:48:03+00:00</td>\n",
       "      <td>1288984732538155015</td>\n",
       "      <td>Ive been friends with the same girl for 12 yea...</td>\n",
       "      <td>CollinTheThorn</td>\n",
       "    </tr>\n",
       "    <tr>\n",
       "      <th>1</th>\n",
       "      <td>2020-07-30 23:47:39+00:00</td>\n",
       "      <td>1288984634869547011</td>\n",
       "      <td>you ever do that thing where you spent your fo...</td>\n",
       "      <td>GameOfColognes</td>\n",
       "    </tr>\n",
       "    <tr>\n",
       "      <th>2</th>\n",
       "      <td>2020-07-30 23:42:26+00:00</td>\n",
       "      <td>1288983320806789121</td>\n",
       "      <td>@NicoIate Depressed and probably suicidal adul...</td>\n",
       "      <td>brincedelu1</td>\n",
       "    </tr>\n",
       "    <tr>\n",
       "      <th>3</th>\n",
       "      <td>2020-07-30 23:34:50+00:00</td>\n",
       "      <td>1288981407801528322</td>\n",
       "      <td>@John22A all sonic twitter accounts are suicid...</td>\n",
       "      <td>BigBossMuzan</td>\n",
       "    </tr>\n",
       "    <tr>\n",
       "      <th>4</th>\n",
       "      <td>2020-07-30 23:26:04+00:00</td>\n",
       "      <td>1288979202906165249</td>\n",
       "      <td>Ok y’all so after I lost my twitter, it seemed...</td>\n",
       "      <td>kaykachingwe</td>\n",
       "    </tr>\n",
       "  </tbody>\n",
       "</table>\n",
       "</div>"
      ],
      "text/plain": [
       "                   Datetime             Tweet Id  \\\n",
       "0 2020-07-30 23:48:03+00:00  1288984732538155015   \n",
       "1 2020-07-30 23:47:39+00:00  1288984634869547011   \n",
       "2 2020-07-30 23:42:26+00:00  1288983320806789121   \n",
       "3 2020-07-30 23:34:50+00:00  1288981407801528322   \n",
       "4 2020-07-30 23:26:04+00:00  1288979202906165249   \n",
       "\n",
       "                                                Text        Username  \n",
       "0  Ive been friends with the same girl for 12 yea...  CollinTheThorn  \n",
       "1  you ever do that thing where you spent your fo...  GameOfColognes  \n",
       "2  @NicoIate Depressed and probably suicidal adul...     brincedelu1  \n",
       "3  @John22A all sonic twitter accounts are suicid...    BigBossMuzan  \n",
       "4  Ok y’all so after I lost my twitter, it seemed...    kaykachingwe  "
      ]
     },
     "execution_count": 21,
     "metadata": {},
     "output_type": "execute_result"
    }
   ],
   "source": [
    "# Creating a dataframe from the tweets list above\n",
    "tweets_df7 = pd.DataFrame(tweets_list7, columns=['Datetime', 'Tweet Id', 'Text', 'Username'])\n",
    "\n",
    "# Display first 5 entries from dataframe\n",
    "tweets_df7.head()"
   ]
  },
  {
   "cell_type": "code",
   "execution_count": 22,
   "id": "5b14fee8",
   "metadata": {},
   "outputs": [
    {
     "data": {
      "text/plain": [
       "(501, 4)"
      ]
     },
     "execution_count": 22,
     "metadata": {},
     "output_type": "execute_result"
    }
   ],
   "source": [
    "tweets_df7.shape"
   ]
  },
  {
   "cell_type": "markdown",
   "id": "faca31aa",
   "metadata": {},
   "source": [
    "#### August 2020"
   ]
  },
  {
   "cell_type": "code",
   "execution_count": 23,
   "id": "3a0de63a",
   "metadata": {},
   "outputs": [],
   "source": [
    "# Setting variables to be used below\n",
    "maxTweets = 500\n",
    "\n",
    "# Creating list to append tweet data to\n",
    "tweets_list8 = []\n",
    "\n",
    "# Using TwitterSearchScraper to scrape data and append tweets to list\n",
    "for i,tweet in enumerate(sntwitter.TwitterSearchScraper('no one cares, suicidal since:2020-08-01 until:2020-08-31').get_items()):\n",
    "    if i>maxTweets:\n",
    "        break\n",
    "    tweets_list8.append([tweet.date, tweet.id, tweet.content, tweet.user.username])"
   ]
  },
  {
   "cell_type": "code",
   "execution_count": 24,
   "id": "743189a5",
   "metadata": {},
   "outputs": [
    {
     "data": {
      "text/html": [
       "<div>\n",
       "<style scoped>\n",
       "    .dataframe tbody tr th:only-of-type {\n",
       "        vertical-align: middle;\n",
       "    }\n",
       "\n",
       "    .dataframe tbody tr th {\n",
       "        vertical-align: top;\n",
       "    }\n",
       "\n",
       "    .dataframe thead th {\n",
       "        text-align: right;\n",
       "    }\n",
       "</style>\n",
       "<table border=\"1\" class=\"dataframe\">\n",
       "  <thead>\n",
       "    <tr style=\"text-align: right;\">\n",
       "      <th></th>\n",
       "      <th>Datetime</th>\n",
       "      <th>Tweet Id</th>\n",
       "      <th>Text</th>\n",
       "      <th>Username</th>\n",
       "    </tr>\n",
       "  </thead>\n",
       "  <tbody>\n",
       "    <tr>\n",
       "      <th>0</th>\n",
       "      <td>2020-08-30 23:13:10+00:00</td>\n",
       "      <td>1300209977420849152</td>\n",
       "      <td>i’m suicidal no one cares what’s new</td>\n",
       "      <td>PSYCH0ANNA</td>\n",
       "    </tr>\n",
       "    <tr>\n",
       "      <th>1</th>\n",
       "      <td>2020-08-30 12:49:42+00:00</td>\n",
       "      <td>1300053078020743168</td>\n",
       "      <td>tw// suicidal thoughts\\n\\ni wanna end it all r...</td>\n",
       "      <td>roseyyummy</td>\n",
       "    </tr>\n",
       "    <tr>\n",
       "      <th>2</th>\n",
       "      <td>2020-08-30 07:03:34+00:00</td>\n",
       "      <td>1299965970685935616</td>\n",
       "      <td>i sit here daily with suicidal thoughts, depre...</td>\n",
       "      <td>_dobbyhoon</td>\n",
       "    </tr>\n",
       "    <tr>\n",
       "      <th>3</th>\n",
       "      <td>2020-08-30 04:55:34+00:00</td>\n",
       "      <td>1299933760884895747</td>\n",
       "      <td>No one knows how deep and vivid my suicidal id...</td>\n",
       "      <td>Isaac84681896</td>\n",
       "    </tr>\n",
       "    <tr>\n",
       "      <th>4</th>\n",
       "      <td>2020-08-30 04:29:38+00:00</td>\n",
       "      <td>1299927234673664003</td>\n",
       "      <td>Why can't alive person can  have justice in ou...</td>\n",
       "      <td>Saurabs90579952</td>\n",
       "    </tr>\n",
       "  </tbody>\n",
       "</table>\n",
       "</div>"
      ],
      "text/plain": [
       "                   Datetime             Tweet Id  \\\n",
       "0 2020-08-30 23:13:10+00:00  1300209977420849152   \n",
       "1 2020-08-30 12:49:42+00:00  1300053078020743168   \n",
       "2 2020-08-30 07:03:34+00:00  1299965970685935616   \n",
       "3 2020-08-30 04:55:34+00:00  1299933760884895747   \n",
       "4 2020-08-30 04:29:38+00:00  1299927234673664003   \n",
       "\n",
       "                                                Text         Username  \n",
       "0               i’m suicidal no one cares what’s new       PSYCH0ANNA  \n",
       "1  tw// suicidal thoughts\\n\\ni wanna end it all r...       roseyyummy  \n",
       "2  i sit here daily with suicidal thoughts, depre...       _dobbyhoon  \n",
       "3  No one knows how deep and vivid my suicidal id...    Isaac84681896  \n",
       "4  Why can't alive person can  have justice in ou...  Saurabs90579952  "
      ]
     },
     "execution_count": 24,
     "metadata": {},
     "output_type": "execute_result"
    }
   ],
   "source": [
    "# Creating a dataframe from the tweets list above\n",
    "tweets_df8 = pd.DataFrame(tweets_list8, columns=['Datetime', 'Tweet Id', 'Text', 'Username'])\n",
    "\n",
    "# Display first 5 entries from dataframe\n",
    "tweets_df8.head()"
   ]
  },
  {
   "cell_type": "code",
   "execution_count": 25,
   "id": "2d226e6c",
   "metadata": {},
   "outputs": [
    {
     "data": {
      "text/plain": [
       "(67, 4)"
      ]
     },
     "execution_count": 25,
     "metadata": {},
     "output_type": "execute_result"
    }
   ],
   "source": [
    "tweets_df8.shape"
   ]
  },
  {
   "cell_type": "markdown",
   "id": "1ce8ff6e",
   "metadata": {},
   "source": [
    "## Non-suicide Posts"
   ]
  },
  {
   "cell_type": "markdown",
   "id": "0a0b2a0d",
   "metadata": {},
   "source": [
    "#### January 2020"
   ]
  },
  {
   "cell_type": "code",
   "execution_count": 26,
   "id": "996461b6",
   "metadata": {},
   "outputs": [],
   "source": [
    "# Setting variables to be used below\n",
    "maxTweets = 580\n",
    "\n",
    "# Creating list to append tweet data to\n",
    "tweets_list9 = []\n",
    "\n",
    "# Using TwitterSearchScraper to scrape data and append tweets to list\n",
    "for i,tweet in enumerate(sntwitter.TwitterSearchScraper('you since:2020-01-12 until:2020-01-18').get_items()):\n",
    "    if i>maxTweets:\n",
    "        break\n",
    "    tweets_list9.append([tweet.date, tweet.id, tweet.content, tweet.user.username])"
   ]
  },
  {
   "cell_type": "code",
   "execution_count": 27,
   "id": "4bf25fd0",
   "metadata": {},
   "outputs": [
    {
     "data": {
      "text/html": [
       "<div>\n",
       "<style scoped>\n",
       "    .dataframe tbody tr th:only-of-type {\n",
       "        vertical-align: middle;\n",
       "    }\n",
       "\n",
       "    .dataframe tbody tr th {\n",
       "        vertical-align: top;\n",
       "    }\n",
       "\n",
       "    .dataframe thead th {\n",
       "        text-align: right;\n",
       "    }\n",
       "</style>\n",
       "<table border=\"1\" class=\"dataframe\">\n",
       "  <thead>\n",
       "    <tr style=\"text-align: right;\">\n",
       "      <th></th>\n",
       "      <th>Datetime</th>\n",
       "      <th>Tweet Id</th>\n",
       "      <th>Text</th>\n",
       "      <th>Username</th>\n",
       "    </tr>\n",
       "  </thead>\n",
       "  <tbody>\n",
       "    <tr>\n",
       "      <th>0</th>\n",
       "      <td>2020-01-17 23:59:59+00:00</td>\n",
       "      <td>1218322105693089792</td>\n",
       "      <td>Having wine night with friends and went to gra...</td>\n",
       "      <td>kasedm</td>\n",
       "    </tr>\n",
       "    <tr>\n",
       "      <th>1</th>\n",
       "      <td>2020-01-17 23:59:59+00:00</td>\n",
       "      <td>1218322105693020160</td>\n",
       "      <td>thank you whoever did that, for giving a Sande...</td>\n",
       "      <td>get_it_maggie</td>\n",
       "    </tr>\n",
       "    <tr>\n",
       "      <th>2</th>\n",
       "      <td>2020-01-17 23:59:59+00:00</td>\n",
       "      <td>1218322105621598208</td>\n",
       "      <td>@duckish I hope it's a lovely day filled with ...</td>\n",
       "      <td>wagamama__puu</td>\n",
       "    </tr>\n",
       "    <tr>\n",
       "      <th>3</th>\n",
       "      <td>2020-01-17 23:59:59+00:00</td>\n",
       "      <td>1218322105575493632</td>\n",
       "      <td>@Fib_Art Worse than you think baybe!!! Cant ev...</td>\n",
       "      <td>Danktapus</td>\n",
       "    </tr>\n",
       "    <tr>\n",
       "      <th>4</th>\n",
       "      <td>2020-01-17 23:59:59+00:00</td>\n",
       "      <td>1218322105525264396</td>\n",
       "      <td>@StevieDerrick_ Wtf you mean 😩😩😩😩 don’t it com...</td>\n",
       "      <td>whatsteabih</td>\n",
       "    </tr>\n",
       "  </tbody>\n",
       "</table>\n",
       "</div>"
      ],
      "text/plain": [
       "                   Datetime             Tweet Id  \\\n",
       "0 2020-01-17 23:59:59+00:00  1218322105693089792   \n",
       "1 2020-01-17 23:59:59+00:00  1218322105693020160   \n",
       "2 2020-01-17 23:59:59+00:00  1218322105621598208   \n",
       "3 2020-01-17 23:59:59+00:00  1218322105575493632   \n",
       "4 2020-01-17 23:59:59+00:00  1218322105525264396   \n",
       "\n",
       "                                                Text       Username  \n",
       "0  Having wine night with friends and went to gra...         kasedm  \n",
       "1  thank you whoever did that, for giving a Sande...  get_it_maggie  \n",
       "2  @duckish I hope it's a lovely day filled with ...  wagamama__puu  \n",
       "3  @Fib_Art Worse than you think baybe!!! Cant ev...      Danktapus  \n",
       "4  @StevieDerrick_ Wtf you mean 😩😩😩😩 don’t it com...    whatsteabih  "
      ]
     },
     "execution_count": 27,
     "metadata": {},
     "output_type": "execute_result"
    }
   ],
   "source": [
    "# Creating a dataframe from the tweets list above\n",
    "tweets_df9 = pd.DataFrame(tweets_list9, columns=['Datetime', 'Tweet Id', 'Text', 'Username'])\n",
    "\n",
    "# Display first 5 entries from dataframe\n",
    "tweets_df9.head()"
   ]
  },
  {
   "cell_type": "code",
   "execution_count": 28,
   "id": "47bbd03b",
   "metadata": {},
   "outputs": [
    {
     "data": {
      "text/plain": [
       "(581, 4)"
      ]
     },
     "execution_count": 28,
     "metadata": {},
     "output_type": "execute_result"
    }
   ],
   "source": [
    "tweets_df9.shape"
   ]
  },
  {
   "cell_type": "markdown",
   "id": "eb9cdce7",
   "metadata": {},
   "source": [
    "#### Feburary 2020"
   ]
  },
  {
   "cell_type": "code",
   "execution_count": 29,
   "id": "c9edeb83",
   "metadata": {},
   "outputs": [],
   "source": [
    "# Setting variables to be used below\n",
    "maxTweets = 580\n",
    "\n",
    "# Creating list to append tweet data to\n",
    "tweets_list10 = []\n",
    "\n",
    "# Using TwitterSearchScraper to scrape data and append tweets to list\n",
    "for i,tweet in enumerate(sntwitter.TwitterSearchScraper('come since:2020-02-12 until:2020-02-18').get_items()):\n",
    "    if i>maxTweets:\n",
    "        break\n",
    "    tweets_list10.append([tweet.date, tweet.id, tweet.content, tweet.user.username])"
   ]
  },
  {
   "cell_type": "code",
   "execution_count": 30,
   "id": "5c1b5603",
   "metadata": {
    "scrolled": true
   },
   "outputs": [
    {
     "data": {
      "text/html": [
       "<div>\n",
       "<style scoped>\n",
       "    .dataframe tbody tr th:only-of-type {\n",
       "        vertical-align: middle;\n",
       "    }\n",
       "\n",
       "    .dataframe tbody tr th {\n",
       "        vertical-align: top;\n",
       "    }\n",
       "\n",
       "    .dataframe thead th {\n",
       "        text-align: right;\n",
       "    }\n",
       "</style>\n",
       "<table border=\"1\" class=\"dataframe\">\n",
       "  <thead>\n",
       "    <tr style=\"text-align: right;\">\n",
       "      <th></th>\n",
       "      <th>Datetime</th>\n",
       "      <th>Tweet Id</th>\n",
       "      <th>Text</th>\n",
       "      <th>Username</th>\n",
       "    </tr>\n",
       "  </thead>\n",
       "  <tbody>\n",
       "    <tr>\n",
       "      <th>0</th>\n",
       "      <td>2020-02-17 23:59:59+00:00</td>\n",
       "      <td>1229556128989794307</td>\n",
       "      <td>@realDonaldTrump Happy Presidents day. You kee...</td>\n",
       "      <td>danimal09752</td>\n",
       "    </tr>\n",
       "    <tr>\n",
       "      <th>1</th>\n",
       "      <td>2020-02-17 23:59:59+00:00</td>\n",
       "      <td>1229556127542759424</td>\n",
       "      <td>going live in the lab with some @DeadByBHVR  c...</td>\n",
       "      <td>MarikinsElena</td>\n",
       "    </tr>\n",
       "    <tr>\n",
       "      <th>2</th>\n",
       "      <td>2020-02-17 23:59:59+00:00</td>\n",
       "      <td>1229556127400177664</td>\n",
       "      <td>@island_dre Nah Vybz Kartel - Come home</td>\n",
       "      <td>foreverkeishaa</td>\n",
       "    </tr>\n",
       "    <tr>\n",
       "      <th>3</th>\n",
       "      <td>2020-02-17 23:59:59+00:00</td>\n",
       "      <td>1229556127349825540</td>\n",
       "      <td>@heyimdais we may not come when you want but b...</td>\n",
       "      <td>nickktheequickk</td>\n",
       "    </tr>\n",
       "    <tr>\n",
       "      <th>4</th>\n",
       "      <td>2020-02-17 23:59:59+00:00</td>\n",
       "      <td>1229556126066388999</td>\n",
       "      <td>I’m live right now! Come hangout and chill wit...</td>\n",
       "      <td>AvidshredZ</td>\n",
       "    </tr>\n",
       "  </tbody>\n",
       "</table>\n",
       "</div>"
      ],
      "text/plain": [
       "                   Datetime             Tweet Id  \\\n",
       "0 2020-02-17 23:59:59+00:00  1229556128989794307   \n",
       "1 2020-02-17 23:59:59+00:00  1229556127542759424   \n",
       "2 2020-02-17 23:59:59+00:00  1229556127400177664   \n",
       "3 2020-02-17 23:59:59+00:00  1229556127349825540   \n",
       "4 2020-02-17 23:59:59+00:00  1229556126066388999   \n",
       "\n",
       "                                                Text         Username  \n",
       "0  @realDonaldTrump Happy Presidents day. You kee...     danimal09752  \n",
       "1  going live in the lab with some @DeadByBHVR  c...    MarikinsElena  \n",
       "2            @island_dre Nah Vybz Kartel - Come home   foreverkeishaa  \n",
       "3  @heyimdais we may not come when you want but b...  nickktheequickk  \n",
       "4  I’m live right now! Come hangout and chill wit...       AvidshredZ  "
      ]
     },
     "execution_count": 30,
     "metadata": {},
     "output_type": "execute_result"
    }
   ],
   "source": [
    "# Creating a dataframe from the tweets list above\n",
    "tweets_df10 = pd.DataFrame(tweets_list10, columns=['Datetime', 'Tweet Id', 'Text', 'Username'])\n",
    "\n",
    "# Display first 5 entries from dataframe\n",
    "tweets_df10.head()"
   ]
  },
  {
   "cell_type": "code",
   "execution_count": 31,
   "id": "c528edb3",
   "metadata": {},
   "outputs": [
    {
     "data": {
      "text/plain": [
       "(581, 4)"
      ]
     },
     "execution_count": 31,
     "metadata": {},
     "output_type": "execute_result"
    }
   ],
   "source": [
    "tweets_df10.shape"
   ]
  },
  {
   "cell_type": "code",
   "execution_count": 32,
   "id": "59062a2d",
   "metadata": {},
   "outputs": [],
   "source": [
    "NS_tweets_merged = pd.concat([tweets_df9, tweets_df10], ignore_index = True)"
   ]
  },
  {
   "cell_type": "code",
   "execution_count": 33,
   "id": "1478e5d1",
   "metadata": {},
   "outputs": [
    {
     "data": {
      "text/plain": [
       "(1162, 4)"
      ]
     },
     "execution_count": 33,
     "metadata": {},
     "output_type": "execute_result"
    }
   ],
   "source": [
    "NS_tweets_merged.shape"
   ]
  },
  {
   "cell_type": "code",
   "execution_count": 34,
   "id": "b4d3289d",
   "metadata": {},
   "outputs": [],
   "source": [
    "# exporting\n",
    "NS_tweets_merged.to_csv('../data/NS_tweets_merged.csv', index = False)"
   ]
  },
  {
   "cell_type": "markdown",
   "id": "63e4e6fd",
   "metadata": {},
   "source": [
    "#### Combining"
   ]
  },
  {
   "cell_type": "code",
   "execution_count": 35,
   "id": "11b8472f",
   "metadata": {},
   "outputs": [],
   "source": [
    "# Combining the data set\n",
    "tweets_merged = pd.concat([tweets_df1, tweets_df2, \n",
    "                           tweets_df3, tweets_df4, \n",
    "                           tweets_df5, tweets_df6,\n",
    "                           tweets_df7, tweets_df8,\n",
    "                           tweets_df9, tweets_df10], ignore_index = True)"
   ]
  },
  {
   "cell_type": "code",
   "execution_count": 36,
   "id": "223ceaf9",
   "metadata": {},
   "outputs": [
    {
     "data": {
      "text/plain": [
       "(4251, 4)"
      ]
     },
     "execution_count": 36,
     "metadata": {},
     "output_type": "execute_result"
    }
   ],
   "source": [
    "tweets_merged.shape"
   ]
  },
  {
   "cell_type": "code",
   "execution_count": 37,
   "id": "c61b5ca9",
   "metadata": {},
   "outputs": [
    {
     "name": "stdout",
     "output_type": "stream",
     "text": [
      "<class 'pandas.core.frame.DataFrame'>\n",
      "RangeIndex: 4251 entries, 0 to 4250\n",
      "Data columns (total 4 columns):\n",
      " #   Column    Non-Null Count  Dtype              \n",
      "---  ------    --------------  -----              \n",
      " 0   Datetime  4251 non-null   datetime64[ns, UTC]\n",
      " 1   Tweet Id  4251 non-null   int64              \n",
      " 2   Text      4251 non-null   object             \n",
      " 3   Username  4251 non-null   object             \n",
      "dtypes: datetime64[ns, UTC](1), int64(1), object(2)\n",
      "memory usage: 133.0+ KB\n"
     ]
    }
   ],
   "source": [
    "tweets_merged.info()"
   ]
  },
  {
   "cell_type": "code",
   "execution_count": 38,
   "id": "147f469b",
   "metadata": {},
   "outputs": [],
   "source": [
    "# exporting \n",
    "tweets_merged.to_csv('../data/tweets_merged_Final.csv', index = False)"
   ]
  },
  {
   "cell_type": "code",
   "execution_count": null,
   "id": "3a74bd78",
   "metadata": {},
   "outputs": [],
   "source": []
  },
  {
   "cell_type": "code",
   "execution_count": null,
   "id": "c6554246",
   "metadata": {},
   "outputs": [],
   "source": []
  }
 ],
 "metadata": {
  "kernelspec": {
   "display_name": "Python 3",
   "language": "python",
   "name": "python3"
  },
  "language_info": {
   "codemirror_mode": {
    "name": "ipython",
    "version": 3
   },
   "file_extension": ".py",
   "mimetype": "text/x-python",
   "name": "python",
   "nbconvert_exporter": "python",
   "pygments_lexer": "ipython3",
   "version": "3.8.8"
  }
 },
 "nbformat": 4,
 "nbformat_minor": 5
}
